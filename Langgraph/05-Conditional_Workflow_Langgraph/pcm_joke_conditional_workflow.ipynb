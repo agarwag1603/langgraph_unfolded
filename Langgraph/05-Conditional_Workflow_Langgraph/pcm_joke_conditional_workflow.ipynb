{
 "cells": [
  {
   "cell_type": "markdown",
   "metadata": {},
   "source": [
    "## Added conditional logic to decide which node to call. The sample here is a joke generator on physics/math/chemistry based on the subject user provides. A conditional logic decide which node is to be called based on right subject."
   ]
  },
  {
   "cell_type": "code",
   "execution_count": 18,
   "metadata": {},
   "outputs": [
    {
     "data": {
      "text/plain": [
       "True"
      ]
     },
     "execution_count": 18,
     "metadata": {},
     "output_type": "execute_result"
    }
   ],
   "source": [
    "from typing import TypedDict, Literal\n",
    "from langgraph.graph import START,END,StateGraph\n",
    "from langchain_openai import ChatOpenAI\n",
    "from dotenv import load_dotenv\n",
    "from IPython.display import Image, display\n",
    "from pydantic import BaseModel, Field\n",
    "\n",
    "load_dotenv()"
   ]
  },
  {
   "cell_type": "code",
   "execution_count": 19,
   "metadata": {},
   "outputs": [],
   "source": [
    "gpt_llm= ChatOpenAI(model=\"gpt-4o-mini\")\n"
   ]
  },
  {
   "cell_type": "markdown",
   "metadata": {},
   "source": [
    "## Using pydantic to decide the subject type"
   ]
  },
  {
   "cell_type": "code",
   "execution_count": 20,
   "metadata": {},
   "outputs": [],
   "source": [
    "class Subject(BaseModel):\n",
    "    subject_type: Literal[\"Physics\",\"Maths\",\"Chemistry\"] = Field(description=\"This is to define the subject of the topic\")"
   ]
  },
  {
   "cell_type": "markdown",
   "metadata": {},
   "source": [
    "## Using structured output to get the pydantic output as desired"
   ]
  },
  {
   "cell_type": "code",
   "execution_count": 21,
   "metadata": {},
   "outputs": [],
   "source": [
    "structured_model=gpt_llm.with_structured_output(Subject)"
   ]
  },
  {
   "cell_type": "markdown",
   "metadata": {},
   "source": [
    "## Joke state"
   ]
  },
  {
   "cell_type": "code",
   "execution_count": 22,
   "metadata": {},
   "outputs": [],
   "source": [
    "class JokeExpert(TypedDict):\n",
    "    topic: str\n",
    "    final_joke: str\n",
    "    numoflines: int\n",
    "    subject_type: str"
   ]
  },
  {
   "cell_type": "code",
   "execution_count": 23,
   "metadata": {},
   "outputs": [],
   "source": [
    "def physics_joke(state: JokeExpert)-> JokeExpert:\n",
    "    topic= state['topic']\n",
    "    numoflines= state['numoflines']\n",
    "    prompt=f\"You are a physics joke comedian, your end goal is to make a joke of the topic: \\n {topic} in {numoflines} lines.\"\n",
    "    physics_joke=gpt_llm.invoke(prompt)\n",
    "\n",
    "    return {\"final_joke\":physics_joke}\n",
    "\n"
   ]
  },
  {
   "cell_type": "code",
   "execution_count": 24,
   "metadata": {},
   "outputs": [],
   "source": [
    "def math_joke(state: JokeExpert)-> JokeExpert:\n",
    "    topic= state['topic']\n",
    "    numoflines= state['numoflines']\n",
    "    prompt=f\"You are a math joke comedian, your end goal is to make a joke of the topic: \\n {topic} in {numoflines} lines.\"\n",
    "    math_joke=gpt_llm.invoke(prompt)\n",
    "\n",
    "    return {\"final_joke\":math_joke}\n",
    "\n"
   ]
  },
  {
   "cell_type": "code",
   "execution_count": 25,
   "metadata": {},
   "outputs": [],
   "source": [
    "def chemistry_joke(state: JokeExpert)-> JokeExpert:\n",
    "    topic= state['topic']\n",
    "    numoflines= state['numoflines']\n",
    "    prompt=f\"You are a chemistry joke comedian, your end goal is to make a joke of the topic: \\n {topic} in {numoflines} lines.\"\n",
    "    chemistry_joke=gpt_llm.invoke(prompt)\n",
    "\n",
    "    return {\"final_joke\":chemistry_joke}\n",
    "\n"
   ]
  },
  {
   "cell_type": "code",
   "execution_count": 26,
   "metadata": {},
   "outputs": [],
   "source": [
    "def subject_checker(state: JokeExpert) -> JokeExpert:\n",
    "    topic=state['topic']\n",
    "    prompt=f\"You are subject matter checker, you should be able to classify the topic given by the users: {topic}\"\n",
    "    output=structured_model.invoke(prompt)\n",
    "    return {\"subject_type\":output}"
   ]
  },
  {
   "cell_type": "markdown",
   "metadata": {},
   "source": [
    "## Joke condition to execute the desired joke node"
   ]
  },
  {
   "cell_type": "code",
   "execution_count": 27,
   "metadata": {},
   "outputs": [],
   "source": [
    "def subject_condition(state: JokeExpert) -> Literal[\"physics_joke\",\"math_joke\",\"chemistry_joke\"]:\n",
    "    if state[\"subject_type\"]==\"Physics\":\n",
    "        return \"physics_joke\"\n",
    "    elif state[\"subject_type\"]==\"Maths\":\n",
    "        return \"math_joke\"\n",
    "    else:\n",
    "        return \"chemistry_joke\""
   ]
  },
  {
   "cell_type": "code",
   "execution_count": 28,
   "metadata": {},
   "outputs": [],
   "source": [
    "graph=StateGraph(JokeExpert)\n",
    "\n",
    "graph.add_node(\"physics_joke\",physics_joke)\n",
    "graph.add_node(\"math_joke\",math_joke)\n",
    "graph.add_node(\"chemistry_joke\",chemistry_joke)\n",
    "graph.add_node(\"subject_checker\",subject_checker)\n",
    "\n",
    "graph.add_edge(START, \"subject_checker\")\n",
    "graph.add_conditional_edges(\"subject_checker\",subject_condition)\n",
    "graph.add_edge(\"physics_joke\", END)\n",
    "graph.add_edge(\"math_joke\", END)\n",
    "graph.add_edge(\"physics_joke\", END)\n",
    "\n",
    "workflow=graph.compile()"
   ]
  },
  {
   "cell_type": "code",
   "execution_count": 29,
   "metadata": {},
   "outputs": [
    {
     "data": {
      "image/png": "[encoded data removed]",
      "text/plain": [
       "<IPython.core.display.Image object>"
      ]
     },
     "metadata": {},
     "output_type": "display_data"
    }
   ],
   "source": [
    "display(Image(workflow.get_graph().draw_mermaid_png()))"
   ]
  },
  {
   "cell_type": "code",
   "execution_count": 30,
   "metadata": {},
   "outputs": [],
   "source": [
    "final_state=workflow.invoke({\"topic\":\"Algebra\",\"numoflines\":5})"
   ]
  },
  {
   "cell_type": "code",
   "execution_count": 31,
   "metadata": {},
   "outputs": [
    {
     "data": {
      "text/plain": [
       "{'topic': 'Algebra',\n",
       " 'final_joke': AIMessage(content=\"Why did the chemist break up with algebra?  \\nBecause he couldn't find his x!  \\nHe thought their relationship was stable,  \\nBut she kept changing all the variables,  \\nAnd he just wanted to focus on his reactions!\", additional_kwargs={'refusal': None}, response_metadata={'token_usage': {'completion_tokens': 46, 'prompt_tokens': 33, 'total_tokens': 79, 'completion_tokens_details': {'accepted_prediction_tokens': 0, 'audio_tokens': 0, 'reasoning_tokens': 0, 'rejected_prediction_tokens': 0}, 'prompt_tokens_details': {'audio_tokens': 0, 'cached_tokens': 0}}, 'model_name': 'gpt-4o-mini-2024-07-18', 'system_fingerprint': 'fp_560af6e559', 'id': 'chatcmpl-CPoVKyWTC3DKQgUEqvDvuaFY8hxwZ', 'service_tier': 'default', 'finish_reason': 'stop', 'logprobs': None}, id='run--7cb65577-e939-4536-95b9-b5d36caefa78-0', usage_metadata={'input_tokens': 33, 'output_tokens': 46, 'total_tokens': 79, 'input_token_details': {'audio': 0, 'cache_read': 0}, 'output_token_details': {'audio': 0, 'reasoning': 0}}),\n",
       " 'numoflines': 5,\n",
       " 'subject_type': Subject(subject_type='Maths')}"
      ]
     },
     "execution_count": 31,
     "metadata": {},
     "output_type": "execute_result"
    }
   ],
   "source": [
    "final_state"
   ]
  },
  {
   "cell_type": "code",
   "execution_count": 32,
   "metadata": {},
   "outputs": [],
   "source": [
    "final_state=workflow.invoke({\"topic\":\"Oxygen\",\"numoflines\":5})"
   ]
  },
  {
   "cell_type": "code",
   "execution_count": 33,
   "metadata": {},
   "outputs": [
    {
     "data": {
      "text/plain": [
       "{'topic': 'Oxygen',\n",
       " 'final_joke': AIMessage(content='Why did the oxygen molecule break up with sodium?  \\nBecause it found out sodium was too salty!  \\nOxygen wanted someone who’d lift it up, not make it feel down.  \\nSo it went dancing with hydrogen, and they formed a bond!  \\nNow they’re always together — just a little too reactive for my taste!', additional_kwargs={'refusal': None}, response_metadata={'token_usage': {'completion_tokens': 67, 'prompt_tokens': 33, 'total_tokens': 100, 'completion_tokens_details': {'accepted_prediction_tokens': 0, 'audio_tokens': 0, 'reasoning_tokens': 0, 'rejected_prediction_tokens': 0}, 'prompt_tokens_details': {'audio_tokens': 0, 'cached_tokens': 0}}, 'model_name': 'gpt-4o-mini-2024-07-18', 'system_fingerprint': 'fp_560af6e559', 'id': 'chatcmpl-CPoVN1TIgLvKArcKcYDohTBkmVRNW', 'service_tier': 'default', 'finish_reason': 'stop', 'logprobs': None}, id='run--7fd1cb98-ec27-4420-99d8-c6ebde4d9e75-0', usage_metadata={'input_tokens': 33, 'output_tokens': 67, 'total_tokens': 100, 'input_token_details': {'audio': 0, 'cache_read': 0}, 'output_token_details': {'audio': 0, 'reasoning': 0}}),\n",
       " 'numoflines': 5,\n",
       " 'subject_type': Subject(subject_type='Chemistry')}"
      ]
     },
     "execution_count": 33,
     "metadata": {},
     "output_type": "execute_result"
    }
   ],
   "source": [
    "final_state"
   ]
  },
  {
   "cell_type": "code",
   "execution_count": 34,
   "metadata": {},
   "outputs": [
    {
     "data": {
      "text/plain": [
       "{'topic': 'Alkaline',\n",
       " 'final_joke': AIMessage(content=\"Why did the alkaline solution break up with the acidic solution?  \\nBecause it found the relationship too reactive!  \\nThey just couldn't find a neutral ground.  \\nNow it's bubbling with excitement, feeling so high on pH!  \\nTalk about a chemistry of happiness!\", additional_kwargs={'refusal': None}, response_metadata={'token_usage': {'completion_tokens': 52, 'prompt_tokens': 35, 'total_tokens': 87, 'completion_tokens_details': {'accepted_prediction_tokens': 0, 'audio_tokens': 0, 'reasoning_tokens': 0, 'rejected_prediction_tokens': 0}, 'prompt_tokens_details': {'audio_tokens': 0, 'cached_tokens': 0}}, 'model_name': 'gpt-4o-mini-2024-07-18', 'system_fingerprint': 'fp_560af6e559', 'id': 'chatcmpl-CPoVW6S67VmuwvJC1v5t8DyoU1eb6', 'service_tier': 'default', 'finish_reason': 'stop', 'logprobs': None}, id='run--e397789a-9f6f-41f7-acc2-1191607beaf9-0', usage_metadata={'input_tokens': 35, 'output_tokens': 52, 'total_tokens': 87, 'input_token_details': {'audio': 0, 'cache_read': 0}, 'output_token_details': {'audio': 0, 'reasoning': 0}}),\n",
       " 'numoflines': 5,\n",
       " 'subject_type': Subject(subject_type='Chemistry')}"
      ]
     },
     "execution_count": 34,
     "metadata": {},
     "output_type": "execute_result"
    }
   ],
   "source": [
    "final_state=workflow.invoke({\"topic\":\"Alkaline\",\"numoflines\":5})\n",
    "final_state"
   ]
  }
 ],
 "metadata": {
  "kernelspec": {
   "display_name": "ai_practice",
   "language": "python",
   "name": "python3"
  },
  "language_info": {
   "codemirror_mode": {
    "name": "ipython",
    "version": 3
   },
   "file_extension": ".py",
   "mimetype": "text/x-python",
   "name": "python",
   "nbconvert_exporter": "python",
   "pygments_lexer": "ipython3",
   "version": "3.13.7"
  }
 },
 "nbformat": 4,
 "nbformat_minor": 2
}
