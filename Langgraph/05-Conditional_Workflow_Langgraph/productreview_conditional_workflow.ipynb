{
 "cells": [
  {
   "cell_type": "markdown",
   "metadata": {},
   "source": [
    "## Conditional workflow which detects the customer review for sentiment analysis and responds based on positive or negative feedback"
   ]
  },
  {
   "cell_type": "code",
   "execution_count": 103,
   "metadata": {},
   "outputs": [
    {
     "data": {
      "text/plain": [
       "True"
      ]
     },
     "execution_count": 103,
     "metadata": {},
     "output_type": "execute_result"
    }
   ],
   "source": [
    "from typing import TypedDict, Literal\n",
    "from langgraph.graph import START,END,StateGraph\n",
    "from langchain_openai import ChatOpenAI\n",
    "from dotenv import load_dotenv\n",
    "from IPython.display import Image, display\n",
    "from pydantic import BaseModel, Field\n",
    "\n",
    "load_dotenv()"
   ]
  },
  {
   "cell_type": "code",
   "execution_count": 104,
   "metadata": {},
   "outputs": [],
   "source": [
    "gpt_llm= ChatOpenAI(model=\"gpt-4o-mini\")"
   ]
  },
  {
   "cell_type": "markdown",
   "metadata": {},
   "source": [
    "## Pydantic to find the sentiment as positive or negative"
   ]
  },
  {
   "cell_type": "code",
   "execution_count": 105,
   "metadata": {},
   "outputs": [],
   "source": [
    "class Review(BaseModel):\n",
    "    sentiment: Literal[\"Positive\",\"Negative\"] = Field(description=\"Review of the product in Positive and Negative\")"
   ]
  },
  {
   "cell_type": "markdown",
   "metadata": {},
   "source": [
    "## Pydantic to find the issue type, tone, urgency"
   ]
  },
  {
   "cell_type": "code",
   "execution_count": 106,
   "metadata": {},
   "outputs": [],
   "source": [
    "class IssueClassifier(BaseModel):\n",
    "    issue_type: str = Field(description=\"Issue type is the issue description\")\n",
    "    tone: Literal[\"Hard\",\"Mild\",\"Soft\"] =  Field(description=\"Tone is the tone of the review\")\n",
    "    urgency: Literal[\"High\",\"Medium\",\"Low\"] =  Field(description=\"Urgency categorization\")"
   ]
  },
  {
   "cell_type": "markdown",
   "metadata": {},
   "source": [
    "## For both pydantic class Review and IssueClassifier, defining the structuredoutput"
   ]
  },
  {
   "cell_type": "code",
   "execution_count": 107,
   "metadata": {},
   "outputs": [],
   "source": [
    "sentiment_model=gpt_llm.with_structured_output(Review)\n",
    "Issue_classifier=gpt_llm.with_structured_output(IssueClassifier)"
   ]
  },
  {
   "cell_type": "code",
   "execution_count": 108,
   "metadata": {},
   "outputs": [],
   "source": [
    "class Product(TypedDict):\n",
    "    product_review: str\n",
    "    product_sentiment: str\n",
    "    reply: str\n",
    "    issue_type: str\n",
    "    tone: str\n",
    "    urgency: str"
   ]
  },
  {
   "cell_type": "code",
   "execution_count": 109,
   "metadata": {},
   "outputs": [],
   "source": [
    "def find_sentiment(state:Product)-> Product:\n",
    "    product_review=state['product_review']\n",
    "    prompt=f\"Help me find the sentiment of the review given by the customer: \\n {product_review}\"\n",
    "    sentiment=sentiment_model.invoke(prompt)\n",
    "    return {'product_sentiment':sentiment}\n"
   ]
  },
  {
   "cell_type": "code",
   "execution_count": 110,
   "metadata": {},
   "outputs": [],
   "source": [
    "def positive_response(state:Product)-> Product:\n",
    "    product_review=state['product_review']\n",
    "    product_sentiment=state['product_sentiment']\n",
    "    prompt=f\"Help me reply to the customer based on the product review: \\n {product_review} and the sentiment of it \\n {product_sentiment}\"\n",
    "    positive_reply=gpt_llm.invoke(prompt)\n",
    "    return {'reply':positive_reply}\n",
    "\n",
    "\n"
   ]
  },
  {
   "cell_type": "code",
   "execution_count": 111,
   "metadata": {},
   "outputs": [],
   "source": [
    "def negative_response(state:Product)-> Product:\n",
    "    product_review=state['product_review']\n",
    "    product_sentiment=state['product_sentiment']\n",
    "    tone=state['tone']\n",
    "    issue_type=state['issue_type']\n",
    "    urgency=state['urgency']\n",
    "\n",
    "    prompt=f\"\"\"Help me reply the customer in a very articulated manner based on the negative product review. Carefully device the apology: \n",
    "    \\n {product_review} and the sentiment of it \\n {product_sentiment}. Do consider these factors for a response. \\n \n",
    "    customer tone: \\n {tone} \\n \n",
    "    Issue type: \\n {issue_type} \\n\n",
    "    urgency: \\n {urgency} \\n\"\"\"\n",
    "    \n",
    "    negative_reply=gpt_llm.invoke(prompt)\n",
    "    return {'reply':negative_reply}"
   ]
  },
  {
   "cell_type": "code",
   "execution_count": 112,
   "metadata": {},
   "outputs": [],
   "source": [
    "def run_dagnosis(state:Product)-> Product:\n",
    "    product_review=state['product_review']\n",
    "    prompt=f\"With the help of product review try getting classifying the issue with Issue_Type, Tone, Urgency of the issue. Product review as below: \\n {product_review}\"\n",
    "    output=Issue_classifier.invoke(prompt)\n",
    "    return {'issue_type':output.issue_type,'tone':output.tone,'urgency':output.urgency}\n",
    "    "
   ]
  },
  {
   "cell_type": "markdown",
   "metadata": {},
   "source": [
    "## Conditional check for positive or negative review - if postive, reply the customer. And if negative run diagnosis"
   ]
  },
  {
   "cell_type": "code",
   "execution_count": 113,
   "metadata": {},
   "outputs": [],
   "source": [
    "def check_sentiment(state:Product)->  Literal[\"positive_response\",\"run_dagnosis\"]:\n",
    "    if state[\"product_sentiment\"] == \"Positive\":\n",
    "        return \"positive_response\"\n",
    "    else:\n",
    "        return \"run_dagnosis\""
   ]
  },
  {
   "cell_type": "code",
   "execution_count": 114,
   "metadata": {},
   "outputs": [],
   "source": [
    "graph=StateGraph(Product)"
   ]
  },
  {
   "cell_type": "code",
   "execution_count": 115,
   "metadata": {},
   "outputs": [],
   "source": [
    "graph.add_node(\"find_sentiment\",find_sentiment)\n",
    "graph.add_node(\"positive_response\",positive_response)\n",
    "graph.add_node(\"negative_response\",negative_response)\n",
    "graph.add_node(\"run_dagnosis\",run_dagnosis)\n",
    "\n",
    "graph.add_edge(START,\"find_sentiment\")\n",
    "graph.add_conditional_edges(\"find_sentiment\",check_sentiment)\n",
    "graph.add_edge(\"positive_response\", END)\n",
    "graph.add_edge(\"run_dagnosis\", \"negative_response\")\n",
    "graph.add_edge(\"negative_response\", END)\n",
    "workflow=graph.compile()\n"
   ]
  },
  {
   "cell_type": "code",
   "execution_count": 116,
   "metadata": {},
   "outputs": [
    {
     "data": {
      "image/png": "[encoded data removed]",
      "text/plain": [
       "<IPython.core.display.Image object>"
      ]
     },
     "metadata": {},
     "output_type": "display_data"
    }
   ],
   "source": [
    "display(Image(workflow.get_graph().draw_mermaid_png()))"
   ]
  },
  {
   "cell_type": "code",
   "execution_count": 117,
   "metadata": {},
   "outputs": [],
   "source": [
    "product_review=\"The software is killing my productive hours. I need this fixed asap\""
   ]
  },
  {
   "cell_type": "code",
   "execution_count": 118,
   "metadata": {},
   "outputs": [
    {
     "data": {
      "text/plain": [
       "{'product_review': 'The software is killing my productive hours. I need this fixed asap',\n",
       " 'product_sentiment': Review(sentiment='Negative'),\n",
       " 'reply': AIMessage(content=\"Subject: We’re Here to Help with Your Software Issue\\n\\nDear [Customer’s Name],\\n\\nThank you for taking the time to share your feedback regarding the challenges you’ve been experiencing with our software. I sincerely apologize for the inconvenience you've encountered and understand how critical it is for your productivity.\\n\\nYour frustration is completely understandable. It is our priority to ensure our software enhances your productivity rather than detracts from it. I want you to know that we are committed to resolving this issue as swiftly as possible.\\n\\nTo expedite the resolution process, could you please provide any specific details about the software performance issues you're facing? This information will help our technical team diagnose the problem more effectively and implement the necessary fixes.\\n\\nThank you for your patience and understanding during this time. We value your business and are dedicated to restoring your productivity. Please reply to this email or reach out to our support team at [support contact information], and we will prioritize your case.\\n\\nBest regards,\\n\\n[Your Name]  \\n[Your Position]  \\n[Your Company]  \\n[Your Contact Information]  \", additional_kwargs={'refusal': None}, response_metadata={'token_usage': {'completion_tokens': 210, 'prompt_tokens': 86, 'total_tokens': 296, 'completion_tokens_details': {'accepted_prediction_tokens': 0, 'audio_tokens': 0, 'reasoning_tokens': 0, 'rejected_prediction_tokens': 0}, 'prompt_tokens_details': {'audio_tokens': 0, 'cached_tokens': 0}}, 'model_name': 'gpt-4o-mini-2024-07-18', 'system_fingerprint': 'fp_51db84afab', 'id': 'chatcmpl-CPm6tZsgXcnVY7diHOTQgTd2148SL', 'service_tier': 'default', 'finish_reason': 'stop', 'logprobs': None}, id='run--c04f3ca5-11c8-4352-a2c2-4dc8f41de69a-0', usage_metadata={'input_tokens': 86, 'output_tokens': 210, 'total_tokens': 296, 'input_token_details': {'audio': 0, 'cache_read': 0}, 'output_token_details': {'audio': 0, 'reasoning': 0}}),\n",
       " 'issue_type': 'Software performance issue impacting productivity',\n",
       " 'tone': 'Hard',\n",
       " 'urgency': 'High'}"
      ]
     },
     "execution_count": 118,
     "metadata": {},
     "output_type": "execute_result"
    }
   ],
   "source": [
    "workflow.invoke({\"product_review\":product_review})"
   ]
  },
  {
   "cell_type": "code",
   "execution_count": null,
   "metadata": {},
   "outputs": [],
   "source": [
    "product_review=\"My graphic card's performance is not up to the mark, but it doesn't cause much of an issue cause I have not been using it\""
   ]
  },
  {
   "cell_type": "code",
   "execution_count": 120,
   "metadata": {},
   "outputs": [
    {
     "data": {
      "text/plain": [
       "{'product_review': \"My graphic card's performance is not up to the mark, but it doesn't cause much of an issue cause I have not been using it\",\n",
       " 'product_sentiment': Review(sentiment='Negative'),\n",
       " 'reply': AIMessage(content=\"Subject: Thank You for Your Feedback\\n\\nDear [Customer's Name],\\n\\nThank you for taking the time to share your thoughts regarding your graphic card experience. We strive to ensure our customers have a seamless experience, and I am truly sorry to hear that the performance has not met your expectations.\\n\\nIt's understandable how disappointing it can be when a product doesn't deliver the expected performance, especially when you haven't had the opportunity to utilize it fully. Your feedback is invaluable in helping us improve our offerings and provide better experiences for all our customers.\\n\\nIf there's anything specific you'd like to discuss further or if you have any questions regarding the performance, please don't hesitate to reach out. I'm here to assist you in any way I can and ensure that you're satisfied with your purchase.\\n\\nThank you once again for your feedback. We appreciate your understanding and patience as we work to enhance our products.\\n\\nWarm regards,\\n\\n[Your Name]  \\n[Your Position]  \\n[Your Company]  \\n[Contact Information]\", additional_kwargs={'refusal': None}, response_metadata={'token_usage': {'completion_tokens': 193, 'prompt_tokens': 101, 'total_tokens': 294, 'completion_tokens_details': {'accepted_prediction_tokens': 0, 'audio_tokens': 0, 'reasoning_tokens': 0, 'rejected_prediction_tokens': 0}, 'prompt_tokens_details': {'audio_tokens': 0, 'cached_tokens': 0}}, 'model_name': 'gpt-4o-mini-2024-07-18', 'system_fingerprint': 'fp_560af6e559', 'id': 'chatcmpl-CPmCAL39gPZ5HxH321CRQr3bg5vjc', 'service_tier': 'default', 'finish_reason': 'stop', 'logprobs': None}, id='run--69b34334-29ad-43af-b1d8-82dfd3a65e93-0', usage_metadata={'input_tokens': 101, 'output_tokens': 193, 'total_tokens': 294, 'input_token_details': {'audio': 0, 'cache_read': 0}, 'output_token_details': {'audio': 0, 'reasoning': 0}}),\n",
       " 'issue_type': 'Performance issue with the graphic card',\n",
       " 'tone': 'Mild',\n",
       " 'urgency': 'Low'}"
      ]
     },
     "execution_count": 120,
     "metadata": {},
     "output_type": "execute_result"
    }
   ],
   "source": [
    "workflow.invoke({\"product_review\":product_review})"
   ]
  },
  {
   "cell_type": "code",
   "execution_count": 121,
   "metadata": {},
   "outputs": [
    {
     "data": {
      "text/plain": [
       "{'product_review': 'The outfit is great and I have been spreading the kind words about all the work you guys do. Just a note to improve on stitching.',\n",
       " 'product_sentiment': Review(sentiment='Positive'),\n",
       " 'reply': AIMessage(content=\"Subject: Thank You for Your Feedback!\\n\\nDear [Customer's Name],\\n\\nThank you for taking the time to share your thoughts about your recent purchase. We’re thrilled to hear that you love the outfit and appreciate your kind words about our work. Your support means the world to us!\\n\\nWe also truly value your feedback regarding the stitching quality. While we're pleased to know that you are enjoying the outfit overall, we understand that the finishing details are just as important. We continuously strive to enhance our products, and your insights will help us improve and provide even better quality in the future.\\n\\nIf you have any further suggestions or specific details about your experience, please feel free to share. Your feedback is instrumental in our pursuit of excellence.\\n\\nThank you once again for your support and for being a valued customer. We hope to delight you with our products in the future!\\n\\nWarm regards,\\n\\n[Your Name]  \\n[Your Position]  \\n[Company Name]  \\n[Contact Information]  \", additional_kwargs={'refusal': None}, response_metadata={'token_usage': {'completion_tokens': 193, 'prompt_tokens': 100, 'total_tokens': 293, 'completion_tokens_details': {'accepted_prediction_tokens': 0, 'audio_tokens': 0, 'reasoning_tokens': 0, 'rejected_prediction_tokens': 0}, 'prompt_tokens_details': {'audio_tokens': 0, 'cached_tokens': 0}}, 'model_name': 'gpt-4o-mini-2024-07-18', 'system_fingerprint': 'fp_560af6e559', 'id': 'chatcmpl-CPmDG1NsVQxj3fCNCk9hQ7bhJt6Cr', 'service_tier': 'default', 'finish_reason': 'stop', 'logprobs': None}, id='run--e7314440-05b6-4a7c-9183-3d7af886fbe6-0', usage_metadata={'input_tokens': 100, 'output_tokens': 193, 'total_tokens': 293, 'input_token_details': {'audio': 0, 'cache_read': 0}, 'output_token_details': {'audio': 0, 'reasoning': 0}}),\n",
       " 'issue_type': 'Stitching quality improvement',\n",
       " 'tone': 'Mild',\n",
       " 'urgency': 'Low'}"
      ]
     },
     "execution_count": 121,
     "metadata": {},
     "output_type": "execute_result"
    }
   ],
   "source": [
    "product_review=\"The outfit is great and I have been spreading the kind words about all the work you guys do. Just a note to improve on stitching.\"\n",
    "workflow.invoke({\"product_review\":product_review})"
   ]
  }
 ],
 "metadata": {
  "kernelspec": {
   "display_name": "ai_practice",
   "language": "python",
   "name": "python3"
  },
  "language_info": {
   "codemirror_mode": {
    "name": "ipython",
    "version": 3
   },
   "file_extension": ".py",
   "mimetype": "text/x-python",
   "name": "python",
   "nbconvert_exporter": "python",
   "pygments_lexer": "ipython3",
   "version": "3.13.7"
  }
 },
 "nbformat": 4,
 "nbformat_minor": 2
}
