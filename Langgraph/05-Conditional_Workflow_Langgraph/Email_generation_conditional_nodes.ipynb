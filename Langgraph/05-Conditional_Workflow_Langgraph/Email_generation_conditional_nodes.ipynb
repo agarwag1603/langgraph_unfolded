{
 "cells": [
  {
   "cell_type": "code",
   "execution_count": 217,
   "metadata": {},
   "outputs": [
    {
     "data": {
      "text/plain": [
       "True"
      ]
     },
     "execution_count": 217,
     "metadata": {},
     "output_type": "execute_result"
    }
   ],
   "source": [
    "from langchain_core.output_parsers import StrOutputParser\n",
    "from langchain_core.prompts import ChatPromptTemplate\n",
    "from dotenv import load_dotenv\n",
    "from langchain_openai import ChatOpenAI\n",
    "from pydantic import BaseModel, Field\n",
    "from typing import Literal, TypedDict\n",
    "from langgraph.graph import StateGraph, START, END\n",
    "from IPython.display import Image, display, Markdown\n",
    "\n",
    "load_dotenv()"
   ]
  },
  {
   "cell_type": "code",
   "execution_count": 218,
   "metadata": {},
   "outputs": [],
   "source": [
    "gpt_llm = ChatOpenAI(model=\"gpt-4o-mini\")"
   ]
  },
  {
   "cell_type": "code",
   "execution_count": 219,
   "metadata": {},
   "outputs": [],
   "source": [
    "class PriorityClassifier(BaseModel):\n",
    "    \"\"\"\n",
    "    Classify the user query into High, Medium, Low priority.\n",
    "    \"\"\"\n",
    "    priority: Literal[\"High\",\"Medium\",\"Low\"] = Field(description=\"Priority of the user query into High, Medium, Low priority.\")"
   ]
  },
  {
   "cell_type": "code",
   "execution_count": 220,
   "metadata": {},
   "outputs": [],
   "source": [
    "priority_llm = gpt_llm.with_structured_output(PriorityClassifier)"
   ]
  },
  {
   "cell_type": "code",
   "execution_count": 221,
   "metadata": {},
   "outputs": [],
   "source": [
    "class EmailGenerator(TypedDict):\n",
    "    query: str\n",
    "    priority: str\n",
    "    output_email: str\n",
    "    email_classifier: str\n",
    "    final_email: str\n",
    "    "
   ]
  },
  {
   "cell_type": "code",
   "execution_count": 222,
   "metadata": {},
   "outputs": [],
   "source": [
    "def query_classifier_node(state: EmailGenerator) -> EmailGenerator:\n",
    "    prompt = f\"Help in classify the user prompt into 'High','Medium','Low' for the {state['query']}\"\n",
    "\n",
    "    response = priority_llm.invoke(prompt)\n",
    "\n",
    "    return {'priority':response.priority}"
   ]
  },
  {
   "cell_type": "code",
   "execution_count": 223,
   "metadata": {},
   "outputs": [],
   "source": [
    "def query_classifer_condition(state: EmailGenerator) -> Literal[\"high_node\",\"medium_node\",\"low_node\"]:\n",
    "    if state[\"priority\"]==\"High\":\n",
    "        return \"high_node\"\n",
    "    elif state[\"priority\"]==\"Medium\":\n",
    "        return \"medium_node\"\n",
    "    else:\n",
    "        return \"low_node\"\n"
   ]
  },
  {
   "cell_type": "code",
   "execution_count": 224,
   "metadata": {},
   "outputs": [],
   "source": [
    "def high_node( state: EmailGenerator)-> EmailGenerator:\n",
    "    prompt = f\"Based on the user query {state['query']} and state of priority {state['priority']}, help in generating the email body with carefully writing each and everything.\"\n",
    "    response = gpt_llm.invoke(prompt)\n",
    "\n",
    "    return {'output_email': response.content}"
   ]
  },
  {
   "cell_type": "code",
   "execution_count": 225,
   "metadata": {},
   "outputs": [],
   "source": [
    "def medium_node( state: EmailGenerator)-> EmailGenerator:\n",
    "    prompt = f\"Based on the user query {state['query']} and state of priority {state['priority']}, help in generating the email body, keep the tone mellowed and kind\"\n",
    "    response = gpt_llm.invoke(prompt)\n",
    "\n",
    "    return {'output_email': response.content}"
   ]
  },
  {
   "cell_type": "code",
   "execution_count": 226,
   "metadata": {},
   "outputs": [],
   "source": [
    "def low_node( state: EmailGenerator)-> EmailGenerator:\n",
    "    prompt = f\"Based on the user query {state['query']} and state of priority {state['priority']}, help in generating the email body, write a not urgent response but user shouldn't feed unimportant.\"\n",
    "    response = gpt_llm.invoke(prompt)\n",
    "\n",
    "    return {'output_email': response.content}"
   ]
  },
  {
   "cell_type": "code",
   "execution_count": 227,
   "metadata": {},
   "outputs": [],
   "source": [
    "class Email_Classifier(BaseModel):\n",
    "    \"\"\"\n",
    "    Classify the email generated and user query as Yes or No.\n",
    "    \"\"\"\n",
    "    email_classifier: Literal[\"Yes\",\"No\"] = Field(description=\"Email relevance check as Yes or No\")\n",
    "    "
   ]
  },
  {
   "cell_type": "code",
   "execution_count": 228,
   "metadata": {},
   "outputs": [],
   "source": [
    "email_llm = gpt_llm.with_structured_output(Email_Classifier)"
   ]
  },
  {
   "cell_type": "code",
   "execution_count": 229,
   "metadata": {},
   "outputs": [],
   "source": [
    "def email_classifier_node(state: EmailGenerator) -> EmailGenerator:\n",
    "    \"\"\"\n",
    "    You should help in classify the email generated and based on the user query and priority classifier as Yes or No.\n",
    "    \"\"\"\n",
    "\n",
    "    prompt = f\"\"\"Help in classify the email generated by the llm - Email \\n\\n {state['output_email']} for the user query: \\n\\n {state['query']}. \n",
    "    Priority of the user query is {state['priority']}. If mail is not written in bullet point, mark it as No\"\"\"\n",
    "\n",
    "    response = email_llm.invoke(prompt)\n",
    "\n",
    "    return {'email_classifier':response.email_classifier}\n",
    "    "
   ]
  },
  {
   "cell_type": "code",
   "execution_count": 230,
   "metadata": {},
   "outputs": [],
   "source": [
    "def email_classifer_condition(state: EmailGenerator) -> Literal[\"__end__\", \"email_regenerator\"]:\n",
    "    if state[\"email_classifier\"]==\"Yes\":\n",
    "        return \"__end__\"\n",
    "    else:\n",
    "        return \"email_regenerator\"\n"
   ]
  },
  {
   "cell_type": "code",
   "execution_count": 231,
   "metadata": {},
   "outputs": [],
   "source": [
    "def email_regenerator(state: EmailGenerator) -> EmailGenerator:\n",
    "    prompt= ChatPromptTemplate.from_messages(\n",
    "        [\n",
    "            (\"system\",\"You are an evaluator for the email generated by the llm. Your role is to paraphrase the existing email in better way in bullet points and make it more use readable.\"),\n",
    "            (\"human\",\"Please help in rewrite the email based on the {output_email}\")\n",
    "        ]\n",
    "    )\n",
    "\n",
    "    chain = prompt | gpt_llm | StrOutputParser()\n",
    "    response= chain.invoke({'output_email':state['output_email']})\n",
    "\n",
    "    return {'final_email':response}"
   ]
  },
  {
   "cell_type": "code",
   "execution_count": 232,
   "metadata": {},
   "outputs": [],
   "source": [
    "graph = StateGraph(EmailGenerator)"
   ]
  },
  {
   "cell_type": "code",
   "execution_count": 233,
   "metadata": {},
   "outputs": [
    {
     "data": {
      "text/plain": [
       "<langgraph.graph.state.StateGraph at 0x1183d3df0>"
      ]
     },
     "execution_count": 233,
     "metadata": {},
     "output_type": "execute_result"
    }
   ],
   "source": [
    "graph = StateGraph(EmailGenerator)\n",
    "\n",
    "graph.add_node(\"query_classifier_node\", query_classifier_node)\n",
    "graph.add_node(\"high_node\", high_node)\n",
    "graph.add_node(\"medium_node\", medium_node)\n",
    "graph.add_node(\"low_node\", low_node)\n",
    "graph.add_node(\"email_classifier_node\", email_classifier_node)\n",
    "graph.add_node(\"email_regenerator\", email_regenerator)\n",
    "\n",
    "graph.add_edge(START, \"query_classifier_node\")\n",
    "graph.add_conditional_edges(\"query_classifier_node\", query_classifer_condition)\n",
    "graph.add_edge(\"high_node\", \"email_classifier_node\")\n",
    "graph.add_edge(\"medium_node\", \"email_classifier_node\")\n",
    "graph.add_edge(\"low_node\", \"email_classifier_node\")\n",
    "graph.add_conditional_edges(\"email_classifier_node\", email_classifer_condition)\n",
    "graph.add_edge(\"email_regenerator\", END)"
   ]
  },
  {
   "cell_type": "code",
   "execution_count": 234,
   "metadata": {},
   "outputs": [],
   "source": [
    "workflow = graph.compile()"
   ]
  },
  {
   "cell_type": "code",
   "execution_count": 235,
   "metadata": {},
   "outputs": [
    {
     "data": {
      "image/png": "[encoded data removed]",
      "text/plain": [
       "<IPython.core.display.Image object>"
      ]
     },
     "metadata": {},
     "output_type": "display_data"
    }
   ],
   "source": [
    "display(Image(workflow.get_graph().draw_mermaid_png()))"
   ]
  },
  {
   "cell_type": "code",
   "execution_count": 236,
   "metadata": {},
   "outputs": [],
   "source": [
    "result=workflow.invoke({\"query\":\"I have been doing well as the product you have deployed works great.\"})"
   ]
  },
  {
   "cell_type": "code",
   "execution_count": 237,
   "metadata": {},
   "outputs": [
    {
     "data": {
      "text/plain": [
       "{'query': 'I have been doing well as the product you have deployed works great.',\n",
       " 'priority': 'Low',\n",
       " 'output_email': \"Subject: Re: Feedback on Product Performance\\n\\nDear [User's Name],\\n\\nThank you for your positive feedback regarding the product! I'm thrilled to hear that it's working well for you. Your experience is important to us, and I appreciate you taking the time to share your thoughts.\\n\\nWhile I understand that this matter isn't urgent, I want to assure you that your input is valued and will be taken into consideration as we continue to improve our offerings.\\n\\nIf you have any further feedback or questions in the future, please don't hesitate to reach out. We're here to help!\\n\\nBest regards,\\n\\n[Your Name]  \\n[Your Position]  \\n[Your Company]  \\n[Your Contact Information]\",\n",
       " 'email_classifier': 'No',\n",
       " 'final_email': \"Subject: Re: Feedback on Product Performance\\n\\nDear [User's Name],\\n\\nI appreciate your positive feedback about our product! Here are some key points to summarize our exchange:\\n\\n- I'm delighted to know that the product is meeting your expectations.\\n- Your experience is very important to us, and thank you for sharing your thoughts.\\n- Although your feedback is not urgent, it will be considered as we work on improvements.\\n- Please feel free to reach out anytime with additional insights or questions.\\n\\nWe're here to assist you!\\n\\nBest,  \\n[Your Name]  \\n[Your Position]  \\n[Your Company]  \\n[Your Contact Information]\"}"
      ]
     },
     "execution_count": 237,
     "metadata": {},
     "output_type": "execute_result"
    }
   ],
   "source": [
    "result"
   ]
  },
  {
   "cell_type": "code",
   "execution_count": 238,
   "metadata": {},
   "outputs": [
    {
     "data": {
      "text/markdown": [
       "Subject: Re: Feedback on Product Performance\n",
       "\n",
       "Dear [User's Name],\n",
       "\n",
       "Thank you for your positive feedback regarding the product! I'm thrilled to hear that it's working well for you. Your experience is important to us, and I appreciate you taking the time to share your thoughts.\n",
       "\n",
       "While I understand that this matter isn't urgent, I want to assure you that your input is valued and will be taken into consideration as we continue to improve our offerings.\n",
       "\n",
       "If you have any further feedback or questions in the future, please don't hesitate to reach out. We're here to help!\n",
       "\n",
       "Best regards,\n",
       "\n",
       "[Your Name]  \n",
       "[Your Position]  \n",
       "[Your Company]  \n",
       "[Your Contact Information]"
      ],
      "text/plain": [
       "<IPython.core.display.Markdown object>"
      ]
     },
     "execution_count": 238,
     "metadata": {},
     "output_type": "execute_result"
    }
   ],
   "source": [
    "Markdown(result['output_email'])"
   ]
  },
  {
   "cell_type": "code",
   "execution_count": 239,
   "metadata": {},
   "outputs": [
    {
     "data": {
      "text/markdown": [
       "Subject: Re: Feedback on Product Performance\n",
       "\n",
       "Dear [User's Name],\n",
       "\n",
       "I appreciate your positive feedback about our product! Here are some key points to summarize our exchange:\n",
       "\n",
       "- I'm delighted to know that the product is meeting your expectations.\n",
       "- Your experience is very important to us, and thank you for sharing your thoughts.\n",
       "- Although your feedback is not urgent, it will be considered as we work on improvements.\n",
       "- Please feel free to reach out anytime with additional insights or questions.\n",
       "\n",
       "We're here to assist you!\n",
       "\n",
       "Best,  \n",
       "[Your Name]  \n",
       "[Your Position]  \n",
       "[Your Company]  \n",
       "[Your Contact Information]"
      ],
      "text/plain": [
       "<IPython.core.display.Markdown object>"
      ]
     },
     "execution_count": 239,
     "metadata": {},
     "output_type": "execute_result"
    }
   ],
   "source": [
    "Markdown(result['final_email'])"
   ]
  }
 ],
 "metadata": {
  "kernelspec": {
   "display_name": "ai_practice",
   "language": "python",
   "name": "python3"
  },
  "language_info": {
   "codemirror_mode": {
    "name": "ipython",
    "version": 3
   },
   "file_extension": ".py",
   "mimetype": "text/x-python",
   "name": "python",
   "nbconvert_exporter": "python",
   "pygments_lexer": "ipython3",
   "version": "3.13.7"
  }
 },
 "nbformat": 4,
 "nbformat_minor": 2
}
