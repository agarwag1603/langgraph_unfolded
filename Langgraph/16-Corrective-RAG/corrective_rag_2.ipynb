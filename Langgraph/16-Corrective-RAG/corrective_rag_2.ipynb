{
 "cells": [
  {
   "cell_type": "code",
   "execution_count": 3,
   "metadata": {},
   "outputs": [
    {
     "data": {
      "image/png": "[encoded data removed]",
      "text/plain": [
       "<IPython.core.display.Image object>"
      ]
     },
     "metadata": {},
     "output_type": "display_data"
    },
    {
     "name": "stdout",
     "output_type": "stream",
     "text": [
      "LangChain is important because it provides a framework for developing applications that utilize large language models (LLMs). It enables developers to effectively harness the power of LLMs by integrating them with other data sources and tools, making it easier to create complex language-based applications. The core components of LangChain include prompts, memory, chains, agents, and tools, which work together to facilitate the development of advanced language processing capabilities.\n"
     ]
    }
   ],
   "source": [
    "from langgraph.graph import StateGraph, START, END\n",
    "from langchain_openai import ChatOpenAI\n",
    "from dotenv import load_dotenv\n",
    "from IPython.display import Image, display,Markdown\n",
    "from langchain_openai import OpenAIEmbeddings\n",
    "from langchain_text_splitters import RecursiveCharacterTextSplitter\n",
    "from langchain_community.vectorstores import Chroma\n",
    "from langchain_community.document_loaders import WebBaseLoader\n",
    "from langchain_core.prompts import ChatPromptTemplate, MessagesPlaceholder\n",
    "from langchain_community.tools import WikipediaQueryRun\n",
    "from langchain_community.utilities import WikipediaAPIWrapper\n",
    "from langchain.agents import create_openai_tools_agent, AgentExecutor\n",
    "from langgraph.graph.message import add_messages\n",
    "from langchain_core.messages import HumanMessage, AIMessage, SystemMessage\n",
    "from typing import TypedDict, Annotated, Literal\n",
    "import os\n",
    "\n",
    "# ----------------------------\n",
    "#  Load environment & models\n",
    "# ----------------------------\n",
    "load_dotenv()\n",
    "os.environ[\"LANGGRAPH_PROJECT\"] = \"Conversational_RAG\"\n",
    "llm = ChatOpenAI(model=\"gpt-4o-mini\")\n",
    "embeddings = OpenAIEmbeddings(model=\"text-embedding-3-small\", dimensions=1024)\n",
    "\n",
    "# ----------------------------\n",
    "#  Define state\n",
    "# ----------------------------\n",
    "class ChatState(TypedDict):\n",
    "    messages: Annotated[list, add_messages]  # Chat history reducer\n",
    "    context: str\n",
    "    grader: str\n",
    "\n",
    "# ----------------------------\n",
    "#  Load and process web docs\n",
    "# ----------------------------\n",
    "urls = [\n",
    "    \"https://aws.amazon.com/what-is/langchain/\",\n",
    "    \"https://www.ibm.com/think/topics/langchain\"\n",
    "]\n",
    "docs = [WebBaseLoader(url).load() for url in urls]\n",
    "docs_list = [d for sublist in docs for d in sublist]\n",
    "\n",
    "splitter = RecursiveCharacterTextSplitter(chunk_size=500, chunk_overlap=50)\n",
    "splitted_docs = splitter.split_documents(docs_list)\n",
    "\n",
    "vectordb = Chroma.from_documents(splitted_docs, embeddings)\n",
    "retriever = vectordb.as_retriever(search_kwargs={\"k\": 3})\n",
    "\n",
    "# ----------------------------\n",
    "#  Define workflow nodes\n",
    "# ----------------------------\n",
    "\n",
    "def retrieval_node(state: ChatState) -> ChatState:\n",
    "    \"\"\"Retrieve context from vector store.\"\"\"\n",
    "    user_msg = state[\"messages\"][-1].content\n",
    "    context_docs = retriever.invoke(user_msg)\n",
    "    context_text = \"\\n\\n\".join([d.page_content for d in context_docs])\n",
    "    return {\"context\": context_text, \"messages\": [AIMessage(content=\"I've retrieved relevant context.\")]} \n",
    "\n",
    "def grader_node(state: ChatState) -> ChatState:\n",
    "    \"\"\"Grade context relevance.\"\"\"\n",
    "    question = state[\"messages\"][-1].content\n",
    "    context = state[\"context\"]\n",
    "    grader_prompt = f\"Is the following context relevant to the question?\\n\\nQuestion: {question}\\n\\nContext: {context}\\n\\nAnswer Yes or No.\"\n",
    "    grader_response = llm.invoke(grader_prompt)\n",
    "    return {\"grader\": grader_response.content.strip(), \"messages\": [AIMessage(content=f\"Grader says: {grader_response.content.strip()}\")]} \n",
    "\n",
    "def generate_node(state: ChatState) -> ChatState:\n",
    "    \"\"\"Generate answer based on context.\"\"\"\n",
    "    question = state[\"messages\"][-1].content\n",
    "    context = state[\"context\"]\n",
    "    gen_prompt = f\"Using the context below, answer the user's question.\\n\\nContext:\\n{context}\\n\\nQuestion: {question}\"\n",
    "    result = llm.invoke(gen_prompt)\n",
    "    return {\"messages\": [AIMessage(content=result.content)]}\n",
    "\n",
    "def transform_query_node(state: ChatState) -> ChatState:\n",
    "    \"\"\"Rewrite unclear user query.\"\"\"\n",
    "    question = state[\"messages\"][-1].content\n",
    "    prompt = f\"Rephrase this user query to make it clearer and grammatically correct:\\n\\n{question}\"\n",
    "    rewritten = llm.invoke(prompt)\n",
    "    return {\"messages\": [AIMessage(content=f\"Let me restate your question: {rewritten.content}\")]} \n",
    "\n",
    "def internet_search_node(state: ChatState) -> ChatState:\n",
    "    \"\"\"Fetch additional info via Wikipedia.\"\"\"\n",
    "    api_wrapper = WikipediaAPIWrapper(top_k_results=2, doc_content_chars_max=300)\n",
    "    wiki = WikipediaQueryRun(api_wrapper=api_wrapper)\n",
    "    tools = [wiki]\n",
    "\n",
    "    prompt = ChatPromptTemplate.from_messages([\n",
    "        (\"system\", \"You are a research assistant who uses Wikipedia to find facts.\"),\n",
    "        (\"human\", \"{question}\")\n",
    "    ])\n",
    "    agent = create_openai_tools_agent(llm, tools, prompt)\n",
    "    executor = AgentExecutor(agent=agent, tools=tools, verbose=False)\n",
    "\n",
    "    result = executor.invoke({\"question\": state[\"messages\"][-1].content})\n",
    "    return {\"messages\": [AIMessage(content=result[\"output\"])]}\n",
    "\n",
    "def grader_condition(state: ChatState) -> Literal[\"generate_node\", \"transform_query_node\"]:\n",
    "    if \"Yes\" in state[\"grader\"]:\n",
    "        return \"generate_node\"\n",
    "    else:\n",
    "        return \"transform_query_node\"\n",
    "\n",
    "# ----------------------------\n",
    "#  Build LangGraph\n",
    "# ----------------------------\n",
    "graph = StateGraph(ChatState)\n",
    "\n",
    "graph.add_node(\"retrieval_node\", retrieval_node)\n",
    "graph.add_node(\"grader_node\", grader_node)\n",
    "graph.add_node(\"generate_node\", generate_node)\n",
    "graph.add_node(\"transform_query_node\", transform_query_node)\n",
    "graph.add_node(\"internet_search_node\", internet_search_node)\n",
    "\n",
    "graph.add_edge(START, \"retrieval_node\")\n",
    "graph.add_edge(\"retrieval_node\", \"grader_node\")\n",
    "graph.add_conditional_edges(\"grader_node\", grader_condition)\n",
    "graph.add_edge(\"transform_query_node\", \"internet_search_node\")\n",
    "graph.add_edge(\"internet_search_node\", \"generate_node\")\n",
    "graph.add_edge(\"generate_node\", END)\n",
    "\n",
    "# ----------------------------\n",
    "#  Compile & visualize\n",
    "# ----------------------------\n",
    "workflow = graph.compile()\n",
    "display(Image(workflow.get_graph().draw_mermaid_png()))\n",
    "\n",
    "# ----------------------------\n",
    "#  Run chat-style invocation\n",
    "# ----------------------------\n",
    "result = workflow.invoke({\"messages\": [HumanMessage(content=\"what is LangChain used for?\")]})\n",
    "print(result[\"messages\"][-1].content)\n"
   ]
  },
  {
   "cell_type": "code",
   "execution_count": 4,
   "metadata": {},
   "outputs": [
    {
     "data": {
      "text/markdown": [
       "LangChain is important because it provides a framework for developing applications that utilize large language models (LLMs). It enables developers to effectively harness the power of LLMs by integrating them with other data sources and tools, making it easier to create complex language-based applications. The core components of LangChain include prompts, memory, chains, agents, and tools, which work together to facilitate the development of advanced language processing capabilities."
      ],
      "text/plain": [
       "<IPython.core.display.Markdown object>"
      ]
     },
     "execution_count": 4,
     "metadata": {},
     "output_type": "execute_result"
    }
   ],
   "source": [
    "Markdown(result[\"messages\"][-1].content)"
   ]
  }
 ],
 "metadata": {
  "kernelspec": {
   "display_name": "ai_practice",
   "language": "python",
   "name": "python3"
  },
  "language_info": {
   "codemirror_mode": {
    "name": "ipython",
    "version": 3
   },
   "file_extension": ".py",
   "mimetype": "text/x-python",
   "name": "python",
   "nbconvert_exporter": "python",
   "pygments_lexer": "ipython3",
   "version": "3.13.7"
  }
 },
 "nbformat": 4,
 "nbformat_minor": 2
}
