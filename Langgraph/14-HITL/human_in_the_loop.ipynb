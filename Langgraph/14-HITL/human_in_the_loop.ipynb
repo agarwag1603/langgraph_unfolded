{
 "cells": [
  {
   "cell_type": "markdown",
   "metadata": {},
   "source": [
    "## Human in the loop concept"
   ]
  },
  {
   "cell_type": "code",
   "execution_count": 154,
   "metadata": {},
   "outputs": [
    {
     "data": {
      "text/plain": [
       "True"
      ]
     },
     "execution_count": 154,
     "metadata": {},
     "output_type": "execute_result"
    }
   ],
   "source": [
    "from langgraph.graph import StateGraph, START, END, MessagesState\n",
    "from langchain_openai import ChatOpenAI\n",
    "from dotenv import load_dotenv\n",
    "from IPython.display import Image, display, Markdown\n",
    "from langgraph.prebuilt import ToolNode, tools_condition\n",
    "from langchain_core.tools import tool\n",
    "from langchain_core.messages import SystemMessage, AIMessage, HumanMessage\n",
    "from langgraph.checkpoint.memory import MemorySaver\n",
    "from langchain_community.document_loaders import PyPDFLoader\n",
    "from langchain_openai import OpenAIEmbeddings\n",
    "from langchain_text_splitters import RecursiveCharacterTextSplitter\n",
    "from langchain.tools.retriever import create_retriever_tool\n",
    "from langchain_community.vectorstores import Chroma\n",
    "\n",
    "import os\n",
    "\n",
    "\n",
    "load_dotenv()"
   ]
  },
  {
   "cell_type": "code",
   "execution_count": 155,
   "metadata": {},
   "outputs": [],
   "source": [
    "gpt_llm= ChatOpenAI(model=\"gpt-4o-mini\")\n",
    "os.environ['LANGGRAPH_PROJECT']=\"HITL\""
   ]
  },
  {
   "cell_type": "code",
   "execution_count": 156,
   "metadata": {},
   "outputs": [],
   "source": [
    "@tool\n",
    "def string_manipulation(string_value: str, task: str, splitter: str) -> dict:\n",
    "    \"\"\"\n",
    "    Your task is to perform string manipulation based on user input.\n",
    "    Task can include - upper, lower, split, reverse of strings provided by the user.\n",
    "    splitter can be of type - (/ , .)\n",
    "    \"\"\"\n",
    "\n",
    "    try: \n",
    "        if task==\"upper\":\n",
    "            result=string_value.upper()\n",
    "        elif task==\"lower\":\n",
    "            result=string_value.upper()\n",
    "        elif task==\"reverse\":\n",
    "                result=string_value[::-1]\n",
    "        elif task==\"split\":\n",
    "            if splitter==\"/\":\n",
    "                result=string_value.split('/') \n",
    "            elif splitter==\",\":\n",
    "                result=string_value.split(',')\n",
    "            elif splitter==\".\":\n",
    "                result=string_value.split('.')\n",
    "            else:\n",
    "                return {\"error\":f\"Unsupported splitter {splitter}\"}\n",
    "                \n",
    "        else:\n",
    "            return {\"error\":f\"Unsupported task {task}\"}\n",
    "        \n",
    "        return {\"string_value\":string_value,\"task\":task,\"splitter\": splitter, \"result\":result}\n",
    "    except Exception as e:\n",
    "        return {\"error\":str(e)}"
   ]
  },
  {
   "cell_type": "code",
   "execution_count": 157,
   "metadata": {},
   "outputs": [],
   "source": [
    "@tool\n",
    "def calculator(first_num: float, second_num: float, operation: str) -> dict:\n",
    "    \"\"\"\n",
    "    Perform a basic arithmetic operations on the two numbers.\n",
    "    Supported operations: add, sub, mul, div\n",
    "    \"\"\"\n",
    "\n",
    "    try: \n",
    "        if operation==\"add\":\n",
    "            result=first_num+second_num\n",
    "        elif operation==\"sub\":\n",
    "            result=first_num-second_num\n",
    "        elif operation==\"mul\":\n",
    "            result=first_num*second_num\n",
    "        elif operation==\"div\":\n",
    "            result=first_num/second_num\n",
    "        else:\n",
    "            return {\"error\":f\"Unsupported operation {operation}\"}\n",
    "        \n",
    "        return {\"first_num\":first_num,\"second_num\":second_num,\"operation\": operation, \"result\":result}\n",
    "    except Exception as e:\n",
    "        return {\"error\":str(e)}\n",
    "        "
   ]
  },
  {
   "cell_type": "code",
   "execution_count": 158,
   "metadata": {},
   "outputs": [],
   "source": [
    "# Get the directory where the notebook is located\n",
    "notebook_dir = os.path.dirname(os.path.abspath(\"__file__\"))\n",
    "pdf_path = os.path.join(notebook_dir, \"RentalConditions.pdf\")\n",
    "\n",
    "\n",
    "pdf_loader= PyPDFLoader(pdf_path)\n",
    "pdf_documents=pdf_loader.load()\n",
    "splitter=RecursiveCharacterTextSplitter(chunk_size=500, chunk_overlap=50)\n",
    "pdf_splitted=splitter.split_documents(pdf_documents)\n",
    "\n",
    "embeddings=OpenAIEmbeddings(model=\"text-embedding-3-small\",dimensions=1024)\n",
    "chromadatabase=Chroma.from_documents(pdf_splitted,embeddings)\n",
    "chromdb_retrieved_docs=chromadatabase.as_retriever(search_kwargs={\"k\": 3})\n",
    "retriver_tool=create_retriever_tool(chromdb_retrieved_docs,\"Rental_Car_Retriever\", \"Rental car information to be pulled from this document\")"
   ]
  },
  {
   "cell_type": "code",
   "execution_count": 159,
   "metadata": {},
   "outputs": [],
   "source": [
    "tools = [string_manipulation,calculator,retriver_tool]\n",
    "\n",
    "llm_with_tools= gpt_llm.bind_tools(tools)"
   ]
  },
  {
   "cell_type": "code",
   "execution_count": 160,
   "metadata": {},
   "outputs": [],
   "source": [
    "sys_msg = SystemMessage(content=\"You are a helpful AI assistant that performs normal tool calls.\")"
   ]
  },
  {
   "cell_type": "code",
   "execution_count": 161,
   "metadata": {},
   "outputs": [],
   "source": [
    "def first_assistant(state:MessagesState):\n",
    "    return {\"messages\":[llm_with_tools.invoke([sys_msg]+state[\"messages\"])]}"
   ]
  },
  {
   "cell_type": "code",
   "execution_count": 162,
   "metadata": {},
   "outputs": [
    {
     "data": {
      "text/plain": [
       "<langgraph.graph.state.StateGraph at 0x115f01950>"
      ]
     },
     "execution_count": 162,
     "metadata": {},
     "output_type": "execute_result"
    }
   ],
   "source": [
    "graph = StateGraph(MessagesState)\n",
    "\n",
    "graph.add_node(\"first_assistant\",first_assistant)\n",
    "graph.add_node(\"tools\",ToolNode(tools))\n",
    "\n",
    "graph.add_edge(START,\"first_assistant\")\n",
    "graph.add_conditional_edges(\"first_assistant\", tools_condition)\n",
    "graph.add_edge(\"tools\", \"first_assistant\")\n",
    "graph.add_edge(\"first_assistant\", END)"
   ]
  },
  {
   "cell_type": "markdown",
   "metadata": {},
   "source": [
    "## Interrupt before - human in the loop"
   ]
  },
  {
   "cell_type": "code",
   "execution_count": 163,
   "metadata": {},
   "outputs": [],
   "source": [
    "memory=MemorySaver()\n",
    "workflow=graph.compile(interrupt_before=[\"first_assistant\"],checkpointer=memory)"
   ]
  },
  {
   "cell_type": "code",
   "execution_count": 164,
   "metadata": {},
   "outputs": [
    {
     "data": {
      "image/png": "[encoded data removed]",
      "text/plain": [
       "<IPython.core.display.Image object>"
      ]
     },
     "metadata": {},
     "output_type": "display_data"
    }
   ],
   "source": [
    "display(Image(workflow.get_graph().draw_mermaid_png()))"
   ]
  },
  {
   "cell_type": "code",
   "execution_count": 165,
   "metadata": {},
   "outputs": [],
   "source": [
    "CONFIG=  {\"configurable\":{\"thread_id\":123}}"
   ]
  },
  {
   "cell_type": "code",
   "execution_count": 166,
   "metadata": {},
   "outputs": [
    {
     "data": {
      "text/plain": [
       "{'messages': [HumanMessage(content='how much is the security deposit?', additional_kwargs={}, response_metadata={}, id='aa025b11-9b13-4e81-a853-b54bffe05824')]}"
      ]
     },
     "execution_count": 166,
     "metadata": {},
     "output_type": "execute_result"
    }
   ],
   "source": [
    "workflow.invoke({\"messages\":HumanMessage(content=\"how much is the security deposit?\")},config=CONFIG)"
   ]
  },
  {
   "cell_type": "code",
   "execution_count": 167,
   "metadata": {},
   "outputs": [
    {
     "data": {
      "text/plain": [
       "{'messages': [HumanMessage(content='how much is the security deposit?', additional_kwargs={}, response_metadata={}, id='aa025b11-9b13-4e81-a853-b54bffe05824'),\n",
       "  AIMessage(content='', additional_kwargs={'tool_calls': [{'id': 'call_V7SibY31FsmrV2LT6SDrhkns', 'function': {'arguments': '{\"query\":\"security deposit\"}', 'name': 'Rental_Car_Retriever'}, 'type': 'function'}], 'refusal': None}, response_metadata={'token_usage': {'completion_tokens': 20, 'prompt_tokens': 188, 'total_tokens': 208, 'completion_tokens_details': {'accepted_prediction_tokens': 0, 'audio_tokens': 0, 'reasoning_tokens': 0, 'rejected_prediction_tokens': 0}, 'prompt_tokens_details': {'audio_tokens': 0, 'cached_tokens': 0}}, 'model_name': 'gpt-4o-mini-2024-07-18', 'system_fingerprint': 'fp_560af6e559', 'id': 'chatcmpl-CRWP21xkCDi6Sv9m8Ii9B0WfpI7cm', 'service_tier': 'default', 'finish_reason': 'tool_calls', 'logprobs': None}, id='run--d4e2dd85-a19d-419d-b0f2-a410885a9388-0', tool_calls=[{'name': 'Rental_Car_Retriever', 'args': {'query': 'security deposit'}, 'id': 'call_V7SibY31FsmrV2LT6SDrhkns', 'type': 'tool_call'}], usage_metadata={'input_tokens': 188, 'output_tokens': 20, 'total_tokens': 208, 'input_token_details': {'audio': 0, 'cache_read': 0}, 'output_token_details': {'audio': 0, 'reasoning': 0}}),\n",
       "  ToolMessage(content='which is subject to be paid locally at the rental desk. Please be aware, that the information provided in this offer do not, and\\nare not intended to, constitute legal advice; instead, all information, and content available on this offer are for general\\ninformational purposes only.\\nSECURITY DEPOSIT FOR THE CAR\\nEstimated deposit amount: 500.00 NZD\\nUpon collection of the car a security deposit will be blocked on the driver’s credit card. This deposit is determined by\\n\\nwhich is subject to be paid locally at the rental desk. Please be aware, that the information provided in this offer do not, and\\nare not intended to, constitute legal advice; instead, all information, and content available on this offer are for general\\ninformational purposes only.\\nSECURITY DEPOSIT FOR THE CAR\\nEstimated deposit amount: 500.00 NZD\\nUpon collection of the car a security deposit will be blocked on the driver’s credit card. This deposit is determined by\\n\\npersonal information by providing at least 2 documents showing proof of residency. Please check with the supplier\\nbefore Pick Up\\n•', name='Rental_Car_Retriever', id='0233461d-171b-4145-8250-3cc8256225fc', tool_call_id='call_V7SibY31FsmrV2LT6SDrhkns')]}"
      ]
     },
     "execution_count": 167,
     "metadata": {},
     "output_type": "execute_result"
    }
   ],
   "source": [
    "workflow.invoke(None,config=CONFIG)"
   ]
  },
  {
   "cell_type": "code",
   "execution_count": 168,
   "metadata": {},
   "outputs": [
    {
     "data": {
      "text/plain": [
       "{'messages': [HumanMessage(content='how much is the security deposit?', additional_kwargs={}, response_metadata={}, id='aa025b11-9b13-4e81-a853-b54bffe05824'),\n",
       "  AIMessage(content='', additional_kwargs={'tool_calls': [{'id': 'call_V7SibY31FsmrV2LT6SDrhkns', 'function': {'arguments': '{\"query\":\"security deposit\"}', 'name': 'Rental_Car_Retriever'}, 'type': 'function'}], 'refusal': None}, response_metadata={'token_usage': {'completion_tokens': 20, 'prompt_tokens': 188, 'total_tokens': 208, 'completion_tokens_details': {'accepted_prediction_tokens': 0, 'audio_tokens': 0, 'reasoning_tokens': 0, 'rejected_prediction_tokens': 0}, 'prompt_tokens_details': {'audio_tokens': 0, 'cached_tokens': 0}}, 'model_name': 'gpt-4o-mini-2024-07-18', 'system_fingerprint': 'fp_560af6e559', 'id': 'chatcmpl-CRWP21xkCDi6Sv9m8Ii9B0WfpI7cm', 'service_tier': 'default', 'finish_reason': 'tool_calls', 'logprobs': None}, id='run--d4e2dd85-a19d-419d-b0f2-a410885a9388-0', tool_calls=[{'name': 'Rental_Car_Retriever', 'args': {'query': 'security deposit'}, 'id': 'call_V7SibY31FsmrV2LT6SDrhkns', 'type': 'tool_call'}], usage_metadata={'input_tokens': 188, 'output_tokens': 20, 'total_tokens': 208, 'input_token_details': {'audio': 0, 'cache_read': 0}, 'output_token_details': {'audio': 0, 'reasoning': 0}}),\n",
       "  ToolMessage(content='which is subject to be paid locally at the rental desk. Please be aware, that the information provided in this offer do not, and\\nare not intended to, constitute legal advice; instead, all information, and content available on this offer are for general\\ninformational purposes only.\\nSECURITY DEPOSIT FOR THE CAR\\nEstimated deposit amount: 500.00 NZD\\nUpon collection of the car a security deposit will be blocked on the driver’s credit card. This deposit is determined by\\n\\nwhich is subject to be paid locally at the rental desk. Please be aware, that the information provided in this offer do not, and\\nare not intended to, constitute legal advice; instead, all information, and content available on this offer are for general\\ninformational purposes only.\\nSECURITY DEPOSIT FOR THE CAR\\nEstimated deposit amount: 500.00 NZD\\nUpon collection of the car a security deposit will be blocked on the driver’s credit card. This deposit is determined by\\n\\npersonal information by providing at least 2 documents showing proof of residency. Please check with the supplier\\nbefore Pick Up\\n•', name='Rental_Car_Retriever', id='0233461d-171b-4145-8250-3cc8256225fc', tool_call_id='call_V7SibY31FsmrV2LT6SDrhkns'),\n",
       "  AIMessage(content=\"The estimated security deposit amount for the car is 500.00 NZD. This deposit will be blocked on the driver's credit card upon collection of the car.\", additional_kwargs={'refusal': None}, response_metadata={'token_usage': {'completion_tokens': 33, 'prompt_tokens': 445, 'total_tokens': 478, 'completion_tokens_details': {'accepted_prediction_tokens': 0, 'audio_tokens': 0, 'reasoning_tokens': 0, 'rejected_prediction_tokens': 0}, 'prompt_tokens_details': {'audio_tokens': 0, 'cached_tokens': 0}}, 'model_name': 'gpt-4o-mini-2024-07-18', 'system_fingerprint': 'fp_560af6e559', 'id': 'chatcmpl-CRWP4gzACtQ7KInp9sb0H4m0Zj106', 'service_tier': 'default', 'finish_reason': 'stop', 'logprobs': None}, id='run--2494eee4-e577-4367-a008-ebf4916c59da-0', usage_metadata={'input_tokens': 445, 'output_tokens': 33, 'total_tokens': 478, 'input_token_details': {'audio': 0, 'cache_read': 0}, 'output_token_details': {'audio': 0, 'reasoning': 0}})]}"
      ]
     },
     "execution_count": 168,
     "metadata": {},
     "output_type": "execute_result"
    }
   ],
   "source": [
    "workflow.invoke(None,config=CONFIG)"
   ]
  },
  {
   "cell_type": "code",
   "execution_count": 169,
   "metadata": {},
   "outputs": [
    {
     "name": "stdout",
     "output_type": "stream",
     "text": [
      "================================\u001b[1m Human Message \u001b[0m=================================\n",
      "\n",
      "how much is the security deposit?\n"
     ]
    }
   ],
   "source": [
    "for event in workflow.stream({\"messages\":HumanMessage(content=\"how much is the security deposit?\")},config=CONFIG,stream_mode=\"values\"):\n",
    "    event[\"messages\"][-1].pretty_print()"
   ]
  },
  {
   "cell_type": "code",
   "execution_count": 170,
   "metadata": {},
   "outputs": [
    {
     "name": "stdout",
     "output_type": "stream",
     "text": [
      "================================\u001b[1m Human Message \u001b[0m=================================\n",
      "\n",
      "how much is the security deposit?\n",
      "==================================\u001b[1m Ai Message \u001b[0m==================================\n",
      "\n",
      "The estimated security deposit amount for the car is 500.00 NZD. This deposit will be blocked on the driver's credit card upon collection of the car.\n"
     ]
    }
   ],
   "source": [
    "for event in workflow.stream(None,config=CONFIG,stream_mode=\"values\"):\n",
    "    event[\"messages\"][-1].pretty_print()"
   ]
  },
  {
   "cell_type": "code",
   "execution_count": 171,
   "metadata": {},
   "outputs": [
    {
     "name": "stdout",
     "output_type": "stream",
     "text": [
      "==================================\u001b[1m Ai Message \u001b[0m==================================\n",
      "\n",
      "The estimated security deposit amount for the car is 500.00 NZD. This deposit will be blocked on the driver's credit card upon collection of the car.\n"
     ]
    }
   ],
   "source": [
    "for event in workflow.stream(None,config=CONFIG,stream_mode=\"values\"):\n",
    "    event[\"messages\"][-1].pretty_print()"
   ]
  },
  {
   "cell_type": "markdown",
   "metadata": {},
   "source": [
    "## Interrupt after -  human in the loop"
   ]
  },
  {
   "cell_type": "code",
   "execution_count": 172,
   "metadata": {},
   "outputs": [],
   "source": [
    "memory=MemorySaver()\n",
    "workflow=graph.compile(interrupt_after=[\"first_assistant\"],checkpointer=memory)"
   ]
  },
  {
   "cell_type": "code",
   "execution_count": 173,
   "metadata": {},
   "outputs": [
    {
     "data": {
      "image/png": "[encoded data removed]",
      "text/plain": [
       "<IPython.core.display.Image object>"
      ]
     },
     "metadata": {},
     "output_type": "display_data"
    }
   ],
   "source": [
    "display(Image(workflow.get_graph().draw_mermaid_png()))"
   ]
  },
  {
   "cell_type": "code",
   "execution_count": 174,
   "metadata": {},
   "outputs": [],
   "source": [
    "CONFIG=  {\"configurable\":{\"thread_id\":123}}"
   ]
  },
  {
   "cell_type": "code",
   "execution_count": 175,
   "metadata": {},
   "outputs": [
    {
     "name": "stdout",
     "output_type": "stream",
     "text": [
      "================================\u001b[1m Human Message \u001b[0m=================================\n",
      "\n",
      "how much is the security deposit?\n",
      "==================================\u001b[1m Ai Message \u001b[0m==================================\n",
      "Tool Calls:\n",
      "  Rental_Car_Retriever (call_2e1ajoAOQSsnwVXtcPVdAhjy)\n",
      " Call ID: call_2e1ajoAOQSsnwVXtcPVdAhjy\n",
      "  Args:\n",
      "    query: security deposit\n"
     ]
    }
   ],
   "source": [
    "for event in workflow.stream({\"messages\":HumanMessage(content=\"how much is the security deposit?\")},config=CONFIG,stream_mode=\"values\"):\n",
    "    event[\"messages\"][-1].pretty_print()"
   ]
  },
  {
   "cell_type": "code",
   "execution_count": 176,
   "metadata": {},
   "outputs": [
    {
     "name": "stdout",
     "output_type": "stream",
     "text": [
      "==================================\u001b[1m Ai Message \u001b[0m==================================\n",
      "Tool Calls:\n",
      "  Rental_Car_Retriever (call_2e1ajoAOQSsnwVXtcPVdAhjy)\n",
      " Call ID: call_2e1ajoAOQSsnwVXtcPVdAhjy\n",
      "  Args:\n",
      "    query: security deposit\n",
      "=================================\u001b[1m Tool Message \u001b[0m=================================\n",
      "Name: Rental_Car_Retriever\n",
      "\n",
      "which is subject to be paid locally at the rental desk. Please be aware, that the information provided in this offer do not, and\n",
      "are not intended to, constitute legal advice; instead, all information, and content available on this offer are for general\n",
      "informational purposes only.\n",
      "SECURITY DEPOSIT FOR THE CAR\n",
      "Estimated deposit amount: 500.00 NZD\n",
      "Upon collection of the car a security deposit will be blocked on the driver’s credit card. This deposit is determined by\n",
      "\n",
      "which is subject to be paid locally at the rental desk. Please be aware, that the information provided in this offer do not, and\n",
      "are not intended to, constitute legal advice; instead, all information, and content available on this offer are for general\n",
      "informational purposes only.\n",
      "SECURITY DEPOSIT FOR THE CAR\n",
      "Estimated deposit amount: 500.00 NZD\n",
      "Upon collection of the car a security deposit will be blocked on the driver’s credit card. This deposit is determined by\n",
      "\n",
      "personal information by providing at least 2 documents showing proof of residency. Please check with the supplier\n",
      "before Pick Up\n",
      "•\n",
      "==================================\u001b[1m Ai Message \u001b[0m==================================\n",
      "\n",
      "The estimated security deposit for the rental car is 500.00 NZD. This amount will be blocked on the driver’s credit card upon collection of the car.\n"
     ]
    }
   ],
   "source": [
    "for event in workflow.stream(None,config=CONFIG,stream_mode=\"values\"):\n",
    "    event[\"messages\"][-1].pretty_print()"
   ]
  },
  {
   "cell_type": "code",
   "execution_count": 177,
   "metadata": {},
   "outputs": [
    {
     "name": "stdout",
     "output_type": "stream",
     "text": [
      "================================\u001b[1m Human Message \u001b[0m=================================\n",
      "\n",
      "What is the reverse value of 'Gaurav Agarwal'\n",
      "==================================\u001b[1m Ai Message \u001b[0m==================================\n",
      "Tool Calls:\n",
      "  string_manipulation (call_L26OCB5IDbtmbTTVsSztxuhA)\n",
      " Call ID: call_L26OCB5IDbtmbTTVsSztxuhA\n",
      "  Args:\n",
      "    string_value: Gaurav Agarwal\n",
      "    task: reverse\n",
      "    splitter:\n"
     ]
    }
   ],
   "source": [
    "for event in workflow.stream({\"messages\":HumanMessage(content=\"What is the reverse value of 'Gaurav Agarwal'\")},config=CONFIG,stream_mode=\"values\"):\n",
    "    event[\"messages\"][-1].pretty_print()"
   ]
  },
  {
   "cell_type": "code",
   "execution_count": 178,
   "metadata": {},
   "outputs": [
    {
     "name": "stdout",
     "output_type": "stream",
     "text": [
      "==================================\u001b[1m Ai Message \u001b[0m==================================\n",
      "Tool Calls:\n",
      "  string_manipulation (call_L26OCB5IDbtmbTTVsSztxuhA)\n",
      " Call ID: call_L26OCB5IDbtmbTTVsSztxuhA\n",
      "  Args:\n",
      "    string_value: Gaurav Agarwal\n",
      "    task: reverse\n",
      "    splitter:\n",
      "=================================\u001b[1m Tool Message \u001b[0m=================================\n",
      "Name: string_manipulation\n",
      "\n",
      "{\"string_value\": \"Gaurav Agarwal\", \"task\": \"reverse\", \"splitter\": \"\", \"result\": \"lawragA varuaG\"}\n",
      "==================================\u001b[1m Ai Message \u001b[0m==================================\n",
      "\n",
      "The reverse value of 'Gaurav Agarwal' is 'lawragA varuaG'.\n"
     ]
    }
   ],
   "source": [
    "for event in workflow.stream(None,config=CONFIG,stream_mode=\"values\"):\n",
    "    event[\"messages\"][-1].pretty_print()"
   ]
  }
 ],
 "metadata": {
  "kernelspec": {
   "display_name": "ai_practice",
   "language": "python",
   "name": "python3"
  },
  "language_info": {
   "name": "python",
   "version": "3.13.7"
  }
 },
 "nbformat": 4,
 "nbformat_minor": 2
}
