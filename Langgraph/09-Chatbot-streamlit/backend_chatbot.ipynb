{
 "cells": [
  {
   "cell_type": "markdown",
   "metadata": {},
   "source": [
    "## Created a chatbot which first classifies what the subject of the topic, then generate either poem, analogy, blogs on the steamlit app."
   ]
  },
  {
   "cell_type": "code",
   "execution_count": 58,
   "metadata": {},
   "outputs": [],
   "source": [
    "from typing import TypedDict, Annotated,Literal\n",
    "from langgraph.graph import START,END,StateGraph\n",
    "from langchain_openai import ChatOpenAI\n",
    "from dotenv import load_dotenv\n",
    "from langgraph.checkpoint.memory import InMemorySaver\n",
    "from langgraph.graph.message import add_messages\n",
    "from langchain_core.messages import BaseMessage\n",
    "from pydantic import BaseModel, Field\n",
    "from IPython.display import Image, display\n"
   ]
  },
  {
   "cell_type": "code",
   "execution_count": 59,
   "metadata": {},
   "outputs": [],
   "source": [
    "\n",
    "load_dotenv()\n",
    "gpt_llm= ChatOpenAI(model=\"gpt-4o-mini\")\n"
   ]
  },
  {
   "cell_type": "code",
   "execution_count": 60,
   "metadata": {},
   "outputs": [],
   "source": [
    "class MessageClassifier(BaseModel):\n",
    "    MessageClassifier: Literal[\"Physics\",\"Maths\",\"Chemistry\"] = Field(description=\"This is a message classfier\")"
   ]
  },
  {
   "cell_type": "code",
   "execution_count": 61,
   "metadata": {},
   "outputs": [],
   "source": [
    "structured_llm=gpt_llm.with_structured_output(MessageClassifier)"
   ]
  },
  {
   "cell_type": "code",
   "execution_count": 62,
   "metadata": {},
   "outputs": [],
   "source": [
    "class Chatbot(TypedDict):\n",
    "    messages: Annotated[list[BaseMessage],add_messages]\n",
    "    MessageClassifier: str\n",
    "\n"
   ]
  },
  {
   "cell_type": "code",
   "execution_count": 63,
   "metadata": {},
   "outputs": [],
   "source": [
    "def message_classifier(state:Chatbot)->Chatbot:\n",
    "   \n",
    "    prompt=f\"Based on the message provided by the user: \\n {state['messages']}, classify the message.\"\n",
    "   \n",
    "    response=structured_llm.invoke(prompt)\n",
    "\n",
    "    return {\"MessageClassifier\":response.MessageClassifier}"
   ]
  },
  {
   "cell_type": "code",
   "execution_count": 64,
   "metadata": {},
   "outputs": [],
   "source": [
    "def physics_chatbot(state: Chatbot) -> Chatbot:\n",
    "    \n",
    "    prompt= f\"You are an intelligent physics chatbot who answers user's questions based on the user query: \\n {state['messages']}.\"\n",
    "    \n",
    "    response = gpt_llm.invoke(prompt)\n",
    "    \n",
    "    return {'messages':[response]}\n"
   ]
  },
  {
   "cell_type": "code",
   "execution_count": 65,
   "metadata": {},
   "outputs": [],
   "source": [
    "def math_chatbot(state: Chatbot) -> Chatbot:\n",
    "   \n",
    "    prompt= f\"You are an intelligent math chatbot who answers user's questions based on the user query: \\n {state['messages']}.\"\n",
    "\n",
    "    response = gpt_llm.invoke(prompt)\n",
    "\n",
    "    return {'messages':[response]}"
   ]
  },
  {
   "cell_type": "code",
   "execution_count": 66,
   "metadata": {},
   "outputs": [],
   "source": [
    "def chemistry_chatbot(state: Chatbot) -> Chatbot:\n",
    "   \n",
    "    prompt= f\"You are an intelligent chemistry chatbot who answers user's questions based on the chemistry query: \\n {state['messages']}.\"\n",
    "    \n",
    "    response = gpt_llm.invoke(prompt)\n",
    "\n",
    "    return {'messages':[response]}"
   ]
  },
  {
   "cell_type": "code",
   "execution_count": 67,
   "metadata": {},
   "outputs": [],
   "source": [
    "def messageclassifier_check(state: Chatbot) -> Literal[\"physics_chatbot\",\"math_chatbot\",\"chemistry_chatbot\"]:\n",
    "    if state['MessageClassifier']==\"Physics\":\n",
    "        return \"physics_chatbot\"\n",
    "    elif state['MessageClassifier']==\"Maths\":\n",
    "        return \"math_chatbot\"\n",
    "    else:\n",
    "        return \"chemistry_chatbot\"\n",
    "\n"
   ]
  },
  {
   "cell_type": "code",
   "execution_count": 68,
   "metadata": {},
   "outputs": [],
   "source": [
    "checkpoint=InMemorySaver()\n",
    "\n",
    "graph=StateGraph(Chatbot)\n",
    "graph.add_node(\"message_classifier\",message_classifier)\n",
    "graph.add_node(\"physics_chatbot\",physics_chatbot)\n",
    "graph.add_node(\"math_chatbot\",math_chatbot)\n",
    "graph.add_node(\"chemistry_chatbot\",chemistry_chatbot)\n",
    "\n",
    "graph.add_edge(START, \"message_classifier\")\n",
    "graph.add_conditional_edges(\"message_classifier\",messageclassifier_check)\n",
    "graph.add_edge(\"physics_chatbot\", END)\n",
    "graph.add_edge(\"math_chatbot\", END)\n",
    "graph.add_edge(\"chemistry_chatbot\", END)\n",
    "workflow=graph.compile(checkpointer=checkpoint)"
   ]
  },
  {
   "cell_type": "code",
   "execution_count": 69,
   "metadata": {},
   "outputs": [
    {
     "data": {
      "image/png": "[encoded data removed]",
      "text/plain": [
       "<IPython.core.display.Image object>"
      ]
     },
     "metadata": {},
     "output_type": "display_data"
    }
   ],
   "source": [
    "display(Image(workflow.get_graph().draw_mermaid_png()))\n",
    "CONFIG= {\"configurable\":{\"thread_id\":\"123\"}}"
   ]
  },
  {
   "cell_type": "code",
   "execution_count": 70,
   "metadata": {},
   "outputs": [
    {
     "data": {
      "text/plain": [
       "{'messages': [HumanMessage(content='what is black hole?', additional_kwargs={}, response_metadata={}, id='89d471bf-d7db-4d05-a71b-64ef95950a81'),\n",
       "  AIMessage(content='A black hole is a region in space where the gravitational pull is so strong that nothing, not even light, can escape from it. This extreme gravitational force occurs when a massive star has exhausted its nuclear fuel and collapses under its own gravity. Black holes are defined by their event horizon, which is the boundary beyond which nothing can return.\\n\\nThere are three main types of black holes:\\n\\n1. **Stellar Black Holes**: Formed when massive stars collapse after a supernova explosion. They typically have a mass ranging from about 3 to several tens of solar masses.\\n\\n2. **Supermassive Black Holes**: Found at the centers of most galaxies, including our Milky Way. They can have masses that range from millions to billions of solar masses and are thought to form through the merging of smaller black holes or the direct collapse of massive gas clouds.\\n\\n3. **Intermediate Black Holes**: These are less well-understood but are believed to have masses between stellar and supermassive black holes, possibly formed by the collision of stars in dense star clusters.\\n\\nBlack holes can be detected indirectly by observing the effect of their immense gravity on nearby stars and gas, such as observing the accretion disks—bright rings of matter spiraling into the black hole—and the radiation emitted from them.', additional_kwargs={'refusal': None}, response_metadata={'token_usage': {'completion_tokens': 263, 'prompt_tokens': 65, 'total_tokens': 328, 'completion_tokens_details': {'accepted_prediction_tokens': 0, 'audio_tokens': 0, 'reasoning_tokens': 0, 'rejected_prediction_tokens': 0}, 'prompt_tokens_details': {'audio_tokens': 0, 'cached_tokens': 0}}, 'model_name': 'gpt-4o-mini-2024-07-18', 'system_fingerprint': 'fp_560af6e559', 'id': 'chatcmpl-CQ9HulgESQ3au5PPiHneMWktQLKAB', 'service_tier': 'default', 'finish_reason': 'stop', 'logprobs': None}, id='run--c7a4faf4-f130-4f67-a7b0-ad6b4c249475-0', usage_metadata={'input_tokens': 65, 'output_tokens': 263, 'total_tokens': 328, 'input_token_details': {'audio': 0, 'cache_read': 0}, 'output_token_details': {'audio': 0, 'reasoning': 0}})],\n",
       " 'MessageClassifier': 'Physics'}"
      ]
     },
     "execution_count": 70,
     "metadata": {},
     "output_type": "execute_result"
    }
   ],
   "source": [
    "workflow.invoke({\"messages\":\"what is black hole?\"},config=CONFIG)"
   ]
  },
  {
   "cell_type": "code",
   "execution_count": null,
   "metadata": {},
   "outputs": [
    {
     "name": "stdout",
     "output_type": "stream",
     "text": [
      " {\" Message Classifier \":\" Physics \"}     A  black  hole  is  a  region  in  space  where  the  gravitational  pull  is  so  intense  that  nothing ,  not  even  light ,  can  escape  it .  This  powerful  gravitational  force  typically  results  from  the  collapse  of  a  massive  star  that  has  exhausted  its  nuclear  fuel ,  leading  to  its  core  collapsing  under  its  own  gravity .\n",
      "\n",
      " Black  holes  can  be  categorized  into  three  main  types :\n",
      "\n",
      " 1 .  ** St ellar  Black  Hol es ** :  These  are  formed  when  massive  stars  undergo  a  super nova  explosion .  Their  mass  usually  ranges  from  about   3  to  several  tens  of  solar  masses .\n",
      "\n",
      " 2 .  ** Super mass ive  Black  Hol es ** :  Located  at  the  centers  of  most  galaxies ,  including  our  Mil ky  Way ,  super mass ive  black  holes  can  have  masses  ranging  from  millions  to  billions  of  solar  masses .  They  are  believed  to  form  through  the  merging  of  smaller  black  holes  or  the  direct  collapse  of  massive  gas  clouds .\n",
      "\n",
      " 3 .  ** Intermediate  Black  Hol es ** :  These  black  holes  are  less  well -under stood  but  are  thought  to  have  masses  between  those  of  stellar  and  super mass ive  black  holes .  They  may  form  through  the  collision  of  stars  in  dense  clusters .\n",
      "\n",
      " Despite  being  invisible ,  black  holes  can  be  detected  indirectly  by  observing  their  effects  on  nearby  stars  and  gas .  For  instance ,  the  presence  of  an  acc re tion  disk — bright  rings  of  matter  spir aling  toward  the  black  hole —and  the  radiation  emitted  from  this  material  can  signal  the  existence  of  a  black  hole .  "
     ]
    }
   ],
   "source": [
    "for message_chunk, metadata in workflow.stream({\"messages\":\"what is black hole?\"},config=CONFIG, stream_mode=\"messages\"):\n",
    "    if message_chunk:\n",
    "        print(message_chunk.content.replace(\"\"),end=\" \", flush=False)"
   ]
  }
 ],
 "metadata": {
  "kernelspec": {
   "display_name": "ai_practice",
   "language": "python",
   "name": "python3"
  },
  "language_info": {
   "codemirror_mode": {
    "name": "ipython",
    "version": 3
   },
   "file_extension": ".py",
   "mimetype": "text/x-python",
   "name": "python",
   "nbconvert_exporter": "python",
   "pygments_lexer": "ipython3",
   "version": "3.13.7"
  }
 },
 "nbformat": 4,
 "nbformat_minor": 2
}
