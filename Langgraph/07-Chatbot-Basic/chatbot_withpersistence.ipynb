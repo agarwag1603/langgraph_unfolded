{
 "cells": [
  {
   "cell_type": "code",
   "execution_count": 158,
   "metadata": {},
   "outputs": [
    {
     "data": {
      "text/plain": [
       "True"
      ]
     },
     "execution_count": 158,
     "metadata": {},
     "output_type": "execute_result"
    }
   ],
   "source": [
    "from typing import TypedDict, Annotated\n",
    "from langgraph.graph import START,END,StateGraph\n",
    "from langchain_openai import ChatOpenAI\n",
    "from dotenv import load_dotenv\n",
    "from IPython.display import Image, display\n",
    "from langchain_core.messages import BaseMessage\n",
    "from langgraph.graph.message import add_messages\n",
    "from langgraph.checkpoint.memory import MemorySaver\n",
    "\n",
    "load_dotenv()"
   ]
  },
  {
   "cell_type": "code",
   "execution_count": 159,
   "metadata": {},
   "outputs": [],
   "source": [
    "gpt_llm= ChatOpenAI(model=\"gpt-4o-mini\")"
   ]
  },
  {
   "cell_type": "code",
   "execution_count": 160,
   "metadata": {},
   "outputs": [],
   "source": [
    "class Conversation(TypedDict):\n",
    "    messages: Annotated[list[BaseMessage],add_messages]\n"
   ]
  },
  {
   "cell_type": "code",
   "execution_count": 161,
   "metadata": {},
   "outputs": [],
   "source": [
    "def chatbot(state:Conversation)-> Conversation:\n",
    "    prompt=f\"You are an AI assistant that helps answering questions. Please help in answer the question: \\n {state['messages']}\"\n",
    "    messages=gpt_llm.invoke(prompt)\n",
    "    return {\"messages\":[messages]}"
   ]
  },
  {
   "cell_type": "code",
   "execution_count": 162,
   "metadata": {},
   "outputs": [
    {
     "data": {
      "text/plain": [
       "<langgraph.graph.state.StateGraph at 0x125f6d590>"
      ]
     },
     "execution_count": 162,
     "metadata": {},
     "output_type": "execute_result"
    }
   ],
   "source": [
    "checkpointer= MemorySaver()\n",
    "graph = StateGraph(Conversation)\n",
    "graph.add_node(\"chatbot\",chatbot)\n",
    "graph.add_edge(START,\"chatbot\")\n",
    "graph.add_edge(\"chatbot\",END)\n",
    "\n"
   ]
  },
  {
   "cell_type": "code",
   "execution_count": null,
   "metadata": {},
   "outputs": [],
   "source": [
    "workflow=graph.compile(checkpointer=checkpointer)"
   ]
  },
  {
   "cell_type": "code",
   "execution_count": 164,
   "metadata": {},
   "outputs": [
    {
     "name": "stdout",
     "output_type": "stream",
     "text": [
      "User:Hello, My name is Gaurav\n",
      "AI: Hello Gaurav! How can I assist you today?\n",
      "User:who am I?\n",
      "AI: You are Gaurav, a person who has introduced yourself at the beginning of the conversation. How can I assist you further today?\n",
      "User:bye\n"
     ]
    }
   ],
   "source": [
    "thread_id= \"1234\"\n",
    "while True:\n",
    "    user_input= input(\"Your query:\")\n",
    "    print(f\"User:{user_input}\")\n",
    "    if user_input.strip().lower() in [\"exit\",\"bye\",\"quit\"]:\n",
    "        break\n",
    "\n",
    "    config={\"configurable\":{\"thread_id\":thread_id}}\n",
    "    response=workflow.invoke({\"messages\":user_input},config=config)\n",
    "    print(\"AI:\", response['messages'][-1].content)\n"
   ]
  }
 ],
 "metadata": {
  "kernelspec": {
   "display_name": "ai_practice",
   "language": "python",
   "name": "python3"
  },
  "language_info": {
   "codemirror_mode": {
    "name": "ipython",
    "version": 3
   },
   "file_extension": ".py",
   "mimetype": "text/x-python",
   "name": "python",
   "nbconvert_exporter": "python",
   "pygments_lexer": "ipython3",
   "version": "3.13.7"
  }
 },
 "nbformat": 4,
 "nbformat_minor": 2
}
