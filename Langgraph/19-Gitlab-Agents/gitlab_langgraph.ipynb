{
 "cells": [
  {
   "cell_type": "code",
   "execution_count": 173,
   "metadata": {},
   "outputs": [
    {
     "data": {
      "text/plain": [
       "True"
      ]
     },
     "execution_count": 173,
     "metadata": {},
     "output_type": "execute_result"
    }
   ],
   "source": [
    "from typing import TypedDict, Annotated\n",
    "from langgraph.graph import START,END,StateGraph\n",
    "from langchain_openai import ChatOpenAI\n",
    "from dotenv import load_dotenv\n",
    "from IPython.display import Image, display, Markdown\n",
    "from langgraph.prebuilt import ToolNode, tools_condition\n",
    "from langchain_core.tools import tool\n",
    "from langgraph.graph.message import add_messages\n",
    "from langchain_core.messages import BaseMessage, ToolMessage\n",
    "import os\n",
    "import requests\n",
    "from pydantic import BaseModel, Field\n",
    "\n",
    "\n",
    "load_dotenv()"
   ]
  },
  {
   "cell_type": "code",
   "execution_count": 174,
   "metadata": {},
   "outputs": [],
   "source": [
    "gpt_llm= ChatOpenAI(model=\"gpt-4o-mini\")"
   ]
  },
  {
   "cell_type": "code",
   "execution_count": 175,
   "metadata": {},
   "outputs": [],
   "source": [
    "class ToolCaller(TypedDict):\n",
    "    messages: Annotated[list[BaseMessage], add_messages]\n"
   ]
  },
  {
   "cell_type": "code",
   "execution_count": 176,
   "metadata": {},
   "outputs": [],
   "source": [
    "@tool\n",
    "\n",
    "def fetch_gitlab_issues():\n",
    "    \"\"\"\n",
    "    Tool to fetch all the open issues in the gitlab.\n",
    "    \"\"\"\n",
    "\n",
    "    GITLAB_URL = \"https://gitlab.com/api/v4\"\n",
    "    PROJECT_ID = os.getenv(\"PROJECT_ID\")\n",
    "    TOKEN = os.getenv(\"GITLAB_PAT\")\n",
    "\n",
    "    headers = {\"PRIVATE-TOKEN\": TOKEN}\n",
    "    url = f\"{GITLAB_URL}/projects/{PROJECT_ID}/issues\"\n",
    "\n",
    "    params = {\"state\": \"opened\"}\n",
    "    response = requests.get(url, headers=headers, params=params)\n",
    "\n",
    "    if response.status_code == 200:\n",
    "        issues = response.json()\n",
    "        return [{\"iid\": i[\"iid\"], \"title\": i[\"title\"], \"state\": i[\"state\"],\"description\": i[\"description\"], \"web_url\": i[\"web_url\"]} for i in issues]\n",
    "    else:\n",
    "        return [{\"error\": response.text}]\n",
    "\n",
    "        "
   ]
  },
  {
   "cell_type": "code",
   "execution_count": 177,
   "metadata": {},
   "outputs": [],
   "source": [
    "@tool\n",
    "\n",
    "def close_gitlab_issue(issue_iid: str) -> dict:\n",
    "    \"\"\"\n",
    "    Based on the issue ID, the function will help close the open tickets with comment\n",
    "    \"\"\"\n",
    "    GITLAB_URL = \"https://gitlab.com/api/v4\"\n",
    "    PROJECT_ID = os.getenv(\"PROJECT_ID\")\n",
    "    TOKEN = os.getenv(\"GITLAB_PAT\")\n",
    "\n",
    "    headers = {\"PRIVATE-TOKEN\": TOKEN}\n",
    "    url = f\"{GITLAB_URL}/projects/{PROJECT_ID}/issues/{issue_iid}\"\n",
    "    data = {\"state_event\": \"close\"}\n",
    "\n",
    "    response = requests.put(url, headers=headers, data=data)\n",
    "\n",
    "    if response.status_code == 200:\n",
    "        return {\"message\": f\"Issue #{issue_iid} closed successfully.\"}\n",
    "    else:\n",
    "        return {\"error\": response.text}\n"
   ]
  },
  {
   "cell_type": "code",
   "execution_count": 178,
   "metadata": {},
   "outputs": [],
   "source": [
    "tools = [fetch_gitlab_issues,close_gitlab_issue]\n",
    "\n",
    "llm_with_tools= gpt_llm.bind_tools(tools)"
   ]
  },
  {
   "cell_type": "code",
   "execution_count": 179,
   "metadata": {},
   "outputs": [],
   "source": [
    "# def chat_node(state:ToolCaller)-> ToolCaller:\n",
    "#     \"\"\"LLM node that may answer or request a tool call\"\"\"\n",
    "    \n",
    "#     prompt=f\"You are an AI assistant who makes different tool calls and provide answers to the users based on user query: {state['messages']}\"\n",
    "\n",
    "#     result=llm_with_tools.invoke(prompt)\n",
    "#     return {\"messages\":[result]}\n",
    "\n",
    "def chat_node(state: ToolCaller) -> ToolCaller:\n",
    "    \"\"\"LLM node that handles chat + tool calls.\"\"\"\n",
    "    result = llm_with_tools.invoke(state[\"messages\"])\n",
    "    return {\"messages\": [result]}\n",
    "\n",
    "tool_node= ToolNode(tools)\n",
    "\n"
   ]
  },
  {
   "cell_type": "code",
   "execution_count": 180,
   "metadata": {},
   "outputs": [
    {
     "data": {
      "text/plain": [
       "<langgraph.graph.state.StateGraph at 0x1238edd90>"
      ]
     },
     "execution_count": 180,
     "metadata": {},
     "output_type": "execute_result"
    }
   ],
   "source": [
    "graph=StateGraph(ToolCaller)\n",
    "graph.add_node(\"chat_node\",chat_node)\n",
    "graph.add_node(\"tools\",tool_node)\n",
    "\n",
    "graph.add_edge(START,\"chat_node\")\n",
    "graph.add_conditional_edges(\"chat_node\",tools_condition)\n",
    "graph.add_edge(\"tools\",\"chat_node\")\n"
   ]
  },
  {
   "cell_type": "code",
   "execution_count": 181,
   "metadata": {},
   "outputs": [
    {
     "data": {
      "image/png": "[encoded data removed]",
      "text/plain": [
       "<IPython.core.display.Image object>"
      ]
     },
     "metadata": {},
     "output_type": "display_data"
    }
   ],
   "source": [
    "workflow=graph.compile()\n",
    "\n",
    "display(Image(workflow.get_graph().draw_mermaid_png()))"
   ]
  },
  {
   "cell_type": "code",
   "execution_count": 182,
   "metadata": {},
   "outputs": [],
   "source": [
    "result=workflow.invoke({\"messages\":\"How many open gitlab tickets do I have?\"})"
   ]
  },
  {
   "cell_type": "code",
   "execution_count": 183,
   "metadata": {},
   "outputs": [
    {
     "data": {
      "text/markdown": [
       "You have 2 open GitLab tickets. Here are the details:\n",
       "\n",
       "1. **Title**: [Langchain retriever not giving right responses](https://gitlab.com/test_gitlab8004948/test_gitlab_2/-/issues/5)\n",
       "   - **Description**: Langchain retriever not giving the right searches. Need to check if the chunk of documents are ok, or if there's a problem with embedding or something else. RC to be found.\n",
       "\n",
       "2. **Title**: [Fixing the UI for langgraph persistent chatbot](https://gitlab.com/test_gitlab8004948/test_gitlab_2/-/issues/4)\n",
       "   - **Description**: Streamlit UI has some bug related to holding the session."
      ],
      "text/plain": [
       "<IPython.core.display.Markdown object>"
      ]
     },
     "execution_count": 183,
     "metadata": {},
     "output_type": "execute_result"
    }
   ],
   "source": [
    "Markdown(result[\"messages\"][-1].content)"
   ]
  },
  {
   "cell_type": "code",
   "execution_count": 184,
   "metadata": {},
   "outputs": [
    {
     "data": {
      "text/plain": [
       "{'messages': [HumanMessage(content='How many open gitlab tickets do I have?', additional_kwargs={}, response_metadata={}, id='3b4a066c-d903-42e4-a564-dee9a00b679a'),\n",
       "  AIMessage(content='', additional_kwargs={'tool_calls': [{'id': 'call_CMLZh7TaPdDCgGlTmzSy2bAh', 'function': {'arguments': '{}', 'name': 'fetch_gitlab_issues'}, 'type': 'function'}], 'refusal': None}, response_metadata={'token_usage': {'completion_tokens': 13, 'prompt_tokens': 91, 'total_tokens': 104, 'completion_tokens_details': {'accepted_prediction_tokens': 0, 'audio_tokens': 0, 'reasoning_tokens': 0, 'rejected_prediction_tokens': 0}, 'prompt_tokens_details': {'audio_tokens': 0, 'cached_tokens': 0}}, 'model_name': 'gpt-4o-mini-2024-07-18', 'system_fingerprint': 'fp_560af6e559', 'id': 'chatcmpl-CTil6LlINkBtNYR3hpXY0TzXt6hDz', 'service_tier': 'default', 'finish_reason': 'tool_calls', 'logprobs': None}, id='run--20972ac7-0c94-4460-b6ff-88dbe380338e-0', tool_calls=[{'name': 'fetch_gitlab_issues', 'args': {}, 'id': 'call_CMLZh7TaPdDCgGlTmzSy2bAh', 'type': 'tool_call'}], usage_metadata={'input_tokens': 91, 'output_tokens': 13, 'total_tokens': 104, 'input_token_details': {'audio': 0, 'cache_read': 0}, 'output_token_details': {'audio': 0, 'reasoning': 0}}),\n",
       "  ToolMessage(content='[{\"iid\": 5, \"title\": \"Langchain retriever not giving right responses\", \"state\": \"opened\", \"description\": \"Langchain retriver not giving the right searches, Need to check if the chunk of documents are ok, or if there\\'s a problem with embedding or something else. RC to be found.\", \"web_url\": \"https://gitlab.com/test_gitlab8004948/test_gitlab_2/-/issues/5\"}, {\"iid\": 4, \"title\": \"Fixing the UI for langgraph persistent chatbot\", \"state\": \"opened\", \"description\": \"Streamlit UI has some bug related to holding the session\", \"web_url\": \"https://gitlab.com/test_gitlab8004948/test_gitlab_2/-/issues/4\"}]', name='fetch_gitlab_issues', id='e578162c-fa4b-4a7d-af4c-723b73d19989', tool_call_id='call_CMLZh7TaPdDCgGlTmzSy2bAh'),\n",
       "  AIMessage(content=\"You have 2 open GitLab tickets. Here are the details:\\n\\n1. **Title**: [Langchain retriever not giving right responses](https://gitlab.com/test_gitlab8004948/test_gitlab_2/-/issues/5)\\n   - **Description**: Langchain retriever not giving the right searches. Need to check if the chunk of documents are ok, or if there's a problem with embedding or something else. RC to be found.\\n\\n2. **Title**: [Fixing the UI for langgraph persistent chatbot](https://gitlab.com/test_gitlab8004948/test_gitlab_2/-/issues/4)\\n   - **Description**: Streamlit UI has some bug related to holding the session.\", additional_kwargs={'refusal': None}, response_metadata={'token_usage': {'completion_tokens': 153, 'prompt_tokens': 279, 'total_tokens': 432, 'completion_tokens_details': {'accepted_prediction_tokens': 0, 'audio_tokens': 0, 'reasoning_tokens': 0, 'rejected_prediction_tokens': 0}, 'prompt_tokens_details': {'audio_tokens': 0, 'cached_tokens': 0}}, 'model_name': 'gpt-4o-mini-2024-07-18', 'system_fingerprint': 'fp_560af6e559', 'id': 'chatcmpl-CTil9MlsWr5nAatsWCMD9vZebahPY', 'service_tier': 'default', 'finish_reason': 'stop', 'logprobs': None}, id='run--75519e85-a858-45d2-8cb2-1ec3438150fd-0', usage_metadata={'input_tokens': 279, 'output_tokens': 153, 'total_tokens': 432, 'input_token_details': {'audio': 0, 'cache_read': 0}, 'output_token_details': {'audio': 0, 'reasoning': 0}})]}"
      ]
     },
     "execution_count": 184,
     "metadata": {},
     "output_type": "execute_result"
    }
   ],
   "source": [
    "result"
   ]
  },
  {
   "cell_type": "code",
   "execution_count": 185,
   "metadata": {},
   "outputs": [],
   "source": [
    "#workflow.invoke({\"messages\":\"would you be able to help me close the gitlab issue iid 1?\"})"
   ]
  },
  {
   "cell_type": "code",
   "execution_count": 186,
   "metadata": {},
   "outputs": [],
   "source": [
    "result=workflow.invoke({\"messages\":\"what is tennis?\"})"
   ]
  },
  {
   "cell_type": "code",
   "execution_count": 187,
   "metadata": {},
   "outputs": [
    {
     "data": {
      "text/plain": [
       "{'messages': [HumanMessage(content='what is tennis?', additional_kwargs={}, response_metadata={}, id='84bfb6a6-f1f7-47cd-9d8c-8124af11a37a'),\n",
       "  AIMessage(content=\"Tennis is a popular individual or team sport that involves hitting a ball over a net using a racket. It can be played on various surfaces, including grass, clay, and hard courts. The objective of the game is to score points by hitting the ball in such a way that the opponent is unable to return it successfully.\\n\\nHere are some key points about tennis:\\n\\n1. **Scoring**: The game is played in sets, where players must win a certain number of games to win a set, and a certain number of sets to win a match. The scoring system includes points, games, and sets, typically counted as 15, 30, 40, and game.\\n\\n2. **Players**: Tennis can be played as singles (one player against another) or doubles (two players against two players).\\n\\n3. **Equipment**: Players use a racket to hit a felt-covered rubber ball. The choice of racket can affect play, and different strings and tension can influence the ball's behavior.\\n\\n4. **Rules**: The game follows specific rules regarding service, court boundaries, and ball handling. Players serve the ball from behind the baseline to start a point, and they must keep the ball within the opponent's court area.\\n\\n5. **Major Tournaments**: Some of the most prestigious tennis tournaments include the four Grand Slam events: the Australian Open, French Open, Wimbledon, and US Open.\\n\\n6. **Physical and Mental Aspects**: Tennis is physically demanding, requiring agility, endurance, and strength. It also involves strategic thinking and mental toughness, as players must anticipate their opponent's moves and respond accordingly.\\n\\nOverall, tennis is enjoyed by millions worldwide, both recreationally and competitively, and it has a rich history and culture surrounding it.\", additional_kwargs={'refusal': None}, response_metadata={'token_usage': {'completion_tokens': 357, 'prompt_tokens': 85, 'total_tokens': 442, 'completion_tokens_details': {'accepted_prediction_tokens': 0, 'audio_tokens': 0, 'reasoning_tokens': 0, 'rejected_prediction_tokens': 0}, 'prompt_tokens_details': {'audio_tokens': 0, 'cached_tokens': 0}}, 'model_name': 'gpt-4o-mini-2024-07-18', 'system_fingerprint': 'fp_560af6e559', 'id': 'chatcmpl-CTilDnJhf4CZRmnx5Xk1eFjgBwzUJ', 'service_tier': 'default', 'finish_reason': 'stop', 'logprobs': None}, id='run--e00da8da-24e0-4d23-bb3b-d1a4c9034e25-0', usage_metadata={'input_tokens': 85, 'output_tokens': 357, 'total_tokens': 442, 'input_token_details': {'audio': 0, 'cache_read': 0}, 'output_token_details': {'audio': 0, 'reasoning': 0}})]}"
      ]
     },
     "execution_count": 187,
     "metadata": {},
     "output_type": "execute_result"
    }
   ],
   "source": [
    "result"
   ]
  },
  {
   "cell_type": "code",
   "execution_count": 188,
   "metadata": {},
   "outputs": [
    {
     "data": {
      "text/plain": [
       "{'messages': [HumanMessage(content='How many open gitlab tickets do I have?', additional_kwargs={}, response_metadata={}, id='e881c227-786f-495e-9305-103c5800eca6'),\n",
       "  AIMessage(content='', additional_kwargs={'tool_calls': [{'id': 'call_UNPMLVM9cIZNXhciDobBHxcY', 'function': {'arguments': '{}', 'name': 'fetch_gitlab_issues'}, 'type': 'function'}], 'refusal': None}, response_metadata={'token_usage': {'completion_tokens': 13, 'prompt_tokens': 91, 'total_tokens': 104, 'completion_tokens_details': {'accepted_prediction_tokens': 0, 'audio_tokens': 0, 'reasoning_tokens': 0, 'rejected_prediction_tokens': 0}, 'prompt_tokens_details': {'audio_tokens': 0, 'cached_tokens': 0}}, 'model_name': 'gpt-4o-mini-2024-07-18', 'system_fingerprint': 'fp_560af6e559', 'id': 'chatcmpl-CTilMZB4I413qD3Ic0stTnVAcHKbA', 'service_tier': 'default', 'finish_reason': 'tool_calls', 'logprobs': None}, id='run--1d62e365-9d2c-4a05-9d98-51549a207618-0', tool_calls=[{'name': 'fetch_gitlab_issues', 'args': {}, 'id': 'call_UNPMLVM9cIZNXhciDobBHxcY', 'type': 'tool_call'}], usage_metadata={'input_tokens': 91, 'output_tokens': 13, 'total_tokens': 104, 'input_token_details': {'audio': 0, 'cache_read': 0}, 'output_token_details': {'audio': 0, 'reasoning': 0}}),\n",
       "  ToolMessage(content='[{\"iid\": 5, \"title\": \"Langchain retriever not giving right responses\", \"state\": \"opened\", \"description\": \"Langchain retriver not giving the right searches, Need to check if the chunk of documents are ok, or if there\\'s a problem with embedding or something else. RC to be found.\", \"web_url\": \"https://gitlab.com/test_gitlab8004948/test_gitlab_2/-/issues/5\"}, {\"iid\": 4, \"title\": \"Fixing the UI for langgraph persistent chatbot\", \"state\": \"opened\", \"description\": \"Streamlit UI has some bug related to holding the session\", \"web_url\": \"https://gitlab.com/test_gitlab8004948/test_gitlab_2/-/issues/4\"}]', name='fetch_gitlab_issues', id='b7bab0c7-8c6a-4949-aefb-d4f8619a6882', tool_call_id='call_UNPMLVM9cIZNXhciDobBHxcY'),\n",
       "  AIMessage(content=\"You have 2 open GitLab tickets. Here are the details:\\n\\n1. **[Langchain retriever not giving right responses](https://gitlab.com/test_gitlab8004948/test_gitlab_2/-/issues/5)**\\n   - **Description:** Langchain retriever not giving the right searches. Need to check if the chunk of documents is OK, or if there's a problem with embedding or something else. RC to be found.\\n\\n2. **[Fixing the UI for langgraph persistent chatbot](https://gitlab.com/test_gitlab8004948/test_gitlab_2/-/issues/4)**\\n   - **Description:** Streamlit UI has some bug related to holding the session.\", additional_kwargs={'refusal': None}, response_metadata={'token_usage': {'completion_tokens': 147, 'prompt_tokens': 279, 'total_tokens': 426, 'completion_tokens_details': {'accepted_prediction_tokens': 0, 'audio_tokens': 0, 'reasoning_tokens': 0, 'rejected_prediction_tokens': 0}, 'prompt_tokens_details': {'audio_tokens': 0, 'cached_tokens': 0}}, 'model_name': 'gpt-4o-mini-2024-07-18', 'system_fingerprint': 'fp_560af6e559', 'id': 'chatcmpl-CTilOck9cpvRTnFXbI2liwiqWIn12', 'service_tier': 'default', 'finish_reason': 'stop', 'logprobs': None}, id='run--47df1640-b851-4912-b67d-5b2589cedcf6-0', usage_metadata={'input_tokens': 279, 'output_tokens': 147, 'total_tokens': 426, 'input_token_details': {'audio': 0, 'cache_read': 0}, 'output_token_details': {'audio': 0, 'reasoning': 0}})]}"
      ]
     },
     "execution_count": 188,
     "metadata": {},
     "output_type": "execute_result"
    }
   ],
   "source": [
    "workflow.invoke({\"messages\":\"How many open gitlab tickets do I have?\"})"
   ]
  },
  {
   "cell_type": "code",
   "execution_count": null,
   "metadata": {},
   "outputs": [],
   "source": []
  }
 ],
 "metadata": {
  "kernelspec": {
   "display_name": "ai_practice",
   "language": "python",
   "name": "python3"
  },
  "language_info": {
   "codemirror_mode": {
    "name": "ipython",
    "version": 3
   },
   "file_extension": ".py",
   "mimetype": "text/x-python",
   "name": "python",
   "nbconvert_exporter": "python",
   "pygments_lexer": "ipython3",
   "version": "3.13.7"
  }
 },
 "nbformat": 4,
 "nbformat_minor": 2
}
