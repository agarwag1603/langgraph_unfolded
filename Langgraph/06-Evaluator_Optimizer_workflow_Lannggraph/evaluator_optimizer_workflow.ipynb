{
 "cells": [
  {
   "cell_type": "markdown",
   "metadata": {},
   "source": [
    "## Evaluator optimizer workflow works with giving evaluation feedback to improve the content"
   ]
  },
  {
   "cell_type": "code",
   "execution_count": 63,
   "metadata": {},
   "outputs": [
    {
     "data": {
      "text/plain": [
       "True"
      ]
     },
     "execution_count": 63,
     "metadata": {},
     "output_type": "execute_result"
    }
   ],
   "source": [
    "from typing import TypedDict, Literal, Annotated\n",
    "from langgraph.graph import START,END,StateGraph\n",
    "from langchain_openai import ChatOpenAI\n",
    "from dotenv import load_dotenv\n",
    "from IPython.display import Image, display\n",
    "from pydantic import BaseModel, Field\n",
    "from langchain_core.prompts import ChatPromptTemplate\n",
    "import operator\n",
    "\n",
    "load_dotenv()"
   ]
  },
  {
   "cell_type": "code",
   "execution_count": 64,
   "metadata": {},
   "outputs": [],
   "source": [
    "generator_llm= ChatOpenAI(model=\"gpt-4o-mini\")\n",
    "evaluator_llm= ChatOpenAI(model=\"gpt-5-mini\")\n",
    "optimize_llm= ChatOpenAI(model=\"gpt-5\")"
   ]
  },
  {
   "cell_type": "markdown",
   "metadata": {},
   "source": [
    "## evaluator using pydantic to enforce the data schema"
   ]
  },
  {
   "cell_type": "code",
   "execution_count": 65,
   "metadata": {},
   "outputs": [],
   "source": [
    "class Evaluator(BaseModel):\n",
    "    evaluation: Literal[\"approved\",\"needs_improvement\"] = Field(description=\"This field is for content evaluation value\")\n",
    "    feedback: str = Field(description=\"This is a content feedback field\")\n"
   ]
  },
  {
   "cell_type": "code",
   "execution_count": 66,
   "metadata": {},
   "outputs": [],
   "source": [
    "evaluator_model=evaluator_llm.with_structured_output(Evaluator)"
   ]
  },
  {
   "cell_type": "code",
   "execution_count": 67,
   "metadata": {},
   "outputs": [],
   "source": [
    "class Content(TypedDict):\n",
    "    topic: str\n",
    "    topic_content: str\n",
    "    evaluation: str\n",
    "    feedback: str\n",
    "    numberoflines: int\n",
    "    iteration: int\n",
    "    max_iteration: int\n",
    "\n",
    "    content_history: Annotated[list[str], operator.add]\n",
    "    feedback_history: Annotated[list[str], operator.add]\n",
    "    evaluation_history: Annotated[list[str], operator.add]"
   ]
  },
  {
   "cell_type": "markdown",
   "metadata": {},
   "source": [
    "## Generate content definition"
   ]
  },
  {
   "cell_type": "code",
   "execution_count": 68,
   "metadata": {},
   "outputs": [],
   "source": [
    "def generate_content(state:Content) -> Content:\n",
    "    prompt_template=f\"\"\"You are an AI content generator about the topic give by the user. \\n\n",
    "    Please help in generating the content for the topic in {state['numberoflines']} lines: \\n {state['topic']} \"\"\"\n",
    "\n",
    "    generator_response=generator_llm.invoke(prompt_template)\n",
    "    \n",
    "    return {\"topic_content\":generator_response.content,'content_history': [generator_response]}\n",
    "    "
   ]
  },
  {
   "cell_type": "markdown",
   "metadata": {},
   "source": [
    "## content evaluator definition"
   ]
  },
  {
   "cell_type": "code",
   "execution_count": 69,
   "metadata": {},
   "outputs": [],
   "source": [
    "def evaluate_content(state:Content) -> Content:\n",
    "\n",
    "    prompt_template=f\"\"\"You are an AI content evaluator about the content give by the user.\\n\n",
    "    Please help in evaluating the content and provide the short feedback and evaluation: \\n {state['topic_content']}\"\"\"\n",
    "\n",
    "    evaluator_response=evaluator_model.invoke(prompt_template)\n",
    "\n",
    "    return {\"evaluation\":evaluator_response.evaluation, \"feedback\":evaluator_response.feedback,\"feedback_history\":[evaluator_response.feedback],\"evaluation_history\":[evaluator_response.evaluation]}\n",
    "    "
   ]
  },
  {
   "cell_type": "markdown",
   "metadata": {},
   "source": [
    "## Optimizer helps in optimizing the generated content, definition as below"
   ]
  },
  {
   "cell_type": "code",
   "execution_count": 70,
   "metadata": {},
   "outputs": [],
   "source": [
    "def optimize_content(state:Content) -> Content:\n",
    "\n",
    "    prompt_template= f\"\"\"\n",
    "You are an AI content optimizer. Your role is to optimize the given content by the user.\\n\n",
    "Please help in optimizing the content from the user and keep it great: \\n {state['topic_content']}\n",
    "\"\"\"\n",
    "    \n",
    "    optimize_response=optimize_llm.invoke(prompt_template)\n",
    "    iteration = state['iteration'] + 1\n",
    "\n",
    "    return {\"topic_content\":optimize_response,\"iteration\":iteration, \"content_history\":[optimize_response]}\n",
    "    "
   ]
  },
  {
   "cell_type": "code",
   "execution_count": 71,
   "metadata": {},
   "outputs": [],
   "source": [
    "def evaluation_feedback(state:Content)-> Literal[\"approved\",\"optimze\"]:\n",
    "    if state['evaluation'] == 'approved' or state['iteration'] >= state['max_iteration']:\n",
    "        return 'approved'\n",
    "    else:\n",
    "        return 'needs_improvement'\n",
    "        \n",
    "\n",
    "    "
   ]
  },
  {
   "cell_type": "code",
   "execution_count": 72,
   "metadata": {},
   "outputs": [],
   "source": [
    "graph=StateGraph(Content)"
   ]
  },
  {
   "cell_type": "code",
   "execution_count": 73,
   "metadata": {},
   "outputs": [
    {
     "data": {
      "text/plain": [
       "<langgraph.graph.state.StateGraph at 0x10ca86fd0>"
      ]
     },
     "execution_count": 73,
     "metadata": {},
     "output_type": "execute_result"
    }
   ],
   "source": [
    "graph.add_node(\"generate_content\",generate_content)\n",
    "graph.add_node(\"evaluate_content\",evaluate_content)\n",
    "graph.add_node(\"optimize_content\",optimize_content)\n",
    "\n",
    "graph.add_edge(START,\"generate_content\")\n",
    "graph.add_edge(\"generate_content\",\"evaluate_content\")\n",
    "graph.add_conditional_edges('evaluate_content', evaluation_feedback, {'approved': END, 'needs_improvement': 'optimize_content'})\n",
    "graph.add_edge(\"optimize_content\",\"evaluate_content\")"
   ]
  },
  {
   "cell_type": "code",
   "execution_count": 74,
   "metadata": {},
   "outputs": [],
   "source": [
    "workflow=graph.compile()"
   ]
  },
  {
   "cell_type": "code",
   "execution_count": 75,
   "metadata": {},
   "outputs": [
    {
     "data": {
      "image/png": "[encoded data removed]",
      "text/plain": [
       "<IPython.core.display.Image object>"
      ]
     },
     "metadata": {},
     "output_type": "display_data"
    }
   ],
   "source": [
    "display(Image(workflow.get_graph().draw_mermaid_png()))"
   ]
  },
  {
   "cell_type": "code",
   "execution_count": 76,
   "metadata": {},
   "outputs": [],
   "source": [
    "initial_state = {\n",
    "    \"topic\": \"AI rise in India\",\n",
    "    \"iteration\": 1,\n",
    "    \"max_iteration\": 5,\n",
    "    \"numberoflines\":10\n",
    "}\n",
    "result = workflow.invoke(initial_state)"
   ]
  },
  {
   "cell_type": "code",
   "execution_count": 77,
   "metadata": {},
   "outputs": [
    {
     "data": {
      "text/plain": [
       "{'topic': 'AI rise in India',\n",
       " 'topic_content': AIMessage(content='Here are three optimized versions you can choose from, depending on your use case:\\n\\n1) Polished narrative (full version)\\nIndia’s AI momentum is accelerating, powered by advancing technology, rising investment, and a deep pool of tech talent. With strong IT infrastructure and a mature services ecosystem, the country is rapidly emerging as a global hub for AI research, engineering, and deployment. AI-first startups are driving innovation across healthcare, agriculture, finance, and more, while government initiatives—such as the National AI Strategy—promote research and embed AI in public services. Universities are updating curricula to prepare graduates for an AI-driven economy, and multinationals are expanding research centers that strengthen industry–academia collaboration. AI is also addressing societal priorities, from fortifying public health systems to improving citizen services. Challenges around data privacy and ethics persist, but the upside is clear: higher productivity, faster growth, and better quality of life. As the ecosystem matures, India’s influence on the global AI stage will only grow, positioning the country as a pivotal contributor to the future of technology.\\n\\n2) Concise executive summary\\nIndia’s AI surge is fueled by advancing tech, rising capital, and deep talent. With robust infrastructure and a mature services base, the nation is becoming a global hub for AI R&D and deployment. Startups and government efforts—such as the National AI Strategy—are transforming industries and public services, while universities and multinationals deepen industry–academia ties. Data privacy and ethics remain challenges, but AI’s potential to boost productivity, growth, and quality of life is substantial. India’s global AI role will only strengthen as the ecosystem matures.\\n\\n3) Punchy version (for social or intros)\\nIndia is shifting from AI adopter to AI builder. Backed by top-tier talent, investment, and infrastructure, it’s fast becoming a global hub for AI research and deployment. Startups and public initiatives (including the National AI Strategy) are reimagining healthcare, agriculture, finance, and citizen services. Privacy and ethics need vigilance, but the payoff is real: productivity gains, stronger growth, and better everyday experiences. India’s AI moment isn’t coming—it’s here.', additional_kwargs={'refusal': None}, response_metadata={'token_usage': {'completion_tokens': 1666, 'prompt_tokens': 499, 'total_tokens': 2165, 'completion_tokens_details': {'accepted_prediction_tokens': 0, 'audio_tokens': 0, 'reasoning_tokens': 1216, 'rejected_prediction_tokens': 0}, 'prompt_tokens_details': {'audio_tokens': 0, 'cached_tokens': 0}}, 'model_name': 'gpt-5-2025-08-07', 'system_fingerprint': None, 'id': 'chatcmpl-CPqHJ7rKaQwVrgeETETGLqYUwDptk', 'service_tier': 'default', 'finish_reason': 'stop', 'logprobs': None}, id='run--e824a9f5-701b-41ca-9b31-9102d208e94e-0', usage_metadata={'input_tokens': 499, 'output_tokens': 1666, 'total_tokens': 2165, 'input_token_details': {'audio': 0, 'cache_read': 0}, 'output_token_details': {'audio': 0, 'reasoning': 1216}}),\n",
       " 'evaluation': 'approved',\n",
       " 'feedback': 'Well-written set of three options that effectively target different audiences — detailed narrative, concise executive summary, and a punchy social-ready blurb. Minor improvements: add 1–2 concrete data points or examples to boost credibility, tighten a couple of repeated phrases in the full version, and consider character limits for social platforms in the punchy variant. Otherwise ready to use.',\n",
       " 'numberoflines': 10,\n",
       " 'iteration': 3,\n",
       " 'max_iteration': 5,\n",
       " 'content_history': [AIMessage(content=\"The rise of Artificial Intelligence (AI) in India is witnessing remarkable momentum, driven by advancements in technology and increasing investments. With a robust IT infrastructure and a skilled workforce, India is positioning itself as a global hub for AI development. Startups focused on AI solutions are proliferating, fostering innovation across various sectors such as healthcare, agriculture, and finance. Government initiatives, like the National AI Strategy, aim to promote AI research and integration into public services. Educational institutions are also adapting their curricula to prepare the workforce for the AI revolution. As multinational companies establish AI research centers in the country, collaboration between industry and academia is becoming more common. Furthermore, AI is being leveraged to tackle pressing societal challenges, from improving public health to enhancing citizen engagement. Despite challenges in data privacy and ethical concerns, the potential of AI to drive economic growth and improve quality of life is immense. As the ecosystem matures, India's position on the global AI stage is set to strengthen, making it a crucial player in shaping the future of technology.\", additional_kwargs={'refusal': None}, response_metadata={'token_usage': {'completion_tokens': 203, 'prompt_tokens': 43, 'total_tokens': 246, 'completion_tokens_details': {'accepted_prediction_tokens': 0, 'audio_tokens': 0, 'reasoning_tokens': 0, 'rejected_prediction_tokens': 0}, 'prompt_tokens_details': {'audio_tokens': 0, 'cached_tokens': 0}}, 'model_name': 'gpt-4o-mini-2024-07-18', 'system_fingerprint': 'fp_560af6e559', 'id': 'chatcmpl-CPqGez6MXGwEvu0VR80iwH8Hlu4PQ', 'service_tier': 'default', 'finish_reason': 'stop', 'logprobs': None}, id='run--26f2a44e-4789-436d-bb8e-c5f4dc662dac-0', usage_metadata={'input_tokens': 43, 'output_tokens': 203, 'total_tokens': 246, 'input_token_details': {'audio': 0, 'cache_read': 0}, 'output_token_details': {'audio': 0, 'reasoning': 0}}),\n",
       "  AIMessage(content='India’s AI momentum is accelerating, powered by technological advances, rising investment, and a deep pool of tech talent. With robust IT infrastructure and a mature services ecosystem, the country is emerging as a global hub for AI research, development, and deployment. A wave of AI-first startups is catalyzing innovation across healthcare, agriculture, finance, and more, while government initiatives—such as the National AI Strategy—promote research and embed AI into public services. Universities are updating curricula to prepare graduates for an AI-driven economy, and multinational companies are expanding AI research centers, deepening collaboration between industry and academia. AI is also being applied to pressing societal needs, from strengthening public health systems to improving citizen engagement and service delivery. Challenges around data privacy and ethics persist, but the potential to boost productivity, fuel economic growth, and enhance quality of life is substantial. As the ecosystem matures, India’s position on the global AI stage will only strengthen, making it a pivotal contributor to the future of technology.', additional_kwargs={'refusal': None}, response_metadata={'token_usage': {'completion_tokens': 1106, 'prompt_tokens': 244, 'total_tokens': 1350, 'completion_tokens_details': {'accepted_prediction_tokens': 0, 'audio_tokens': 0, 'reasoning_tokens': 896, 'rejected_prediction_tokens': 0}, 'prompt_tokens_details': {'audio_tokens': 0, 'cached_tokens': 0}}, 'model_name': 'gpt-5-2025-08-07', 'system_fingerprint': None, 'id': 'chatcmpl-CPqGpwOYalFTHE28KJplhjbmYal5E', 'service_tier': 'default', 'finish_reason': 'stop', 'logprobs': None}, id='run--771ec321-fbf5-432f-9ad4-b89e08e8012d-0', usage_metadata={'input_tokens': 244, 'output_tokens': 1106, 'total_tokens': 1350, 'input_token_details': {'audio': 0, 'cache_read': 0}, 'output_token_details': {'audio': 0, 'reasoning': 896}}),\n",
       "  AIMessage(content='Here are three optimized versions you can choose from, depending on your use case:\\n\\n1) Polished narrative (full version)\\nIndia’s AI momentum is accelerating, powered by advancing technology, rising investment, and a deep pool of tech talent. With strong IT infrastructure and a mature services ecosystem, the country is rapidly emerging as a global hub for AI research, engineering, and deployment. AI-first startups are driving innovation across healthcare, agriculture, finance, and more, while government initiatives—such as the National AI Strategy—promote research and embed AI in public services. Universities are updating curricula to prepare graduates for an AI-driven economy, and multinationals are expanding research centers that strengthen industry–academia collaboration. AI is also addressing societal priorities, from fortifying public health systems to improving citizen services. Challenges around data privacy and ethics persist, but the upside is clear: higher productivity, faster growth, and better quality of life. As the ecosystem matures, India’s influence on the global AI stage will only grow, positioning the country as a pivotal contributor to the future of technology.\\n\\n2) Concise executive summary\\nIndia’s AI surge is fueled by advancing tech, rising capital, and deep talent. With robust infrastructure and a mature services base, the nation is becoming a global hub for AI R&D and deployment. Startups and government efforts—such as the National AI Strategy—are transforming industries and public services, while universities and multinationals deepen industry–academia ties. Data privacy and ethics remain challenges, but AI’s potential to boost productivity, growth, and quality of life is substantial. India’s global AI role will only strengthen as the ecosystem matures.\\n\\n3) Punchy version (for social or intros)\\nIndia is shifting from AI adopter to AI builder. Backed by top-tier talent, investment, and infrastructure, it’s fast becoming a global hub for AI research and deployment. Startups and public initiatives (including the National AI Strategy) are reimagining healthcare, agriculture, finance, and citizen services. Privacy and ethics need vigilance, but the payoff is real: productivity gains, stronger growth, and better everyday experiences. India’s AI moment isn’t coming—it’s here.', additional_kwargs={'refusal': None}, response_metadata={'token_usage': {'completion_tokens': 1666, 'prompt_tokens': 499, 'total_tokens': 2165, 'completion_tokens_details': {'accepted_prediction_tokens': 0, 'audio_tokens': 0, 'reasoning_tokens': 1216, 'rejected_prediction_tokens': 0}, 'prompt_tokens_details': {'audio_tokens': 0, 'cached_tokens': 0}}, 'model_name': 'gpt-5-2025-08-07', 'system_fingerprint': None, 'id': 'chatcmpl-CPqHJ7rKaQwVrgeETETGLqYUwDptk', 'service_tier': 'default', 'finish_reason': 'stop', 'logprobs': None}, id='run--e824a9f5-701b-41ca-9b31-9102d208e94e-0', usage_metadata={'input_tokens': 499, 'output_tokens': 1666, 'total_tokens': 2165, 'input_token_details': {'audio': 0, 'cache_read': 0}, 'output_token_details': {'audio': 0, 'reasoning': 1216}})],\n",
       " 'feedback_history': ['Clear, coherent overview of AI growth in India but overly general and lacking specifics. Improve by adding concrete data and examples (e.g., NITI Aayog’s National Strategy for AI, key startups and multinational research centers), metrics or timelines, and more detail on regulatory, data-privacy and ethical challenges with citations.',\n",
       "  'Clear, well-structured high-level overview that correctly highlights strengths (talent, startups, industry–academia ties) and key challenge areas (privacy, ethics). To improve: add concrete evidence (numbers, dates, named initiatives and examples), mention regulatory context and risks beyond privacy (bias, accountability, digital divide, infrastructure gaps), and include more balanced nuances or citations. Also tighten wording to avoid generalities and repetition.',\n",
       "  'Well-written set of three options that effectively target different audiences — detailed narrative, concise executive summary, and a punchy social-ready blurb. Minor improvements: add 1–2 concrete data points or examples to boost credibility, tighten a couple of repeated phrases in the full version, and consider character limits for social platforms in the punchy variant. Otherwise ready to use.'],\n",
       " 'evaluation_history': ['needs_improvement', 'needs_improvement', 'approved']}"
      ]
     },
     "execution_count": 77,
     "metadata": {},
     "output_type": "execute_result"
    }
   ],
   "source": [
    "result"
   ]
  }
 ],
 "metadata": {
  "kernelspec": {
   "display_name": "ai_practice",
   "language": "python",
   "name": "python3"
  },
  "language_info": {
   "codemirror_mode": {
    "name": "ipython",
    "version": 3
   },
   "file_extension": ".py",
   "mimetype": "text/x-python",
   "name": "python",
   "nbconvert_exporter": "python",
   "pygments_lexer": "ipython3",
   "version": "3.13.7"
  }
 },
 "nbformat": 4,
 "nbformat_minor": 2
}
