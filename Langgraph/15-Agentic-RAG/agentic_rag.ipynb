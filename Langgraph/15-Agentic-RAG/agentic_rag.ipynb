{
 "cells": [
  {
   "cell_type": "code",
   "execution_count": 4,
   "metadata": {},
   "outputs": [
    {
     "data": {
      "text/plain": [
       "True"
      ]
     },
     "execution_count": 4,
     "metadata": {},
     "output_type": "execute_result"
    }
   ],
   "source": [
    "from langgraph.graph import StateGraph, START, END, MessagesState\n",
    "from langchain_openai import ChatOpenAI\n",
    "from dotenv import load_dotenv\n",
    "from IPython.display import Image, display, Markdown\n",
    "from langgraph.prebuilt import ToolNode, tools_condition\n",
    "from langchain_core.tools import tool\n",
    "from langchain_core.messages import SystemMessage, AIMessage, HumanMessage, BaseMessage,ToolMessage\n",
    "from langgraph.checkpoint.memory import MemorySaver\n",
    "from langchain_community.document_loaders import PyPDFLoader\n",
    "from langchain_openai import OpenAIEmbeddings\n",
    "from langchain_text_splitters import RecursiveCharacterTextSplitter\n",
    "from langchain.tools.retriever import create_retriever_tool\n",
    "from langchain_community.vectorstores import Chroma, FAISS\n",
    "from typing import TypedDict,Annotated,Literal\n",
    "from langgraph.graph.message import add_messages\n",
    "from pydantic import BaseModel, Field\n",
    "\n",
    "import os\n",
    "\n",
    "\n",
    "load_dotenv()"
   ]
  },
  {
   "cell_type": "code",
   "execution_count": 5,
   "metadata": {},
   "outputs": [],
   "source": [
    "os.environ['LANGCHAIN_PROJECT']=\"Agentic RAG\""
   ]
  },
  {
   "cell_type": "code",
   "execution_count": 6,
   "metadata": {},
   "outputs": [],
   "source": [
    "gpt_llm= ChatOpenAI(model=\"gpt-4o-mini\")\n"
   ]
  },
  {
   "cell_type": "code",
   "execution_count": 7,
   "metadata": {},
   "outputs": [],
   "source": [
    "# Get the directory where the notebook is located\n",
    "rental_dir = os.path.dirname(os.path.abspath(\"__file__\"))\n",
    "pdf_path = os.path.join(rental_dir, \"RentalConditions.pdf\")\n",
    "\n",
    "\n",
    "pdf_loader= PyPDFLoader(pdf_path)\n",
    "pdf_documents=pdf_loader.load()\n",
    "splitter=RecursiveCharacterTextSplitter(chunk_size=500, chunk_overlap=50)\n",
    "pdf_splitted=splitter.split_documents(pdf_documents)\n",
    "\n",
    "embeddings=OpenAIEmbeddings(model=\"text-embedding-3-small\",dimensions=1024)\n",
    "chromadatabase=Chroma.from_documents(pdf_splitted,embeddings)\n",
    "chromdb_retrieved_docs=chromadatabase.as_retriever(search_kwargs={\"k\": 3})\n",
    "retriver_tool_car_rental=create_retriever_tool(chromdb_retrieved_docs,\"Rental_Car_Retriever\", \"Rental car information to be pulled from this document\")"
   ]
  },
  {
   "cell_type": "code",
   "execution_count": 8,
   "metadata": {},
   "outputs": [],
   "source": [
    "# Get the directory where the notebook is located\n",
    "arxhiv_dir = os.path.dirname(os.path.abspath(\"__file__\"))\n",
    "pdf_path = os.path.join(arxhiv_dir, \"1706.03762v7.pdf\")\n",
    "\n",
    "\n",
    "pdf_loader= PyPDFLoader(pdf_path)\n",
    "pdf_documents=pdf_loader.load()\n",
    "splitter=RecursiveCharacterTextSplitter(chunk_size=500, chunk_overlap=50)\n",
    "pdf_splitted=splitter.split_documents(pdf_documents)\n",
    "\n",
    "embeddings=OpenAIEmbeddings(model=\"text-embedding-3-small\",dimensions=1024)\n",
    "faissdatabase=FAISS.from_documents(pdf_splitted,embeddings)\n",
    "faiss_retrieved_docs=faissdatabase.as_retriever(search_kwargs={\"k\": 3})\n",
    "retriver_tool_arxhiv=create_retriever_tool(faiss_retrieved_docs,\"Arxhiv_Retriever\", \"Arxhiv retrieval for research document\")"
   ]
  },
  {
   "cell_type": "code",
   "execution_count": 9,
   "metadata": {},
   "outputs": [],
   "source": [
    "tools=[retriver_tool_car_rental,retriver_tool_arxhiv]\n",
    "\n",
    "llm_tools=gpt_llm.bind_tools(tools)"
   ]
  },
  {
   "cell_type": "code",
   "execution_count": 10,
   "metadata": {},
   "outputs": [],
   "source": [
    "# class ToolState(TypedDict):\n",
    "#     question: str\n",
    "#     answer: str\n",
    "\n",
    "class ToolCaller(TypedDict):\n",
    "    messages: Annotated[list[BaseMessage], add_messages]\n",
    "    grader: str\n",
    "    \n",
    "    "
   ]
  },
  {
   "cell_type": "code",
   "execution_count": 11,
   "metadata": {},
   "outputs": [],
   "source": [
    "class Grader(BaseModel):\n",
    "        grader:Literal[\"Yes\",\"No\"] = Field(description=\"Document retreival relevance checker\")"
   ]
  },
  {
   "cell_type": "code",
   "execution_count": 12,
   "metadata": {},
   "outputs": [],
   "source": [
    "structured_output=gpt_llm.with_structured_output(Grader)"
   ]
  },
  {
   "cell_type": "code",
   "execution_count": 13,
   "metadata": {},
   "outputs": [],
   "source": [
    "def agent_assistant(state:ToolCaller)-> ToolCaller:\n",
    "    \"\"\"LLM node that may answer or request a tool call\"\"\"\n",
    "    \n",
    "    prompt=f\"You are an AI assistant who makes different tool calls and provide answers to the users based on user query: {state['messages']}.\"\n",
    "\n",
    "    result=llm_tools.invoke(prompt)\n",
    "    return {\"messages\":[result]}"
   ]
  },
  {
   "cell_type": "code",
   "execution_count": 14,
   "metadata": {},
   "outputs": [],
   "source": [
    "def retriever_agent(state:ToolCaller)-> ToolCaller:\n",
    "    \"\"\"You are a document grader whose role is to check if the document is relavant based on the user query\"\"\"\n",
    "\n",
    "    for msg in state[\"messages\"]:\n",
    "            if isinstance(msg, ToolMessage):\n",
    "                tool_message=msg.content\n",
    "            if isinstance(msg, HumanMessage):\n",
    "                human_message=msg.content\n",
    "\n",
    "    prompt=f\"\"\"From the given user_query - \\n {human_message}. \\n These are context: \\n {tool_message} fetched from the document. \n",
    "    Based on the user query and context provided, please classify the grader of question as 'Yes' or 'No'. Do look for bad and short queries by users.\"\"\"\n",
    "\n",
    "    response=structured_output.invoke(prompt)\n",
    "    \n",
    "    return {\"grader\":response.grader}"
   ]
  },
  {
   "cell_type": "code",
   "execution_count": 15,
   "metadata": {},
   "outputs": [],
   "source": [
    "def grader_condition(state:ToolCaller)-> Literal[\"rewrite_agent\",\"generate_agent\"]:\n",
    "    \"\"\"Condition to help check the rewrite agent or generate agent\"\"\"\n",
    "\n",
    "    if state[\"grader\"]==\"Yes\":\n",
    "        return \"generate_agent\"\n",
    "    else:\n",
    "        return \"rewrite_agent\""
   ]
  },
  {
   "cell_type": "code",
   "execution_count": 16,
   "metadata": {},
   "outputs": [],
   "source": [
    "def rewrite_agent(state:ToolCaller)-> ToolCaller:\n",
    "    \"\"\"You are a rewrite agent which helps in generating/rewriting the user query.\"\"\"\n",
    "\n",
    "    for msg in state[\"messages\"]:\n",
    "            if isinstance(msg, HumanMessage):\n",
    "                human_message=msg.content\n",
    "\n",
    "    prompt=f\"\"\"From the given user_query, please help in rewite the user query- \\n {human_message}.'\"\"\"\n",
    "\n",
    "    response=gpt_llm.invoke(prompt)\n",
    "    \n",
    "    return {\"messages\":[response]}"
   ]
  },
  {
   "cell_type": "code",
   "execution_count": 17,
   "metadata": {},
   "outputs": [],
   "source": [
    "def generate_agent(state:ToolCaller)-> ToolCaller:\n",
    "    \"\"\"You are a generation agent which helps in generating the final output from the relavant documents.\n",
    "    Args: \n",
    "        state[messages] - current state \n",
    "    Returns:\n",
    "        dictionary - update state messages\n",
    "\n",
    "    \"\"\"\n",
    "\n",
    "    for msg in state[\"messages\"]:\n",
    "            if isinstance(msg, ToolMessage):\n",
    "                tool_message=msg.content\n",
    "            if isinstance(msg, HumanMessage):\n",
    "                human_message=msg.content\n",
    "\n",
    "    prompt=f\"\"\"From the given user_query - \\n {human_message}. \\n These are context: \\n {tool_message} fetched from the document. \n",
    "    Please help in giving the output of the user question.\"\"\"\n",
    "\n",
    "    response=gpt_llm.invoke(prompt)\n",
    "    \n",
    "    return {\"messages\":[response]}"
   ]
  },
  {
   "cell_type": "code",
   "execution_count": 18,
   "metadata": {},
   "outputs": [],
   "source": [
    "graph=StateGraph(ToolCaller)\n"
   ]
  },
  {
   "cell_type": "code",
   "execution_count": 19,
   "metadata": {},
   "outputs": [
    {
     "data": {
      "text/plain": [
       "<langgraph.graph.state.StateGraph at 0x10fedcc20>"
      ]
     },
     "execution_count": 19,
     "metadata": {},
     "output_type": "execute_result"
    }
   ],
   "source": [
    "graph.add_node(\"agent_assistant\",agent_assistant)\n",
    "graph.add_node(\"tools\",ToolNode(tools))\n",
    "graph.add_node(\"retriever_agent\",retriever_agent)\n",
    "graph.add_node(\"rewrite_agent\",rewrite_agent)\n",
    "graph.add_node(\"generate_agent\",generate_agent)\n",
    "\n",
    "graph.add_edge(START, \"agent_assistant\")\n",
    "graph.add_conditional_edges(\"agent_assistant\",tools_condition)\n",
    "graph.add_edge(\"tools\",\"retriever_agent\")\n",
    "graph.add_conditional_edges(\"retriever_agent\",grader_condition)\n",
    "graph.add_edge(\"rewrite_agent\",\"agent_assistant\")\n",
    "graph.add_edge(\"generate_agent\",END)\n"
   ]
  },
  {
   "cell_type": "code",
   "execution_count": 20,
   "metadata": {},
   "outputs": [],
   "source": [
    "workflow = graph.compile()"
   ]
  },
  {
   "cell_type": "code",
   "execution_count": 21,
   "metadata": {},
   "outputs": [
    {
     "data": {
      "image/png": "[encoded data removed]",
      "text/plain": [
       "<IPython.core.display.Image object>"
      ]
     },
     "metadata": {},
     "output_type": "display_data"
    }
   ],
   "source": [
    "display(Image(workflow.get_graph().draw_mermaid_png()))"
   ]
  },
  {
   "cell_type": "code",
   "execution_count": 22,
   "metadata": {},
   "outputs": [],
   "source": [
    "config = {\n",
    "    \"run_name\":\"Agentic Rag\"\n",
    "}\n",
    "result = workflow.invoke({\"messages\":\"contact points for car rental?\"}, config=config)"
   ]
  },
  {
   "cell_type": "code",
   "execution_count": 23,
   "metadata": {},
   "outputs": [
    {
     "data": {
      "text/plain": [
       "{'messages': [HumanMessage(content='contact points for car rental?', additional_kwargs={}, response_metadata={}, id='4eaceb51-fff5-4e05-a5a8-d88382d8d6c0'),\n",
       "  AIMessage(content='', additional_kwargs={'tool_calls': [{'id': 'call_TgDtv6gROoRgGA0y8NerOt9n', 'function': {'arguments': '{\"query\":\"contact points for car rental\"}', 'name': 'Rental_Car_Retriever'}, 'type': 'function'}], 'refusal': None}, response_metadata={'token_usage': {'completion_tokens': 23, 'prompt_tokens': 162, 'total_tokens': 185, 'completion_tokens_details': {'accepted_prediction_tokens': 0, 'audio_tokens': 0, 'reasoning_tokens': 0, 'rejected_prediction_tokens': 0}, 'prompt_tokens_details': {'audio_tokens': 0, 'cached_tokens': 0}}, 'model_name': 'gpt-4o-mini-2024-07-18', 'system_fingerprint': 'fp_560af6e559', 'id': 'chatcmpl-CRpKw32xydJ2MbsY8Ig1TACFMvbRF', 'service_tier': 'default', 'finish_reason': 'tool_calls', 'logprobs': None}, id='run--35c5ef44-570d-48ab-80f9-a3f0fd2d6a01-0', tool_calls=[{'name': 'Rental_Car_Retriever', 'args': {'query': 'contact points for car rental'}, 'id': 'call_TgDtv6gROoRgGA0y8NerOt9n', 'type': 'tool_call'}], usage_metadata={'input_tokens': 162, 'output_tokens': 23, 'total_tokens': 185, 'input_token_details': {'audio': 0, 'cache_read': 0}, 'output_token_details': {'audio': 0, 'reasoning': 0}}),\n",
       "  ToolMessage(content='ON THE SPOT ASSISTANCE\\nWe are happy to assist you\\nIn cases you need our support when you arrive at your pick- up location or during the rental please contact the following\\nemergency telephone numbers:\\nEmergency Telephone numbers\\nYour telephone number for English (UK): +442038850130\\nYour telephone number for English (US): 01-855 47 85 048\\nYour telephone number for Spanish: +34871180639\\nYour telephone number for German: +493031197084\\nYour telephone number for French: +33186657629\\n\\nwith chip, pin code and embossed numbers and it must be valid at least 3 months after the drop-off date of the rented car\\nMost welcomed payment types\\nVisa or Mastercard\\nSome suppliers may not accept\\nAmerican Express, Union Pay, Visa Premier or Diners/ Discover Club, Carte Bleue (Dual Cards), Debit Cards\\nMost Declined Payment Types\\nPrepaid Debit Cards, Prepaid Credit Cards, Virtual Credit Cards (Apple Pay, Corporatepay and Comparable), and Cash\\nPremium, Luxury, Elite and higher categories\\n\\nthe rental desk.\\nCROSS BORDER TRAVEL\\nCross- border travel is not usually permitted. Cross- border may or may not be available if you intend to drive to different\\nislands within the same country or outside the country/state (for example, US/CAN). Charges may apply if available. It is\\nMANDATORY to notify the rental agent of your plan to cross borders PRIOR TO THE PICK- UP DAY (it is usually', name='Rental_Car_Retriever', id='e887f3ac-d89e-4946-9e7c-d81f0c5b5213', tool_call_id='call_TgDtv6gROoRgGA0y8NerOt9n'),\n",
       "  AIMessage(content='Here are the contact points for car rental assistance:\\n\\n**Emergency Telephone Numbers:**\\n- For English (UK): +44 203 885 0130\\n- For English (US): 01-855 478 5048\\n- For Spanish: +34 871 180 639\\n- For German: +49 30 311 97084\\n- For French: +33 1 865 76529\\n\\nFeel free to reach out to these numbers if you need support when you arrive at your pick-up location or during the rental period.', additional_kwargs={'refusal': None}, response_metadata={'token_usage': {'completion_tokens': 115, 'prompt_tokens': 357, 'total_tokens': 472, 'completion_tokens_details': {'accepted_prediction_tokens': 0, 'audio_tokens': 0, 'reasoning_tokens': 0, 'rejected_prediction_tokens': 0}, 'prompt_tokens_details': {'audio_tokens': 0, 'cached_tokens': 0}}, 'model_name': 'gpt-4o-mini-2024-07-18', 'system_fingerprint': 'fp_560af6e559', 'id': 'chatcmpl-CRpL00My1UTnSlA54glH8uXwnAkgT', 'service_tier': 'default', 'finish_reason': 'stop', 'logprobs': None}, id='run--7094c7b1-5690-435c-a31f-b98b68dfed67-0', usage_metadata={'input_tokens': 357, 'output_tokens': 115, 'total_tokens': 472, 'input_token_details': {'audio': 0, 'cache_read': 0}, 'output_token_details': {'audio': 0, 'reasoning': 0}})],\n",
       " 'grader': 'Yes'}"
      ]
     },
     "execution_count": 23,
     "metadata": {},
     "output_type": "execute_result"
    }
   ],
   "source": [
    "result"
   ]
  },
  {
   "cell_type": "code",
   "execution_count": 26,
   "metadata": {},
   "outputs": [
    {
     "data": {
      "text/markdown": [
       "Here are the contact points for car rental assistance:\n",
       "\n",
       "**Emergency Telephone Numbers:**\n",
       "- For English (UK): +44 203 885 0130\n",
       "- For English (US): 01-855 478 5048\n",
       "- For Spanish: +34 871 180 639\n",
       "- For German: +49 30 311 97084\n",
       "- For French: +33 1 865 76529\n",
       "\n",
       "Feel free to reach out to these numbers if you need support when you arrive at your pick-up location or during the rental period."
      ],
      "text/plain": [
       "<IPython.core.display.Markdown object>"
      ]
     },
     "execution_count": 26,
     "metadata": {},
     "output_type": "execute_result"
    }
   ],
   "source": [
    "Markdown(result['messages'][-1].content)"
   ]
  }
 ],
 "metadata": {
  "kernelspec": {
   "display_name": "ai_practice",
   "language": "python",
   "name": "python3"
  },
  "language_info": {
   "codemirror_mode": {
    "name": "ipython",
    "version": 3
   },
   "file_extension": ".py",
   "mimetype": "text/x-python",
   "name": "python",
   "nbconvert_exporter": "python",
   "pygments_lexer": "ipython3",
   "version": "3.13.7"
  }
 },
 "nbformat": 4,
 "nbformat_minor": 2
}
