{
 "cells": [
  {
   "cell_type": "code",
   "execution_count": 3,
   "metadata": {},
   "outputs": [
    {
     "data": {
      "text/plain": [
       "True"
      ]
     },
     "execution_count": 3,
     "metadata": {},
     "output_type": "execute_result"
    }
   ],
   "source": [
    "from langgraph.graph import StateGraph, START, END, MessagesState\n",
    "from langchain_openai import ChatOpenAI\n",
    "from dotenv import load_dotenv\n",
    "from IPython.display import Image, display, Markdown\n",
    "from langgraph.prebuilt import ToolNode, tools_condition\n",
    "from langchain_core.tools import tool\n",
    "from langchain_core.messages import SystemMessage, AIMessage, HumanMessage, BaseMessage,ToolMessage\n",
    "from langgraph.checkpoint.memory import MemorySaver\n",
    "from langchain_community.document_loaders import PyPDFLoader\n",
    "from langchain_openai import OpenAIEmbeddings\n",
    "from langchain_text_splitters import RecursiveCharacterTextSplitter\n",
    "from langchain.tools.retriever import create_retriever_tool\n",
    "from langchain_community.vectorstores import Chroma, FAISS\n",
    "from typing import TypedDict,Annotated,Literal\n",
    "from langgraph.graph.message import add_messages\n",
    "from pydantic import BaseModel, Field\n",
    "\n",
    "import os\n",
    "\n",
    "\n",
    "load_dotenv()"
   ]
  },
  {
   "cell_type": "code",
   "execution_count": 4,
   "metadata": {},
   "outputs": [],
   "source": [
    "os.environ['LANGCHAIN_PROJECT']=\"Agentic RAG\""
   ]
  },
  {
   "cell_type": "code",
   "execution_count": 5,
   "metadata": {},
   "outputs": [],
   "source": [
    "gpt_llm= ChatOpenAI(model=\"gpt-4o-mini\")\n"
   ]
  },
  {
   "cell_type": "code",
   "execution_count": 6,
   "metadata": {},
   "outputs": [],
   "source": [
    "# Get the directory where the notebook is located\n",
    "rental_dir = os.path.dirname(os.path.abspath(\"__file__\"))\n",
    "pdf_path = os.path.join(rental_dir, \"RentalConditions.pdf\")\n",
    "\n",
    "\n",
    "pdf_loader= PyPDFLoader(pdf_path)\n",
    "pdf_documents=pdf_loader.load()\n",
    "splitter=RecursiveCharacterTextSplitter(chunk_size=500, chunk_overlap=50)\n",
    "pdf_splitted=splitter.split_documents(pdf_documents)\n",
    "\n",
    "embeddings=OpenAIEmbeddings(model=\"text-embedding-3-small\",dimensions=1024)\n",
    "chromadatabase=Chroma.from_documents(pdf_splitted,embeddings)\n",
    "chromdb_retrieved_docs=chromadatabase.as_retriever(search_kwargs={\"k\": 3})\n",
    "retriver_tool_car_rental=create_retriever_tool(chromdb_retrieved_docs,\"Rental_Car_Retriever\", \"Rental car information to be pulled from this document\")"
   ]
  },
  {
   "cell_type": "code",
   "execution_count": 7,
   "metadata": {},
   "outputs": [],
   "source": [
    "# Get the directory where the notebook is located\n",
    "arxhiv_dir = os.path.dirname(os.path.abspath(\"__file__\"))\n",
    "pdf_path = os.path.join(arxhiv_dir, \"1706.03762v7.pdf\")\n",
    "\n",
    "\n",
    "pdf_loader= PyPDFLoader(pdf_path)\n",
    "pdf_documents=pdf_loader.load()\n",
    "splitter=RecursiveCharacterTextSplitter(chunk_size=500, chunk_overlap=50)\n",
    "pdf_splitted=splitter.split_documents(pdf_documents)\n",
    "\n",
    "embeddings=OpenAIEmbeddings(model=\"text-embedding-3-small\",dimensions=1024)\n",
    "faissdatabase=FAISS.from_documents(pdf_splitted,embeddings)\n",
    "faiss_retrieved_docs=faissdatabase.as_retriever(search_kwargs={\"k\": 3})\n",
    "retriver_tool_arxhiv=create_retriever_tool(faiss_retrieved_docs,\"Arxhiv_Retriever\", \"Arxhiv retrieval for research document\")"
   ]
  },
  {
   "cell_type": "code",
   "execution_count": 8,
   "metadata": {},
   "outputs": [],
   "source": [
    "# Get the directory where the notebook is located\n",
    "policy_dir = os.path.dirname(os.path.abspath(\"__file__\"))\n",
    "pdf_path = os.path.join(policy_dir, \"Policy Copy.pdf\")\n",
    "\n",
    "\n",
    "pdf_loader= PyPDFLoader(pdf_path)\n",
    "pdf_documents=pdf_loader.load()\n",
    "splitter=RecursiveCharacterTextSplitter(chunk_size=500, chunk_overlap=50)\n",
    "pdf_splitted=splitter.split_documents(pdf_documents)\n",
    "\n",
    "embeddings=OpenAIEmbeddings(model=\"text-embedding-3-small\",dimensions=1024)\n",
    "faissdatabase=FAISS.from_documents(pdf_splitted,embeddings)\n",
    "faiss_retrieved_docs=faissdatabase.as_retriever(search_kwargs={\"k\": 3})\n",
    "retriver_tool_policy=create_retriever_tool(faiss_retrieved_docs,\"Policy_insurance\", \"Policy data finder\")"
   ]
  },
  {
   "cell_type": "code",
   "execution_count": 9,
   "metadata": {},
   "outputs": [],
   "source": [
    "tools=[retriver_tool_car_rental,retriver_tool_arxhiv,retriver_tool_policy]\n",
    "\n",
    "llm_tools=gpt_llm.bind_tools(tools)"
   ]
  },
  {
   "cell_type": "code",
   "execution_count": 10,
   "metadata": {},
   "outputs": [],
   "source": [
    "# class ToolState(TypedDict):\n",
    "#     question: str\n",
    "#     answer: str\n",
    "\n",
    "class ToolCaller(TypedDict):\n",
    "    messages: Annotated[list[BaseMessage], add_messages]\n",
    "    grader: str\n",
    "    \n",
    "    "
   ]
  },
  {
   "cell_type": "code",
   "execution_count": 11,
   "metadata": {},
   "outputs": [],
   "source": [
    "class Grader(BaseModel):\n",
    "        grader:Literal[\"Yes\",\"No\"] = Field(description=\"Document retreival relevance checker\")"
   ]
  },
  {
   "cell_type": "code",
   "execution_count": 12,
   "metadata": {},
   "outputs": [],
   "source": [
    "structured_output=gpt_llm.with_structured_output(Grader)"
   ]
  },
  {
   "cell_type": "code",
   "execution_count": 13,
   "metadata": {},
   "outputs": [],
   "source": [
    "def agent_assistant(state:ToolCaller)-> ToolCaller:\n",
    "    \"\"\"LLM node that may answer or request a tool call\"\"\"\n",
    "    \n",
    "    prompt=f\"You are an AI assistant who makes different tool calls and provide answers to the users based on user query: {state['messages']}.\"\n",
    "\n",
    "    result=llm_tools.invoke(prompt)\n",
    "    return {\"messages\":[result]}"
   ]
  },
  {
   "cell_type": "code",
   "execution_count": 14,
   "metadata": {},
   "outputs": [],
   "source": [
    "def retriever_agent(state:ToolCaller)-> ToolCaller:\n",
    "    \"\"\"You are a document grader whose role is to check if the document is relavant based on the user query\"\"\"\n",
    "\n",
    "    for msg in state[\"messages\"]:\n",
    "            if isinstance(msg, ToolMessage):\n",
    "                tool_message=msg.content\n",
    "            if isinstance(msg, HumanMessage):\n",
    "                human_message=msg.content\n",
    "\n",
    "    prompt=f\"\"\"From the given user_query - \\n {human_message}. \\n These are context: \\n {tool_message} fetched from the document. \n",
    "    Based on the user query and context provided, please classify the grader of question as 'Yes' or 'No'. Do look for bad and short queries by users.\"\"\"\n",
    "\n",
    "    response=structured_output.invoke(prompt)\n",
    "    \n",
    "    return {\"grader\":response.grader}"
   ]
  },
  {
   "cell_type": "code",
   "execution_count": 15,
   "metadata": {},
   "outputs": [],
   "source": [
    "def grader_condition(state:ToolCaller)-> Literal[\"rewrite_agent\",\"generate_agent\"]:\n",
    "    \"\"\"Condition to help check the rewrite agent or generate agent\"\"\"\n",
    "\n",
    "    if state[\"grader\"]==\"Yes\":\n",
    "        return \"generate_agent\"\n",
    "    else:\n",
    "        return \"rewrite_agent\""
   ]
  },
  {
   "cell_type": "code",
   "execution_count": 16,
   "metadata": {},
   "outputs": [],
   "source": [
    "def rewrite_agent(state:ToolCaller)-> ToolCaller:\n",
    "    \"\"\"You are a rewrite agent which helps in generating/rewriting the user query.\"\"\"\n",
    "\n",
    "    for msg in state[\"messages\"]:\n",
    "            if isinstance(msg, HumanMessage):\n",
    "                human_message=msg.content\n",
    "\n",
    "    prompt=f\"\"\"From the given user_query, please help in rewite the user query- \\n {human_message}.'\"\"\"\n",
    "\n",
    "    response=gpt_llm.invoke(prompt)\n",
    "    \n",
    "    return {\"messages\":[response]}"
   ]
  },
  {
   "cell_type": "code",
   "execution_count": 17,
   "metadata": {},
   "outputs": [],
   "source": [
    "def generate_agent(state:ToolCaller)-> ToolCaller:\n",
    "    \"\"\"You are a generation agent which helps in generating the final output from the relavant documents.\n",
    "    Args: \n",
    "        state[messages] - current state \n",
    "    Returns:\n",
    "        dictionary - update state messages\n",
    "\n",
    "    \"\"\"\n",
    "\n",
    "    for msg in state[\"messages\"]:\n",
    "            if isinstance(msg, ToolMessage):\n",
    "                tool_message=msg.content\n",
    "            if isinstance(msg, HumanMessage):\n",
    "                human_message=msg.content\n",
    "\n",
    "    prompt=f\"\"\"From the given user_query - \\n {human_message}. \\n These are context: \\n {tool_message} fetched from the document. \n",
    "    Please help in giving the output of the user question.\"\"\"\n",
    "\n",
    "    response=gpt_llm.invoke(prompt)\n",
    "    \n",
    "    return {\"messages\":[response]}"
   ]
  },
  {
   "cell_type": "code",
   "execution_count": 18,
   "metadata": {},
   "outputs": [],
   "source": [
    "graph=StateGraph(ToolCaller)\n"
   ]
  },
  {
   "cell_type": "code",
   "execution_count": 19,
   "metadata": {},
   "outputs": [
    {
     "data": {
      "text/plain": [
       "<langgraph.graph.state.StateGraph at 0x12e2ada90>"
      ]
     },
     "execution_count": 19,
     "metadata": {},
     "output_type": "execute_result"
    }
   ],
   "source": [
    "graph.add_node(\"agent_assistant\",agent_assistant)\n",
    "graph.add_node(\"tools\",ToolNode(tools))\n",
    "graph.add_node(\"retriever_agent\",retriever_agent)\n",
    "graph.add_node(\"rewrite_agent\",rewrite_agent)\n",
    "graph.add_node(\"generate_agent\",generate_agent)\n",
    "\n",
    "graph.add_edge(START, \"agent_assistant\")\n",
    "graph.add_conditional_edges(\"agent_assistant\",tools_condition)\n",
    "graph.add_edge(\"tools\",\"retriever_agent\")\n",
    "graph.add_conditional_edges(\"retriever_agent\",grader_condition)\n",
    "graph.add_edge(\"rewrite_agent\",\"agent_assistant\")\n",
    "graph.add_edge(\"generate_agent\",END)\n"
   ]
  },
  {
   "cell_type": "code",
   "execution_count": 20,
   "metadata": {},
   "outputs": [],
   "source": [
    "workflow = graph.compile()"
   ]
  },
  {
   "cell_type": "code",
   "execution_count": 21,
   "metadata": {},
   "outputs": [
    {
     "data": {
      "image/png": "[encoded data removed]",
      "text/plain": [
       "<IPython.core.display.Image object>"
      ]
     },
     "metadata": {},
     "output_type": "display_data"
    }
   ],
   "source": [
    "display(Image(workflow.get_graph().draw_mermaid_png()))"
   ]
  },
  {
   "cell_type": "code",
   "execution_count": null,
   "metadata": {},
   "outputs": [],
   "source": [
    "config = {\n",
    "    \"run_name\":\"Agentic Rag\"\n",
    "}\n",
    "result = workflow.invoke({\"messages\":\"can you give me \"}, config=config)"
   ]
  },
  {
   "cell_type": "code",
   "execution_count": 26,
   "metadata": {},
   "outputs": [
    {
     "data": {
      "text/plain": [
       "{'messages': [HumanMessage(content='Are there any hospitals included for health check?', additional_kwargs={}, response_metadata={}, id='185f81bf-9104-45f2-b307-1a7492a96fb1'),\n",
       "  AIMessage(content='', additional_kwargs={'tool_calls': [{'id': 'call_ndXgbjY3K1u2Dhl7e65nzKYe', 'function': {'arguments': '{\"query\":\"hospitals included for health check\"}', 'name': 'Policy_insurance'}, 'type': 'function'}], 'refusal': None}, response_metadata={'token_usage': {'completion_tokens': 21, 'prompt_tokens': 190, 'total_tokens': 211, 'completion_tokens_details': {'accepted_prediction_tokens': 0, 'audio_tokens': 0, 'reasoning_tokens': 0, 'rejected_prediction_tokens': 0}, 'prompt_tokens_details': {'audio_tokens': 0, 'cached_tokens': 0}}, 'model_name': 'gpt-4o-mini-2024-07-18', 'system_fingerprint': 'fp_51db84afab', 'id': 'chatcmpl-CVEmYqNkKDgQGgBe0xmm8sAvWJuDE', 'service_tier': 'default', 'finish_reason': 'tool_calls', 'logprobs': None}, id='run--f3fea0d4-6aac-4b55-852e-114bf40cf877-0', tool_calls=[{'name': 'Policy_insurance', 'args': {'query': 'hospitals included for health check'}, 'id': 'call_ndXgbjY3K1u2Dhl7e65nzKYe', 'type': 'tool_call'}], usage_metadata={'input_tokens': 190, 'output_tokens': 21, 'total_tokens': 211, 'input_token_details': {'audio': 0, 'cache_read': 0}, 'output_token_details': {'audio': 0, 'reasoning': 0}}),\n",
       "  ToolMessage(content='insured may avail health check from the MCHI \\nNetwork of Health Check Up Center up to the \\nlimit specified\\nAvailable each policy year \\nFor Sum Insured up to 10 Lacs: Up to `3,500 \\nper insured member \\nFor Sum Insured above 10 Lacs: Up to `5,000 \\nper insured member\\nAnnually from 1st year onwards\\nThe Health Check-up shall be offered on \\ncashless basis only. However, the eligible \\ninsured may avail health check from the MCHI \\nNetwork of Health Check Up Center up to the \\nlimit specified\\nD.II.6\\n\\nmember\\nAnnually from 1st policy year onwards\\nThe Health Check-up shall be offered on cashless basis only. \\nHowever, the eligible insured may avail health check from \\nthe MCHI Network of Health Check Up Center up to the limit \\nspecified\\n41/51ManipalCigna Prime Senior | UIN: MCIHLIP23151V012223\\n\\n18. Hospital\\tmeans any institution established for In-patient care and day  \\n care treatment of illness and/or injuries and which has been registered  \\n as a hospital with the local authorities, under the Clinical Establishments  \\n\\t (Registration\\t and\\tRegulation)\\tAct,\\t2010\\tor\\tunder\\tthe\\tenactments\\t \\n\\t specified\\t under\\tthe\\tSchedule\\tof\\tSection\\t56\\t(1)\\tof\\tthe\\tsaid\\tAct\\tOR\\t \\n complies with all minimum criteria as under:\\n17/51ManipalCigna Prime Senior | UIN: MCIHLIP23151V012223', name='Policy_insurance', id='08229a7d-385e-4df3-b686-d69920610ef6', tool_call_id='call_ndXgbjY3K1u2Dhl7e65nzKYe'),\n",
       "  AIMessage(content='Yes, there are hospitals included for health checks. Insured individuals may avail health checks from the MCHI Network of Health Check Up Centers, which are specified for cashless services, up to a limit based on their sum insured.', additional_kwargs={'refusal': None}, response_metadata={'token_usage': {'completion_tokens': 46, 'prompt_tokens': 372, 'total_tokens': 418, 'completion_tokens_details': {'accepted_prediction_tokens': 0, 'audio_tokens': 0, 'reasoning_tokens': 0, 'rejected_prediction_tokens': 0}, 'prompt_tokens_details': {'audio_tokens': 0, 'cached_tokens': 0}}, 'model_name': 'gpt-4o-mini-2024-07-18', 'system_fingerprint': 'fp_51db84afab', 'id': 'chatcmpl-CVEmcpyXH94oX7DH8bCFSHju8TxZI', 'service_tier': 'default', 'finish_reason': 'stop', 'logprobs': None}, id='run--ae4c39a5-e74c-44a4-b7c0-800f35fbec0c-0', usage_metadata={'input_tokens': 372, 'output_tokens': 46, 'total_tokens': 418, 'input_token_details': {'audio': 0, 'cache_read': 0}, 'output_token_details': {'audio': 0, 'reasoning': 0}})],\n",
       " 'grader': 'Yes'}"
      ]
     },
     "execution_count": 26,
     "metadata": {},
     "output_type": "execute_result"
    }
   ],
   "source": [
    "result"
   ]
  },
  {
   "cell_type": "code",
   "execution_count": 27,
   "metadata": {},
   "outputs": [
    {
     "data": {
      "text/markdown": [
       "Yes, there are hospitals included for health checks. Insured individuals may avail health checks from the MCHI Network of Health Check Up Centers, which are specified for cashless services, up to a limit based on their sum insured."
      ],
      "text/plain": [
       "<IPython.core.display.Markdown object>"
      ]
     },
     "execution_count": 27,
     "metadata": {},
     "output_type": "execute_result"
    }
   ],
   "source": [
    "Markdown(result['messages'][-1].content)"
   ]
  }
 ],
 "metadata": {
  "kernelspec": {
   "display_name": "ai_practice",
   "language": "python",
   "name": "python3"
  },
  "language_info": {
   "codemirror_mode": {
    "name": "ipython",
    "version": 3
   },
   "file_extension": ".py",
   "mimetype": "text/x-python",
   "name": "python",
   "nbconvert_exporter": "python",
   "pygments_lexer": "ipython3",
   "version": "3.13.7"
  }
 },
 "nbformat": 4,
 "nbformat_minor": 2
}
