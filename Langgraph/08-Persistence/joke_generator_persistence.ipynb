{
 "cells": [
  {
   "cell_type": "markdown",
   "metadata": {},
   "source": [
    "## using the persistence concept of InMemory"
   ]
  },
  {
   "cell_type": "code",
   "execution_count": 176,
   "metadata": {},
   "outputs": [
    {
     "data": {
      "text/plain": [
       "True"
      ]
     },
     "execution_count": 176,
     "metadata": {},
     "output_type": "execute_result"
    }
   ],
   "source": [
    "from typing import TypedDict, Annotated\n",
    "from langgraph.graph import START,END,StateGraph\n",
    "from langchain_openai import ChatOpenAI\n",
    "from dotenv import load_dotenv\n",
    "from IPython.display import Image, display\n",
    "from langgraph.checkpoint.memory import InMemorySaver\n",
    "import time\n",
    "\n",
    "load_dotenv()"
   ]
  },
  {
   "cell_type": "code",
   "execution_count": 177,
   "metadata": {},
   "outputs": [],
   "source": [
    "class Joke(TypedDict):\n",
    "    topic: str\n",
    "    joke: str\n",
    "    explanation: str\n",
    "    rephrase: str\n",
    "    "
   ]
  },
  {
   "cell_type": "code",
   "execution_count": 178,
   "metadata": {},
   "outputs": [],
   "source": [
    "gpt_llm= ChatOpenAI(model=\"gpt-4o-mini\")"
   ]
  },
  {
   "cell_type": "code",
   "execution_count": 179,
   "metadata": {},
   "outputs": [],
   "source": [
    "def generate_joke(state:Joke) -> Joke:\n",
    "    print(\"Step 1: I am a Joke generator llm.\")\n",
    "    prompt= f\"Help me generate a joke related to the topic: \\n {state['topic']}\"\n",
    "    response=gpt_llm.invoke(prompt)\n",
    "    print(\"Joke generation is completed\")\n",
    "\n",
    "    return {'joke':response.content}\n"
   ]
  },
  {
   "cell_type": "code",
   "execution_count": 180,
   "metadata": {},
   "outputs": [],
   "source": [
    "def explain_joke(state:Joke) -> Joke:\n",
    "    print(\"Step 2: I am a Joke explainer llm.\")\n",
    "    prompt= f\"Help me explain the joke: \\n {state['joke']}\"\n",
    "    time.sleep(60)\n",
    "    response=gpt_llm.invoke(prompt)\n",
    "    print(\"Joke explanation is completed\")\n",
    "\n",
    "    return {'explanation':response.content}\n"
   ]
  },
  {
   "cell_type": "code",
   "execution_count": 183,
   "metadata": {},
   "outputs": [],
   "source": [
    "def rephrase_joke(state:Joke) -> Joke:\n",
    "    print(\"Step 3: I am a Joke re-generator llm\")\n",
    "    prompt= f\"Help me better this joke: \\n {state['joke']}\"\n",
    "    response=gpt_llm.invoke(prompt)\n",
    "    print(\"Joke re-generation is completed\")\n",
    "\n",
    "    return {'rephrase':response.content}\n"
   ]
  },
  {
   "cell_type": "code",
   "execution_count": 184,
   "metadata": {},
   "outputs": [],
   "source": [
    "graph=StateGraph(Joke)"
   ]
  },
  {
   "cell_type": "code",
   "execution_count": 185,
   "metadata": {},
   "outputs": [],
   "source": [
    "graph.add_node(\"generate_joke\",generate_joke)\n",
    "graph.add_node(\"explain_joke\",explain_joke)\n",
    "graph.add_node(\"rephrase_joke\",rephrase_joke)\n",
    "graph.add_edge(START,\"generate_joke\")\n",
    "graph.add_edge(\"generate_joke\",\"explain_joke\")\n",
    "graph.add_edge(\"explain_joke\",\"rephrase_joke\")\n",
    "graph.add_edge(\"rephrase_joke\", END)\n",
    "\n",
    "checkpoint= InMemorySaver()\n",
    "\n",
    "workflow=graph.compile(checkpointer=checkpoint)\n"
   ]
  },
  {
   "cell_type": "code",
   "execution_count": 186,
   "metadata": {},
   "outputs": [
    {
     "data": {
      "image/png": "[encoded data removed]",
      "text/plain": [
       "<IPython.core.display.Image object>"
      ]
     },
     "metadata": {},
     "output_type": "display_data"
    }
   ],
   "source": [
    "display(Image(workflow.get_graph().draw_mermaid_png()))"
   ]
  },
  {
   "cell_type": "markdown",
   "metadata": {},
   "source": [
    "## we have simulated a fault tolerance concept. Workflow is interuppted in the middle."
   ]
  },
  {
   "cell_type": "code",
   "execution_count": 187,
   "metadata": {},
   "outputs": [
    {
     "name": "stdout",
     "output_type": "stream",
     "text": [
      "Running the joke generation process.\n",
      "Step 1: I am a Joke generator llm.\n",
      "Joke generation is completed\n",
      "Step 2: I am a Joke explainer llm.\n",
      "❌ Kernel manually interrupted (crash simulated).\n"
     ]
    }
   ],
   "source": [
    "config_1= {\"configurable\":{\"thread_id\":\"123\"}}\n",
    "try:\n",
    "    print(\"Running the joke generation process.\")\n",
    "    workflow.invoke({\"topic\":\"Large langauge model\"}, config=config_1)\n",
    "except KeyboardInterrupt:\n",
    "     print(\"❌ Kernel manually interrupted (crash simulated).\")\n"
   ]
  },
  {
   "cell_type": "code",
   "execution_count": 188,
   "metadata": {},
   "outputs": [
    {
     "data": {
      "text/plain": [
       "StateSnapshot(values={'topic': 'Large langauge model', 'joke': 'Why did the large language model break up with its calculator?\\n\\nBecause it found someone who could actually \"understand\" its problems!'}, next=('explain_joke',), config={'configurable': {'thread_id': '123', 'checkpoint_ns': '', 'checkpoint_id': '1f0a7fdf-7dcb-6b82-8001-f4ee3718c5b0'}}, metadata={'source': 'loop', 'step': 1, 'parents': {}}, created_at='2025-10-13T06:29:27.548799+00:00', parent_config={'configurable': {'thread_id': '123', 'checkpoint_ns': '', 'checkpoint_id': '1f0a7fdf-6e0f-68ce-8000-4f2eb26ad2e6'}}, tasks=(PregelTask(id='886dbf92-a388-50f7-0a0a-db9860df7058', name='explain_joke', path=('__pregel_pull', 'explain_joke'), error=None, interrupts=(), state=None, result=None),), interrupts=())"
      ]
     },
     "execution_count": 188,
     "metadata": {},
     "output_type": "execute_result"
    }
   ],
   "source": [
    "workflow.get_state(config_1)"
   ]
  },
  {
   "cell_type": "markdown",
   "metadata": {},
   "source": [
    "## Post invoke state history after the interuption of the execution"
   ]
  },
  {
   "cell_type": "code",
   "execution_count": 189,
   "metadata": {},
   "outputs": [
    {
     "data": {
      "text/plain": [
       "[StateSnapshot(values={'topic': 'Large langauge model', 'joke': 'Why did the large language model break up with its calculator?\\n\\nBecause it found someone who could actually \"understand\" its problems!'}, next=('explain_joke',), config={'configurable': {'thread_id': '123', 'checkpoint_ns': '', 'checkpoint_id': '1f0a7fdf-7dcb-6b82-8001-f4ee3718c5b0'}}, metadata={'source': 'loop', 'step': 1, 'parents': {}}, created_at='2025-10-13T06:29:27.548799+00:00', parent_config={'configurable': {'thread_id': '123', 'checkpoint_ns': '', 'checkpoint_id': '1f0a7fdf-6e0f-68ce-8000-4f2eb26ad2e6'}}, tasks=(PregelTask(id='886dbf92-a388-50f7-0a0a-db9860df7058', name='explain_joke', path=('__pregel_pull', 'explain_joke'), error=None, interrupts=(), state=None, result=None),), interrupts=()),\n",
       " StateSnapshot(values={'topic': 'Large langauge model'}, next=('generate_joke',), config={'configurable': {'thread_id': '123', 'checkpoint_ns': '', 'checkpoint_id': '1f0a7fdf-6e0f-68ce-8000-4f2eb26ad2e6'}}, metadata={'source': 'loop', 'step': 0, 'parents': {}}, created_at='2025-10-13T06:29:25.898869+00:00', parent_config={'configurable': {'thread_id': '123', 'checkpoint_ns': '', 'checkpoint_id': '1f0a7fdf-6e0b-68be-bfff-568b68ff041c'}}, tasks=(PregelTask(id='f42b0dbd-3710-858c-3c85-f03512938ff1', name='generate_joke', path=('__pregel_pull', 'generate_joke'), error=None, interrupts=(), state=None, result={'joke': 'Why did the large language model break up with its calculator?\\n\\nBecause it found someone who could actually \"understand\" its problems!'}),), interrupts=()),\n",
       " StateSnapshot(values={}, next=('__start__',), config={'configurable': {'thread_id': '123', 'checkpoint_ns': '', 'checkpoint_id': '1f0a7fdf-6e0b-68be-bfff-568b68ff041c'}}, metadata={'source': 'input', 'step': -1, 'parents': {}}, created_at='2025-10-13T06:29:25.897229+00:00', parent_config=None, tasks=(PregelTask(id='6f7644d3-baf5-60aa-4c01-1d38c671732e', name='__start__', path=('__pregel_pull', '__start__'), error=None, interrupts=(), state=None, result={'topic': 'Large langauge model'}),), interrupts=())]"
      ]
     },
     "execution_count": 189,
     "metadata": {},
     "output_type": "execute_result"
    }
   ],
   "source": [
    "list(workflow.get_state_history(config_1))"
   ]
  },
  {
   "cell_type": "code",
   "execution_count": 190,
   "metadata": {},
   "outputs": [
    {
     "name": "stdout",
     "output_type": "stream",
     "text": [
      "Step 2: I am a Joke explainer llm.\n",
      "Joke explanation is completed\n",
      "Step 3: I am a Joke re-generator llm\n",
      "Joke re-generation is completed\n"
     ]
    },
    {
     "data": {
      "text/plain": [
       "{'topic': 'Large langauge model',\n",
       " 'joke': 'Why did the large language model break up with its calculator?\\n\\nBecause it found someone who could actually \"understand\" its problems!',\n",
       " 'explanation': 'This joke plays on the capabilities and limitations of different types of computational tools. \\n\\n1. **Large Language Model (LLM)**: The LLM represents advanced AI, designed to understand and generate human language. It can interpret context, emotions, and nuances in communication, giving it a deeper understanding of \"problems\" beyond just numerical calculations.\\n\\n2. **Calculator**: A calculator is designed to perform mathematical operations but lacks the capacity for understanding or interpreting more complex problems, especially those that involve language, context, or emotional nuance.\\n\\nThe humor arises from the anthropomorphism of the LLM as having emotions and relationships, which is a playful exaggeration of the way we typically consider human interactions. The punchline (\"understand its problems\") hinges on the double meaning of \"problems\" — referring to both mathematical problems and personal issues. The LLM \"breaks up\" with the calculator because it finds something (or someone) better suited to comprehend its more complex needs, which is a humorous take on relationships and compatibility. \\n\\nSo, the joke combines ideas from technology, human relationships, and wordplay, resulting in a light-hearted quip about understanding and compatibility.',\n",
       " 'rephrase': 'Sure! Here’s a refined version of the joke:\\n\\nWhy did the large language model break up with its calculator?  \\nBecause it wanted a partner who could truly “compute” its feelings!'}"
      ]
     },
     "execution_count": 190,
     "metadata": {},
     "output_type": "execute_result"
    }
   ],
   "source": [
    "workflow.invoke(None, config=config_1)"
   ]
  },
  {
   "cell_type": "markdown",
   "metadata": {},
   "source": [
    "## Post invoke state history from the failed execution  "
   ]
  },
  {
   "cell_type": "code",
   "execution_count": 191,
   "metadata": {},
   "outputs": [
    {
     "data": {
      "text/plain": [
       "[StateSnapshot(values={'topic': 'Large langauge model', 'joke': 'Why did the large language model break up with its calculator?\\n\\nBecause it found someone who could actually \"understand\" its problems!', 'explanation': 'This joke plays on the capabilities and limitations of different types of computational tools. \\n\\n1. **Large Language Model (LLM)**: The LLM represents advanced AI, designed to understand and generate human language. It can interpret context, emotions, and nuances in communication, giving it a deeper understanding of \"problems\" beyond just numerical calculations.\\n\\n2. **Calculator**: A calculator is designed to perform mathematical operations but lacks the capacity for understanding or interpreting more complex problems, especially those that involve language, context, or emotional nuance.\\n\\nThe humor arises from the anthropomorphism of the LLM as having emotions and relationships, which is a playful exaggeration of the way we typically consider human interactions. The punchline (\"understand its problems\") hinges on the double meaning of \"problems\" — referring to both mathematical problems and personal issues. The LLM \"breaks up\" with the calculator because it finds something (or someone) better suited to comprehend its more complex needs, which is a humorous take on relationships and compatibility. \\n\\nSo, the joke combines ideas from technology, human relationships, and wordplay, resulting in a light-hearted quip about understanding and compatibility.', 'rephrase': 'Sure! Here’s a refined version of the joke:\\n\\nWhy did the large language model break up with its calculator?  \\nBecause it wanted a partner who could truly “compute” its feelings!'}, next=(), config={'configurable': {'thread_id': '123', 'checkpoint_ns': '', 'checkpoint_id': '1f0a7fe2-47c5-667a-8003-1f9b4fd9be66'}}, metadata={'source': 'loop', 'step': 3, 'parents': {}}, created_at='2025-10-13T06:30:42.414536+00:00', parent_config={'configurable': {'thread_id': '123', 'checkpoint_ns': '', 'checkpoint_id': '1f0a7fe2-3551-678c-8002-0f4acd34b56a'}}, tasks=(), interrupts=()),\n",
       " StateSnapshot(values={'topic': 'Large langauge model', 'joke': 'Why did the large language model break up with its calculator?\\n\\nBecause it found someone who could actually \"understand\" its problems!', 'explanation': 'This joke plays on the capabilities and limitations of different types of computational tools. \\n\\n1. **Large Language Model (LLM)**: The LLM represents advanced AI, designed to understand and generate human language. It can interpret context, emotions, and nuances in communication, giving it a deeper understanding of \"problems\" beyond just numerical calculations.\\n\\n2. **Calculator**: A calculator is designed to perform mathematical operations but lacks the capacity for understanding or interpreting more complex problems, especially those that involve language, context, or emotional nuance.\\n\\nThe humor arises from the anthropomorphism of the LLM as having emotions and relationships, which is a playful exaggeration of the way we typically consider human interactions. The punchline (\"understand its problems\") hinges on the double meaning of \"problems\" — referring to both mathematical problems and personal issues. The LLM \"breaks up\" with the calculator because it finds something (or someone) better suited to comprehend its more complex needs, which is a humorous take on relationships and compatibility. \\n\\nSo, the joke combines ideas from technology, human relationships, and wordplay, resulting in a light-hearted quip about understanding and compatibility.'}, next=('rephrase_joke',), config={'configurable': {'thread_id': '123', 'checkpoint_ns': '', 'checkpoint_id': '1f0a7fe2-3551-678c-8002-0f4acd34b56a'}}, metadata={'source': 'loop', 'step': 2, 'parents': {}}, created_at='2025-10-13T06:30:40.479587+00:00', parent_config={'configurable': {'thread_id': '123', 'checkpoint_ns': '', 'checkpoint_id': '1f0a7fdf-7dcb-6b82-8001-f4ee3718c5b0'}}, tasks=(PregelTask(id='90c1dddf-82ad-7319-1956-3c888d1db2d5', name='rephrase_joke', path=('__pregel_pull', 'rephrase_joke'), error=None, interrupts=(), state=None, result={'rephrase': 'Sure! Here’s a refined version of the joke:\\n\\nWhy did the large language model break up with its calculator?  \\nBecause it wanted a partner who could truly “compute” its feelings!'}),), interrupts=()),\n",
       " StateSnapshot(values={'topic': 'Large langauge model', 'joke': 'Why did the large language model break up with its calculator?\\n\\nBecause it found someone who could actually \"understand\" its problems!'}, next=('explain_joke',), config={'configurable': {'thread_id': '123', 'checkpoint_ns': '', 'checkpoint_id': '1f0a7fdf-7dcb-6b82-8001-f4ee3718c5b0'}}, metadata={'source': 'loop', 'step': 1, 'parents': {}}, created_at='2025-10-13T06:29:27.548799+00:00', parent_config={'configurable': {'thread_id': '123', 'checkpoint_ns': '', 'checkpoint_id': '1f0a7fdf-6e0f-68ce-8000-4f2eb26ad2e6'}}, tasks=(PregelTask(id='886dbf92-a388-50f7-0a0a-db9860df7058', name='explain_joke', path=('__pregel_pull', 'explain_joke'), error=None, interrupts=(), state=None, result={'explanation': 'This joke plays on the capabilities and limitations of different types of computational tools. \\n\\n1. **Large Language Model (LLM)**: The LLM represents advanced AI, designed to understand and generate human language. It can interpret context, emotions, and nuances in communication, giving it a deeper understanding of \"problems\" beyond just numerical calculations.\\n\\n2. **Calculator**: A calculator is designed to perform mathematical operations but lacks the capacity for understanding or interpreting more complex problems, especially those that involve language, context, or emotional nuance.\\n\\nThe humor arises from the anthropomorphism of the LLM as having emotions and relationships, which is a playful exaggeration of the way we typically consider human interactions. The punchline (\"understand its problems\") hinges on the double meaning of \"problems\" — referring to both mathematical problems and personal issues. The LLM \"breaks up\" with the calculator because it finds something (or someone) better suited to comprehend its more complex needs, which is a humorous take on relationships and compatibility. \\n\\nSo, the joke combines ideas from technology, human relationships, and wordplay, resulting in a light-hearted quip about understanding and compatibility.'}),), interrupts=()),\n",
       " StateSnapshot(values={'topic': 'Large langauge model'}, next=('generate_joke',), config={'configurable': {'thread_id': '123', 'checkpoint_ns': '', 'checkpoint_id': '1f0a7fdf-6e0f-68ce-8000-4f2eb26ad2e6'}}, metadata={'source': 'loop', 'step': 0, 'parents': {}}, created_at='2025-10-13T06:29:25.898869+00:00', parent_config={'configurable': {'thread_id': '123', 'checkpoint_ns': '', 'checkpoint_id': '1f0a7fdf-6e0b-68be-bfff-568b68ff041c'}}, tasks=(PregelTask(id='f42b0dbd-3710-858c-3c85-f03512938ff1', name='generate_joke', path=('__pregel_pull', 'generate_joke'), error=None, interrupts=(), state=None, result={'joke': 'Why did the large language model break up with its calculator?\\n\\nBecause it found someone who could actually \"understand\" its problems!'}),), interrupts=()),\n",
       " StateSnapshot(values={}, next=('__start__',), config={'configurable': {'thread_id': '123', 'checkpoint_ns': '', 'checkpoint_id': '1f0a7fdf-6e0b-68be-bfff-568b68ff041c'}}, metadata={'source': 'input', 'step': -1, 'parents': {}}, created_at='2025-10-13T06:29:25.897229+00:00', parent_config=None, tasks=(PregelTask(id='6f7644d3-baf5-60aa-4c01-1d38c671732e', name='__start__', path=('__pregel_pull', '__start__'), error=None, interrupts=(), state=None, result={'topic': 'Large langauge model'}),), interrupts=())]"
      ]
     },
     "execution_count": 191,
     "metadata": {},
     "output_type": "execute_result"
    }
   ],
   "source": [
    "list(workflow.get_state_history(config_1))"
   ]
  },
  {
   "cell_type": "markdown",
   "metadata": {},
   "source": [
    "## Also implemented the time travel - Time travel is to get the checkpoint ID and you can execute your workflow from that checkpoint. Time Travel is used in debugging."
   ]
  },
  {
   "cell_type": "code",
   "execution_count": 192,
   "metadata": {},
   "outputs": [
    {
     "data": {
      "text/plain": [
       "StateSnapshot(values={'topic': 'Large langauge model', 'joke': 'Why did the large language model break up with its calculator?\\n\\nBecause it found someone who could actually \"understand\" its problems!'}, next=('explain_joke',), config={'configurable': {'thread_id': '123', 'checkpoint_id': '1f0a7fdf-7dcb-6b82-8001-f4ee3718c5b0'}}, metadata={'source': 'loop', 'step': 1, 'parents': {}}, created_at='2025-10-13T06:29:27.548799+00:00', parent_config={'configurable': {'thread_id': '123', 'checkpoint_ns': '', 'checkpoint_id': '1f0a7fdf-6e0f-68ce-8000-4f2eb26ad2e6'}}, tasks=(PregelTask(id='886dbf92-a388-50f7-0a0a-db9860df7058', name='explain_joke', path=('__pregel_pull', 'explain_joke'), error=None, interrupts=(), state=None, result={'explanation': 'This joke plays on the capabilities and limitations of different types of computational tools. \\n\\n1. **Large Language Model (LLM)**: The LLM represents advanced AI, designed to understand and generate human language. It can interpret context, emotions, and nuances in communication, giving it a deeper understanding of \"problems\" beyond just numerical calculations.\\n\\n2. **Calculator**: A calculator is designed to perform mathematical operations but lacks the capacity for understanding or interpreting more complex problems, especially those that involve language, context, or emotional nuance.\\n\\nThe humor arises from the anthropomorphism of the LLM as having emotions and relationships, which is a playful exaggeration of the way we typically consider human interactions. The punchline (\"understand its problems\") hinges on the double meaning of \"problems\" — referring to both mathematical problems and personal issues. The LLM \"breaks up\" with the calculator because it finds something (or someone) better suited to comprehend its more complex needs, which is a humorous take on relationships and compatibility. \\n\\nSo, the joke combines ideas from technology, human relationships, and wordplay, resulting in a light-hearted quip about understanding and compatibility.'}),), interrupts=())"
      ]
     },
     "execution_count": 192,
     "metadata": {},
     "output_type": "execute_result"
    }
   ],
   "source": [
    "workflow.get_state({\"configurable\": {\"thread_id\": \"123\", \"checkpoint_id\": \"1f0a7fdf-7dcb-6b82-8001-f4ee3718c5b0\"}})"
   ]
  },
  {
   "cell_type": "code",
   "execution_count": 193,
   "metadata": {},
   "outputs": [
    {
     "name": "stdout",
     "output_type": "stream",
     "text": [
      "Step 2: I am a Joke explainer llm.\n",
      "Joke explanation is completed\n",
      "Step 3: I am a Joke re-generator llm\n",
      "Joke re-generation is completed\n"
     ]
    },
    {
     "data": {
      "text/plain": [
       "{'topic': 'Large langauge model',\n",
       " 'joke': 'Why did the large language model break up with its calculator?\\n\\nBecause it found someone who could actually \"understand\" its problems!',\n",
       " 'explanation': 'This joke plays on a few clever puns and the characteristics of both a large language model (LLM) and a calculator. \\n\\n1. **Understanding Problems**: LLMs, like the one you\\'re interacting with, are designed to understand and generate human language, which includes interpreting complex queries and problems in a conversational way. In contrast, a calculator simply performs mathematical operations without any understanding of context or nuance.\\n\\n2. **Romantic Relationship Metaphor**: The joke anthropomorphizes the LLM and the calculator as if they were in a romantic relationship. The idea of \"breaking up\" suggests that the LLM is looking for a partner that can engage on a deeper level, which in this case means someone who can \"understand\" rather than just compute.\\n\\n3. **Play on \"Calculating\" Love**: There\\'s also a subtle play on the term \"calculating,\" which often describes someone who is overly logical or unemotional. The implication is that the calculator, being purely functional, lacks the emotional depth or understanding that the LLM desires.\\n\\nSo, the humor comes from the juxtaposition of the two types of \"intelligence,\" the relationship metaphor, and the play on words related to understanding and computation. It highlights the idea that sometimes, emotional intelligence or understanding is more valuable than pure mathematical ability.',\n",
       " 'rephrase': 'Sure, here\\'s a refined version of your joke:\\n\\nWhy did the large language model break up with its calculator? \\n\\nBecause it wanted a partner who could really \"process\" its feelings!'}"
      ]
     },
     "execution_count": 193,
     "metadata": {},
     "output_type": "execute_result"
    }
   ],
   "source": [
    "workflow.invoke(None, {\"configurable\": {\"thread_id\": \"123\", \"checkpoint_id\": \"1f0a7fdf-7dcb-6b82-8001-f4ee3718c5b0\"}})\n"
   ]
  },
  {
   "cell_type": "markdown",
   "metadata": {},
   "source": [
    "## Post invoke state history after selecting the time travel checkpoint id"
   ]
  },
  {
   "cell_type": "code",
   "execution_count": 194,
   "metadata": {},
   "outputs": [
    {
     "data": {
      "text/plain": [
       "[StateSnapshot(values={'topic': 'Large langauge model', 'joke': 'Why did the large language model break up with its calculator?\\n\\nBecause it found someone who could actually \"understand\" its problems!', 'explanation': 'This joke plays on a few clever puns and the characteristics of both a large language model (LLM) and a calculator. \\n\\n1. **Understanding Problems**: LLMs, like the one you\\'re interacting with, are designed to understand and generate human language, which includes interpreting complex queries and problems in a conversational way. In contrast, a calculator simply performs mathematical operations without any understanding of context or nuance.\\n\\n2. **Romantic Relationship Metaphor**: The joke anthropomorphizes the LLM and the calculator as if they were in a romantic relationship. The idea of \"breaking up\" suggests that the LLM is looking for a partner that can engage on a deeper level, which in this case means someone who can \"understand\" rather than just compute.\\n\\n3. **Play on \"Calculating\" Love**: There\\'s also a subtle play on the term \"calculating,\" which often describes someone who is overly logical or unemotional. The implication is that the calculator, being purely functional, lacks the emotional depth or understanding that the LLM desires.\\n\\nSo, the humor comes from the juxtaposition of the two types of \"intelligence,\" the relationship metaphor, and the play on words related to understanding and computation. It highlights the idea that sometimes, emotional intelligence or understanding is more valuable than pure mathematical ability.', 'rephrase': 'Sure, here\\'s a refined version of your joke:\\n\\nWhy did the large language model break up with its calculator? \\n\\nBecause it wanted a partner who could really \"process\" its feelings!'}, next=(), config={'configurable': {'thread_id': '123', 'checkpoint_ns': '', 'checkpoint_id': '1f0a7fe8-50d3-631a-8003-61c71ee5a348'}}, metadata={'source': 'loop', 'step': 3, 'parents': {}}, created_at='2025-10-13T06:33:24.425145+00:00', parent_config={'configurable': {'thread_id': '123', 'checkpoint_ns': '', 'checkpoint_id': '1f0a7fe8-40ed-650e-8002-db2df83633d5'}}, tasks=(), interrupts=()),\n",
       " StateSnapshot(values={'topic': 'Large langauge model', 'joke': 'Why did the large language model break up with its calculator?\\n\\nBecause it found someone who could actually \"understand\" its problems!', 'explanation': 'This joke plays on a few clever puns and the characteristics of both a large language model (LLM) and a calculator. \\n\\n1. **Understanding Problems**: LLMs, like the one you\\'re interacting with, are designed to understand and generate human language, which includes interpreting complex queries and problems in a conversational way. In contrast, a calculator simply performs mathematical operations without any understanding of context or nuance.\\n\\n2. **Romantic Relationship Metaphor**: The joke anthropomorphizes the LLM and the calculator as if they were in a romantic relationship. The idea of \"breaking up\" suggests that the LLM is looking for a partner that can engage on a deeper level, which in this case means someone who can \"understand\" rather than just compute.\\n\\n3. **Play on \"Calculating\" Love**: There\\'s also a subtle play on the term \"calculating,\" which often describes someone who is overly logical or unemotional. The implication is that the calculator, being purely functional, lacks the emotional depth or understanding that the LLM desires.\\n\\nSo, the humor comes from the juxtaposition of the two types of \"intelligence,\" the relationship metaphor, and the play on words related to understanding and computation. It highlights the idea that sometimes, emotional intelligence or understanding is more valuable than pure mathematical ability.'}, next=('rephrase_joke',), config={'configurable': {'thread_id': '123', 'checkpoint_ns': '', 'checkpoint_id': '1f0a7fe8-40ed-650e-8002-db2df83633d5'}}, metadata={'source': 'loop', 'step': 2, 'parents': {}}, created_at='2025-10-13T06:33:22.758148+00:00', parent_config={'configurable': {'thread_id': '123', 'checkpoint_ns': '', 'checkpoint_id': '1f0a7fdf-7dcb-6b82-8001-f4ee3718c5b0'}}, tasks=(PregelTask(id='dd0f432f-9c65-5db1-ad54-c6aa4b3cecd5', name='rephrase_joke', path=('__pregel_pull', 'rephrase_joke'), error=None, interrupts=(), state=None, result={'rephrase': 'Sure, here\\'s a refined version of your joke:\\n\\nWhy did the large language model break up with its calculator? \\n\\nBecause it wanted a partner who could really \"process\" its feelings!'}),), interrupts=()),\n",
       " StateSnapshot(values={'topic': 'Large langauge model', 'joke': 'Why did the large language model break up with its calculator?\\n\\nBecause it found someone who could actually \"understand\" its problems!', 'explanation': 'This joke plays on the capabilities and limitations of different types of computational tools. \\n\\n1. **Large Language Model (LLM)**: The LLM represents advanced AI, designed to understand and generate human language. It can interpret context, emotions, and nuances in communication, giving it a deeper understanding of \"problems\" beyond just numerical calculations.\\n\\n2. **Calculator**: A calculator is designed to perform mathematical operations but lacks the capacity for understanding or interpreting more complex problems, especially those that involve language, context, or emotional nuance.\\n\\nThe humor arises from the anthropomorphism of the LLM as having emotions and relationships, which is a playful exaggeration of the way we typically consider human interactions. The punchline (\"understand its problems\") hinges on the double meaning of \"problems\" — referring to both mathematical problems and personal issues. The LLM \"breaks up\" with the calculator because it finds something (or someone) better suited to comprehend its more complex needs, which is a humorous take on relationships and compatibility. \\n\\nSo, the joke combines ideas from technology, human relationships, and wordplay, resulting in a light-hearted quip about understanding and compatibility.', 'rephrase': 'Sure! Here’s a refined version of the joke:\\n\\nWhy did the large language model break up with its calculator?  \\nBecause it wanted a partner who could truly “compute” its feelings!'}, next=(), config={'configurable': {'thread_id': '123', 'checkpoint_ns': '', 'checkpoint_id': '1f0a7fe2-47c5-667a-8003-1f9b4fd9be66'}}, metadata={'source': 'loop', 'step': 3, 'parents': {}}, created_at='2025-10-13T06:30:42.414536+00:00', parent_config={'configurable': {'thread_id': '123', 'checkpoint_ns': '', 'checkpoint_id': '1f0a7fe2-3551-678c-8002-0f4acd34b56a'}}, tasks=(), interrupts=()),\n",
       " StateSnapshot(values={'topic': 'Large langauge model', 'joke': 'Why did the large language model break up with its calculator?\\n\\nBecause it found someone who could actually \"understand\" its problems!', 'explanation': 'This joke plays on the capabilities and limitations of different types of computational tools. \\n\\n1. **Large Language Model (LLM)**: The LLM represents advanced AI, designed to understand and generate human language. It can interpret context, emotions, and nuances in communication, giving it a deeper understanding of \"problems\" beyond just numerical calculations.\\n\\n2. **Calculator**: A calculator is designed to perform mathematical operations but lacks the capacity for understanding or interpreting more complex problems, especially those that involve language, context, or emotional nuance.\\n\\nThe humor arises from the anthropomorphism of the LLM as having emotions and relationships, which is a playful exaggeration of the way we typically consider human interactions. The punchline (\"understand its problems\") hinges on the double meaning of \"problems\" — referring to both mathematical problems and personal issues. The LLM \"breaks up\" with the calculator because it finds something (or someone) better suited to comprehend its more complex needs, which is a humorous take on relationships and compatibility. \\n\\nSo, the joke combines ideas from technology, human relationships, and wordplay, resulting in a light-hearted quip about understanding and compatibility.'}, next=('rephrase_joke',), config={'configurable': {'thread_id': '123', 'checkpoint_ns': '', 'checkpoint_id': '1f0a7fe2-3551-678c-8002-0f4acd34b56a'}}, metadata={'source': 'loop', 'step': 2, 'parents': {}}, created_at='2025-10-13T06:30:40.479587+00:00', parent_config={'configurable': {'thread_id': '123', 'checkpoint_ns': '', 'checkpoint_id': '1f0a7fdf-7dcb-6b82-8001-f4ee3718c5b0'}}, tasks=(PregelTask(id='90c1dddf-82ad-7319-1956-3c888d1db2d5', name='rephrase_joke', path=('__pregel_pull', 'rephrase_joke'), error=None, interrupts=(), state=None, result={'rephrase': 'Sure! Here’s a refined version of the joke:\\n\\nWhy did the large language model break up with its calculator?  \\nBecause it wanted a partner who could truly “compute” its feelings!'}),), interrupts=()),\n",
       " StateSnapshot(values={'topic': 'Large langauge model', 'joke': 'Why did the large language model break up with its calculator?\\n\\nBecause it found someone who could actually \"understand\" its problems!'}, next=('explain_joke',), config={'configurable': {'thread_id': '123', 'checkpoint_ns': '', 'checkpoint_id': '1f0a7fdf-7dcb-6b82-8001-f4ee3718c5b0'}}, metadata={'source': 'loop', 'step': 1, 'parents': {}}, created_at='2025-10-13T06:29:27.548799+00:00', parent_config={'configurable': {'thread_id': '123', 'checkpoint_ns': '', 'checkpoint_id': '1f0a7fdf-6e0f-68ce-8000-4f2eb26ad2e6'}}, tasks=(PregelTask(id='886dbf92-a388-50f7-0a0a-db9860df7058', name='explain_joke', path=('__pregel_pull', 'explain_joke'), error=None, interrupts=(), state=None, result={'explanation': 'This joke plays on the capabilities and limitations of different types of computational tools. \\n\\n1. **Large Language Model (LLM)**: The LLM represents advanced AI, designed to understand and generate human language. It can interpret context, emotions, and nuances in communication, giving it a deeper understanding of \"problems\" beyond just numerical calculations.\\n\\n2. **Calculator**: A calculator is designed to perform mathematical operations but lacks the capacity for understanding or interpreting more complex problems, especially those that involve language, context, or emotional nuance.\\n\\nThe humor arises from the anthropomorphism of the LLM as having emotions and relationships, which is a playful exaggeration of the way we typically consider human interactions. The punchline (\"understand its problems\") hinges on the double meaning of \"problems\" — referring to both mathematical problems and personal issues. The LLM \"breaks up\" with the calculator because it finds something (or someone) better suited to comprehend its more complex needs, which is a humorous take on relationships and compatibility. \\n\\nSo, the joke combines ideas from technology, human relationships, and wordplay, resulting in a light-hearted quip about understanding and compatibility.'}),), interrupts=()),\n",
       " StateSnapshot(values={'topic': 'Large langauge model'}, next=('generate_joke',), config={'configurable': {'thread_id': '123', 'checkpoint_ns': '', 'checkpoint_id': '1f0a7fdf-6e0f-68ce-8000-4f2eb26ad2e6'}}, metadata={'source': 'loop', 'step': 0, 'parents': {}}, created_at='2025-10-13T06:29:25.898869+00:00', parent_config={'configurable': {'thread_id': '123', 'checkpoint_ns': '', 'checkpoint_id': '1f0a7fdf-6e0b-68be-bfff-568b68ff041c'}}, tasks=(PregelTask(id='f42b0dbd-3710-858c-3c85-f03512938ff1', name='generate_joke', path=('__pregel_pull', 'generate_joke'), error=None, interrupts=(), state=None, result={'joke': 'Why did the large language model break up with its calculator?\\n\\nBecause it found someone who could actually \"understand\" its problems!'}),), interrupts=()),\n",
       " StateSnapshot(values={}, next=('__start__',), config={'configurable': {'thread_id': '123', 'checkpoint_ns': '', 'checkpoint_id': '1f0a7fdf-6e0b-68be-bfff-568b68ff041c'}}, metadata={'source': 'input', 'step': -1, 'parents': {}}, created_at='2025-10-13T06:29:25.897229+00:00', parent_config=None, tasks=(PregelTask(id='6f7644d3-baf5-60aa-4c01-1d38c671732e', name='__start__', path=('__pregel_pull', '__start__'), error=None, interrupts=(), state=None, result={'topic': 'Large langauge model'}),), interrupts=())]"
      ]
     },
     "execution_count": 194,
     "metadata": {},
     "output_type": "execute_result"
    }
   ],
   "source": [
    "list(workflow.get_state_history(config_1))"
   ]
  },
  {
   "cell_type": "markdown",
   "metadata": {},
   "source": [
    "## You can also update the state by intefering directly with the state history to generate a new output. Example instead of topic \"Large langauge model\", replaced with \"Science\""
   ]
  },
  {
   "cell_type": "code",
   "execution_count": 195,
   "metadata": {},
   "outputs": [
    {
     "data": {
      "text/plain": [
       "{'configurable': {'thread_id': '123',\n",
       "  'checkpoint_ns': '',\n",
       "  'checkpoint_id': '1f0a7feb-62a2-6df4-8000-2d98af3f79c9'}}"
      ]
     },
     "execution_count": 195,
     "metadata": {},
     "output_type": "execute_result"
    }
   ],
   "source": [
    "workflow.update_state({\"configurable\": {\"thread_id\": \"123\", \"checkpoint_id\": \"1f0a7fa8-5691-68b4-8000-c8df47369320\",\"checkpoint_ns\": \"\" }},{'topic':'Science'})"
   ]
  },
  {
   "cell_type": "markdown",
   "metadata": {},
   "source": [
    "## Pre invoke state history for updating the state"
   ]
  },
  {
   "cell_type": "code",
   "execution_count": 196,
   "metadata": {},
   "outputs": [
    {
     "data": {
      "text/plain": [
       "[StateSnapshot(values={'topic': 'Science'}, next=('generate_joke',), config={'configurable': {'thread_id': '123', 'checkpoint_ns': '', 'checkpoint_id': '1f0a7feb-62a2-6df4-8000-2d98af3f79c9'}}, metadata={'source': 'update', 'step': 0, 'parents': {}}, created_at='2025-10-13T06:34:46.823467+00:00', parent_config={'configurable': {'thread_id': '123', 'checkpoint_ns': '', 'checkpoint_id': '1f0a7fa8-5691-68b4-8000-c8df47369320'}}, tasks=(PregelTask(id='25306827-d1cf-8c98-49b1-1802b785612c', name='generate_joke', path=('__pregel_pull', 'generate_joke'), error=None, interrupts=(), state=None, result=None),), interrupts=()),\n",
       " StateSnapshot(values={'topic': 'Large langauge model', 'joke': 'Why did the large language model break up with its calculator?\\n\\nBecause it found someone who could actually \"understand\" its problems!', 'explanation': 'This joke plays on a few clever puns and the characteristics of both a large language model (LLM) and a calculator. \\n\\n1. **Understanding Problems**: LLMs, like the one you\\'re interacting with, are designed to understand and generate human language, which includes interpreting complex queries and problems in a conversational way. In contrast, a calculator simply performs mathematical operations without any understanding of context or nuance.\\n\\n2. **Romantic Relationship Metaphor**: The joke anthropomorphizes the LLM and the calculator as if they were in a romantic relationship. The idea of \"breaking up\" suggests that the LLM is looking for a partner that can engage on a deeper level, which in this case means someone who can \"understand\" rather than just compute.\\n\\n3. **Play on \"Calculating\" Love**: There\\'s also a subtle play on the term \"calculating,\" which often describes someone who is overly logical or unemotional. The implication is that the calculator, being purely functional, lacks the emotional depth or understanding that the LLM desires.\\n\\nSo, the humor comes from the juxtaposition of the two types of \"intelligence,\" the relationship metaphor, and the play on words related to understanding and computation. It highlights the idea that sometimes, emotional intelligence or understanding is more valuable than pure mathematical ability.', 'rephrase': 'Sure, here\\'s a refined version of your joke:\\n\\nWhy did the large language model break up with its calculator? \\n\\nBecause it wanted a partner who could really \"process\" its feelings!'}, next=(), config={'configurable': {'thread_id': '123', 'checkpoint_ns': '', 'checkpoint_id': '1f0a7fe8-50d3-631a-8003-61c71ee5a348'}}, metadata={'source': 'loop', 'step': 3, 'parents': {}}, created_at='2025-10-13T06:33:24.425145+00:00', parent_config={'configurable': {'thread_id': '123', 'checkpoint_ns': '', 'checkpoint_id': '1f0a7fe8-40ed-650e-8002-db2df83633d5'}}, tasks=(), interrupts=()),\n",
       " StateSnapshot(values={'topic': 'Large langauge model', 'joke': 'Why did the large language model break up with its calculator?\\n\\nBecause it found someone who could actually \"understand\" its problems!', 'explanation': 'This joke plays on a few clever puns and the characteristics of both a large language model (LLM) and a calculator. \\n\\n1. **Understanding Problems**: LLMs, like the one you\\'re interacting with, are designed to understand and generate human language, which includes interpreting complex queries and problems in a conversational way. In contrast, a calculator simply performs mathematical operations without any understanding of context or nuance.\\n\\n2. **Romantic Relationship Metaphor**: The joke anthropomorphizes the LLM and the calculator as if they were in a romantic relationship. The idea of \"breaking up\" suggests that the LLM is looking for a partner that can engage on a deeper level, which in this case means someone who can \"understand\" rather than just compute.\\n\\n3. **Play on \"Calculating\" Love**: There\\'s also a subtle play on the term \"calculating,\" which often describes someone who is overly logical or unemotional. The implication is that the calculator, being purely functional, lacks the emotional depth or understanding that the LLM desires.\\n\\nSo, the humor comes from the juxtaposition of the two types of \"intelligence,\" the relationship metaphor, and the play on words related to understanding and computation. It highlights the idea that sometimes, emotional intelligence or understanding is more valuable than pure mathematical ability.'}, next=('rephrase_joke',), config={'configurable': {'thread_id': '123', 'checkpoint_ns': '', 'checkpoint_id': '1f0a7fe8-40ed-650e-8002-db2df83633d5'}}, metadata={'source': 'loop', 'step': 2, 'parents': {}}, created_at='2025-10-13T06:33:22.758148+00:00', parent_config={'configurable': {'thread_id': '123', 'checkpoint_ns': '', 'checkpoint_id': '1f0a7fdf-7dcb-6b82-8001-f4ee3718c5b0'}}, tasks=(PregelTask(id='dd0f432f-9c65-5db1-ad54-c6aa4b3cecd5', name='rephrase_joke', path=('__pregel_pull', 'rephrase_joke'), error=None, interrupts=(), state=None, result={'rephrase': 'Sure, here\\'s a refined version of your joke:\\n\\nWhy did the large language model break up with its calculator? \\n\\nBecause it wanted a partner who could really \"process\" its feelings!'}),), interrupts=()),\n",
       " StateSnapshot(values={'topic': 'Large langauge model', 'joke': 'Why did the large language model break up with its calculator?\\n\\nBecause it found someone who could actually \"understand\" its problems!', 'explanation': 'This joke plays on the capabilities and limitations of different types of computational tools. \\n\\n1. **Large Language Model (LLM)**: The LLM represents advanced AI, designed to understand and generate human language. It can interpret context, emotions, and nuances in communication, giving it a deeper understanding of \"problems\" beyond just numerical calculations.\\n\\n2. **Calculator**: A calculator is designed to perform mathematical operations but lacks the capacity for understanding or interpreting more complex problems, especially those that involve language, context, or emotional nuance.\\n\\nThe humor arises from the anthropomorphism of the LLM as having emotions and relationships, which is a playful exaggeration of the way we typically consider human interactions. The punchline (\"understand its problems\") hinges on the double meaning of \"problems\" — referring to both mathematical problems and personal issues. The LLM \"breaks up\" with the calculator because it finds something (or someone) better suited to comprehend its more complex needs, which is a humorous take on relationships and compatibility. \\n\\nSo, the joke combines ideas from technology, human relationships, and wordplay, resulting in a light-hearted quip about understanding and compatibility.', 'rephrase': 'Sure! Here’s a refined version of the joke:\\n\\nWhy did the large language model break up with its calculator?  \\nBecause it wanted a partner who could truly “compute” its feelings!'}, next=(), config={'configurable': {'thread_id': '123', 'checkpoint_ns': '', 'checkpoint_id': '1f0a7fe2-47c5-667a-8003-1f9b4fd9be66'}}, metadata={'source': 'loop', 'step': 3, 'parents': {}}, created_at='2025-10-13T06:30:42.414536+00:00', parent_config={'configurable': {'thread_id': '123', 'checkpoint_ns': '', 'checkpoint_id': '1f0a7fe2-3551-678c-8002-0f4acd34b56a'}}, tasks=(), interrupts=()),\n",
       " StateSnapshot(values={'topic': 'Large langauge model', 'joke': 'Why did the large language model break up with its calculator?\\n\\nBecause it found someone who could actually \"understand\" its problems!', 'explanation': 'This joke plays on the capabilities and limitations of different types of computational tools. \\n\\n1. **Large Language Model (LLM)**: The LLM represents advanced AI, designed to understand and generate human language. It can interpret context, emotions, and nuances in communication, giving it a deeper understanding of \"problems\" beyond just numerical calculations.\\n\\n2. **Calculator**: A calculator is designed to perform mathematical operations but lacks the capacity for understanding or interpreting more complex problems, especially those that involve language, context, or emotional nuance.\\n\\nThe humor arises from the anthropomorphism of the LLM as having emotions and relationships, which is a playful exaggeration of the way we typically consider human interactions. The punchline (\"understand its problems\") hinges on the double meaning of \"problems\" — referring to both mathematical problems and personal issues. The LLM \"breaks up\" with the calculator because it finds something (or someone) better suited to comprehend its more complex needs, which is a humorous take on relationships and compatibility. \\n\\nSo, the joke combines ideas from technology, human relationships, and wordplay, resulting in a light-hearted quip about understanding and compatibility.'}, next=('rephrase_joke',), config={'configurable': {'thread_id': '123', 'checkpoint_ns': '', 'checkpoint_id': '1f0a7fe2-3551-678c-8002-0f4acd34b56a'}}, metadata={'source': 'loop', 'step': 2, 'parents': {}}, created_at='2025-10-13T06:30:40.479587+00:00', parent_config={'configurable': {'thread_id': '123', 'checkpoint_ns': '', 'checkpoint_id': '1f0a7fdf-7dcb-6b82-8001-f4ee3718c5b0'}}, tasks=(PregelTask(id='90c1dddf-82ad-7319-1956-3c888d1db2d5', name='rephrase_joke', path=('__pregel_pull', 'rephrase_joke'), error=None, interrupts=(), state=None, result={'rephrase': 'Sure! Here’s a refined version of the joke:\\n\\nWhy did the large language model break up with its calculator?  \\nBecause it wanted a partner who could truly “compute” its feelings!'}),), interrupts=()),\n",
       " StateSnapshot(values={'topic': 'Large langauge model', 'joke': 'Why did the large language model break up with its calculator?\\n\\nBecause it found someone who could actually \"understand\" its problems!'}, next=('explain_joke',), config={'configurable': {'thread_id': '123', 'checkpoint_ns': '', 'checkpoint_id': '1f0a7fdf-7dcb-6b82-8001-f4ee3718c5b0'}}, metadata={'source': 'loop', 'step': 1, 'parents': {}}, created_at='2025-10-13T06:29:27.548799+00:00', parent_config={'configurable': {'thread_id': '123', 'checkpoint_ns': '', 'checkpoint_id': '1f0a7fdf-6e0f-68ce-8000-4f2eb26ad2e6'}}, tasks=(PregelTask(id='886dbf92-a388-50f7-0a0a-db9860df7058', name='explain_joke', path=('__pregel_pull', 'explain_joke'), error=None, interrupts=(), state=None, result={'explanation': 'This joke plays on the capabilities and limitations of different types of computational tools. \\n\\n1. **Large Language Model (LLM)**: The LLM represents advanced AI, designed to understand and generate human language. It can interpret context, emotions, and nuances in communication, giving it a deeper understanding of \"problems\" beyond just numerical calculations.\\n\\n2. **Calculator**: A calculator is designed to perform mathematical operations but lacks the capacity for understanding or interpreting more complex problems, especially those that involve language, context, or emotional nuance.\\n\\nThe humor arises from the anthropomorphism of the LLM as having emotions and relationships, which is a playful exaggeration of the way we typically consider human interactions. The punchline (\"understand its problems\") hinges on the double meaning of \"problems\" — referring to both mathematical problems and personal issues. The LLM \"breaks up\" with the calculator because it finds something (or someone) better suited to comprehend its more complex needs, which is a humorous take on relationships and compatibility. \\n\\nSo, the joke combines ideas from technology, human relationships, and wordplay, resulting in a light-hearted quip about understanding and compatibility.'}),), interrupts=()),\n",
       " StateSnapshot(values={'topic': 'Large langauge model'}, next=('generate_joke',), config={'configurable': {'thread_id': '123', 'checkpoint_ns': '', 'checkpoint_id': '1f0a7fdf-6e0f-68ce-8000-4f2eb26ad2e6'}}, metadata={'source': 'loop', 'step': 0, 'parents': {}}, created_at='2025-10-13T06:29:25.898869+00:00', parent_config={'configurable': {'thread_id': '123', 'checkpoint_ns': '', 'checkpoint_id': '1f0a7fdf-6e0b-68be-bfff-568b68ff041c'}}, tasks=(PregelTask(id='f42b0dbd-3710-858c-3c85-f03512938ff1', name='generate_joke', path=('__pregel_pull', 'generate_joke'), error=None, interrupts=(), state=None, result={'joke': 'Why did the large language model break up with its calculator?\\n\\nBecause it found someone who could actually \"understand\" its problems!'}),), interrupts=()),\n",
       " StateSnapshot(values={}, next=('__start__',), config={'configurable': {'thread_id': '123', 'checkpoint_ns': '', 'checkpoint_id': '1f0a7fdf-6e0b-68be-bfff-568b68ff041c'}}, metadata={'source': 'input', 'step': -1, 'parents': {}}, created_at='2025-10-13T06:29:25.897229+00:00', parent_config=None, tasks=(PregelTask(id='6f7644d3-baf5-60aa-4c01-1d38c671732e', name='__start__', path=('__pregel_pull', '__start__'), error=None, interrupts=(), state=None, result={'topic': 'Large langauge model'}),), interrupts=())]"
      ]
     },
     "execution_count": 196,
     "metadata": {},
     "output_type": "execute_result"
    }
   ],
   "source": [
    "list(workflow.get_state_history(config_1))"
   ]
  },
  {
   "cell_type": "code",
   "execution_count": 197,
   "metadata": {},
   "outputs": [
    {
     "name": "stdout",
     "output_type": "stream",
     "text": [
      "Step 1: I am a Joke generator llm.\n",
      "Joke generation is completed\n",
      "Step 2: I am a Joke explainer llm.\n",
      "Joke explanation is completed\n",
      "Step 3: I am a Joke re-generator llm\n",
      "Joke re-generation is completed\n"
     ]
    },
    {
     "data": {
      "text/plain": [
       "{'topic': 'Science',\n",
       " 'joke': \"Why can't you trust atoms? \\n\\nBecause they make up everything!\",\n",
       " 'explanation': 'This joke is a classic play on words that relies on a double meaning. \\n\\n1. **Literal Meaning**: Atoms are the fundamental building blocks of matter. Everything in the physical world is made up of atoms. This part of the joke relates to the scientific fact that all substances, including solids, liquids, and gases, are composed of atoms.\\n\\n2. **Figurative Meaning**: The phrase “make up” can also mean to fabricate or invent a story or lie. When someone \"makes up\" something, they are not telling the truth.\\n\\nSo, when the joke says, \"Why can\\'t you trust atoms? Because they make up everything!\" it plays on the dual meaning of \"make up.\" It implies that atoms are untrustworthy because they create all matter, while humorously suggesting they are dishonest because they \"make up\" everything, much like a person who might tell falsehoods.\\n\\nThe humor comes from the clever twist on language and the interplay between scientific fact and a common idiom.',\n",
       " 'rephrase': \"Sure! Here’s a twist on that classic joke:\\n\\nWhy can't you trust atoms?\\n\\nBecause they're always up to something—they make up everything!\"}"
      ]
     },
     "execution_count": 197,
     "metadata": {},
     "output_type": "execute_result"
    }
   ],
   "source": [
    "workflow.invoke(None, {\"configurable\": {\"thread_id\": \"123\", \"checkpoint_id\": \"1f0a7feb-62a2-6df4-8000-2d98af3f79c9\"}})"
   ]
  },
  {
   "cell_type": "markdown",
   "metadata": {},
   "source": [
    "## Post invoke state history for updating the state"
   ]
  },
  {
   "cell_type": "code",
   "execution_count": 198,
   "metadata": {},
   "outputs": [
    {
     "data": {
      "text/plain": [
       "[StateSnapshot(values={'topic': 'Science', 'joke': \"Why can't you trust atoms? \\n\\nBecause they make up everything!\", 'explanation': 'This joke is a classic play on words that relies on a double meaning. \\n\\n1. **Literal Meaning**: Atoms are the fundamental building blocks of matter. Everything in the physical world is made up of atoms. This part of the joke relates to the scientific fact that all substances, including solids, liquids, and gases, are composed of atoms.\\n\\n2. **Figurative Meaning**: The phrase “make up” can also mean to fabricate or invent a story or lie. When someone \"makes up\" something, they are not telling the truth.\\n\\nSo, when the joke says, \"Why can\\'t you trust atoms? Because they make up everything!\" it plays on the dual meaning of \"make up.\" It implies that atoms are untrustworthy because they create all matter, while humorously suggesting they are dishonest because they \"make up\" everything, much like a person who might tell falsehoods.\\n\\nThe humor comes from the clever twist on language and the interplay between scientific fact and a common idiom.', 'rephrase': \"Sure! Here’s a twist on that classic joke:\\n\\nWhy can't you trust atoms?\\n\\nBecause they're always up to something—they make up everything!\"}, next=(), config={'configurable': {'thread_id': '123', 'checkpoint_ns': '', 'checkpoint_id': '1f0a7fee-9476-6f08-8003-c8208a09d35d'}}, metadata={'source': 'loop', 'step': 3, 'parents': {}}, created_at='2025-10-13T06:36:12.578977+00:00', parent_config={'configurable': {'thread_id': '123', 'checkpoint_ns': '', 'checkpoint_id': '1f0a7fee-887d-6a1c-8002-1972769dd3b1'}}, tasks=(), interrupts=()),\n",
       " StateSnapshot(values={'topic': 'Science', 'joke': \"Why can't you trust atoms? \\n\\nBecause they make up everything!\", 'explanation': 'This joke is a classic play on words that relies on a double meaning. \\n\\n1. **Literal Meaning**: Atoms are the fundamental building blocks of matter. Everything in the physical world is made up of atoms. This part of the joke relates to the scientific fact that all substances, including solids, liquids, and gases, are composed of atoms.\\n\\n2. **Figurative Meaning**: The phrase “make up” can also mean to fabricate or invent a story or lie. When someone \"makes up\" something, they are not telling the truth.\\n\\nSo, when the joke says, \"Why can\\'t you trust atoms? Because they make up everything!\" it plays on the dual meaning of \"make up.\" It implies that atoms are untrustworthy because they create all matter, while humorously suggesting they are dishonest because they \"make up\" everything, much like a person who might tell falsehoods.\\n\\nThe humor comes from the clever twist on language and the interplay between scientific fact and a common idiom.'}, next=('rephrase_joke',), config={'configurable': {'thread_id': '123', 'checkpoint_ns': '', 'checkpoint_id': '1f0a7fee-887d-6a1c-8002-1972769dd3b1'}}, metadata={'source': 'loop', 'step': 2, 'parents': {}}, created_at='2025-10-13T06:36:11.323422+00:00', parent_config={'configurable': {'thread_id': '123', 'checkpoint_ns': '', 'checkpoint_id': '1f0a7fec-1897-6eca-8001-b3c70fcb67ce'}}, tasks=(PregelTask(id='6ff3f20e-3bf4-85e1-c61d-5a5e3d25ef77', name='rephrase_joke', path=('__pregel_pull', 'rephrase_joke'), error=None, interrupts=(), state=None, result={'rephrase': \"Sure! Here’s a twist on that classic joke:\\n\\nWhy can't you trust atoms?\\n\\nBecause they're always up to something—they make up everything!\"}),), interrupts=()),\n",
       " StateSnapshot(values={'topic': 'Science', 'joke': \"Why can't you trust atoms? \\n\\nBecause they make up everything!\"}, next=('explain_joke',), config={'configurable': {'thread_id': '123', 'checkpoint_ns': '', 'checkpoint_id': '1f0a7fec-1897-6eca-8001-b3c70fcb67ce'}}, metadata={'source': 'loop', 'step': 1, 'parents': {}}, created_at='2025-10-13T06:35:05.903056+00:00', parent_config={'configurable': {'thread_id': '123', 'checkpoint_ns': '', 'checkpoint_id': '1f0a7feb-62a2-6df4-8000-2d98af3f79c9'}}, tasks=(PregelTask(id='56cc872a-ad2e-2e1c-1739-2fd67dab4370', name='explain_joke', path=('__pregel_pull', 'explain_joke'), error=None, interrupts=(), state=None, result={'explanation': 'This joke is a classic play on words that relies on a double meaning. \\n\\n1. **Literal Meaning**: Atoms are the fundamental building blocks of matter. Everything in the physical world is made up of atoms. This part of the joke relates to the scientific fact that all substances, including solids, liquids, and gases, are composed of atoms.\\n\\n2. **Figurative Meaning**: The phrase “make up” can also mean to fabricate or invent a story or lie. When someone \"makes up\" something, they are not telling the truth.\\n\\nSo, when the joke says, \"Why can\\'t you trust atoms? Because they make up everything!\" it plays on the dual meaning of \"make up.\" It implies that atoms are untrustworthy because they create all matter, while humorously suggesting they are dishonest because they \"make up\" everything, much like a person who might tell falsehoods.\\n\\nThe humor comes from the clever twist on language and the interplay between scientific fact and a common idiom.'}),), interrupts=()),\n",
       " StateSnapshot(values={'topic': 'Science'}, next=('generate_joke',), config={'configurable': {'thread_id': '123', 'checkpoint_ns': '', 'checkpoint_id': '1f0a7feb-62a2-6df4-8000-2d98af3f79c9'}}, metadata={'source': 'update', 'step': 0, 'parents': {}}, created_at='2025-10-13T06:34:46.823467+00:00', parent_config={'configurable': {'thread_id': '123', 'checkpoint_ns': '', 'checkpoint_id': '1f0a7fa8-5691-68b4-8000-c8df47369320'}}, tasks=(PregelTask(id='25306827-d1cf-8c98-49b1-1802b785612c', name='generate_joke', path=('__pregel_pull', 'generate_joke'), error=None, interrupts=(), state=None, result={'joke': \"Why can't you trust atoms? \\n\\nBecause they make up everything!\"}),), interrupts=()),\n",
       " StateSnapshot(values={'topic': 'Large langauge model', 'joke': 'Why did the large language model break up with its calculator?\\n\\nBecause it found someone who could actually \"understand\" its problems!', 'explanation': 'This joke plays on a few clever puns and the characteristics of both a large language model (LLM) and a calculator. \\n\\n1. **Understanding Problems**: LLMs, like the one you\\'re interacting with, are designed to understand and generate human language, which includes interpreting complex queries and problems in a conversational way. In contrast, a calculator simply performs mathematical operations without any understanding of context or nuance.\\n\\n2. **Romantic Relationship Metaphor**: The joke anthropomorphizes the LLM and the calculator as if they were in a romantic relationship. The idea of \"breaking up\" suggests that the LLM is looking for a partner that can engage on a deeper level, which in this case means someone who can \"understand\" rather than just compute.\\n\\n3. **Play on \"Calculating\" Love**: There\\'s also a subtle play on the term \"calculating,\" which often describes someone who is overly logical or unemotional. The implication is that the calculator, being purely functional, lacks the emotional depth or understanding that the LLM desires.\\n\\nSo, the humor comes from the juxtaposition of the two types of \"intelligence,\" the relationship metaphor, and the play on words related to understanding and computation. It highlights the idea that sometimes, emotional intelligence or understanding is more valuable than pure mathematical ability.', 'rephrase': 'Sure, here\\'s a refined version of your joke:\\n\\nWhy did the large language model break up with its calculator? \\n\\nBecause it wanted a partner who could really \"process\" its feelings!'}, next=(), config={'configurable': {'thread_id': '123', 'checkpoint_ns': '', 'checkpoint_id': '1f0a7fe8-50d3-631a-8003-61c71ee5a348'}}, metadata={'source': 'loop', 'step': 3, 'parents': {}}, created_at='2025-10-13T06:33:24.425145+00:00', parent_config={'configurable': {'thread_id': '123', 'checkpoint_ns': '', 'checkpoint_id': '1f0a7fe8-40ed-650e-8002-db2df83633d5'}}, tasks=(), interrupts=()),\n",
       " StateSnapshot(values={'topic': 'Large langauge model', 'joke': 'Why did the large language model break up with its calculator?\\n\\nBecause it found someone who could actually \"understand\" its problems!', 'explanation': 'This joke plays on a few clever puns and the characteristics of both a large language model (LLM) and a calculator. \\n\\n1. **Understanding Problems**: LLMs, like the one you\\'re interacting with, are designed to understand and generate human language, which includes interpreting complex queries and problems in a conversational way. In contrast, a calculator simply performs mathematical operations without any understanding of context or nuance.\\n\\n2. **Romantic Relationship Metaphor**: The joke anthropomorphizes the LLM and the calculator as if they were in a romantic relationship. The idea of \"breaking up\" suggests that the LLM is looking for a partner that can engage on a deeper level, which in this case means someone who can \"understand\" rather than just compute.\\n\\n3. **Play on \"Calculating\" Love**: There\\'s also a subtle play on the term \"calculating,\" which often describes someone who is overly logical or unemotional. The implication is that the calculator, being purely functional, lacks the emotional depth or understanding that the LLM desires.\\n\\nSo, the humor comes from the juxtaposition of the two types of \"intelligence,\" the relationship metaphor, and the play on words related to understanding and computation. It highlights the idea that sometimes, emotional intelligence or understanding is more valuable than pure mathematical ability.'}, next=('rephrase_joke',), config={'configurable': {'thread_id': '123', 'checkpoint_ns': '', 'checkpoint_id': '1f0a7fe8-40ed-650e-8002-db2df83633d5'}}, metadata={'source': 'loop', 'step': 2, 'parents': {}}, created_at='2025-10-13T06:33:22.758148+00:00', parent_config={'configurable': {'thread_id': '123', 'checkpoint_ns': '', 'checkpoint_id': '1f0a7fdf-7dcb-6b82-8001-f4ee3718c5b0'}}, tasks=(PregelTask(id='dd0f432f-9c65-5db1-ad54-c6aa4b3cecd5', name='rephrase_joke', path=('__pregel_pull', 'rephrase_joke'), error=None, interrupts=(), state=None, result={'rephrase': 'Sure, here\\'s a refined version of your joke:\\n\\nWhy did the large language model break up with its calculator? \\n\\nBecause it wanted a partner who could really \"process\" its feelings!'}),), interrupts=()),\n",
       " StateSnapshot(values={'topic': 'Large langauge model', 'joke': 'Why did the large language model break up with its calculator?\\n\\nBecause it found someone who could actually \"understand\" its problems!', 'explanation': 'This joke plays on the capabilities and limitations of different types of computational tools. \\n\\n1. **Large Language Model (LLM)**: The LLM represents advanced AI, designed to understand and generate human language. It can interpret context, emotions, and nuances in communication, giving it a deeper understanding of \"problems\" beyond just numerical calculations.\\n\\n2. **Calculator**: A calculator is designed to perform mathematical operations but lacks the capacity for understanding or interpreting more complex problems, especially those that involve language, context, or emotional nuance.\\n\\nThe humor arises from the anthropomorphism of the LLM as having emotions and relationships, which is a playful exaggeration of the way we typically consider human interactions. The punchline (\"understand its problems\") hinges on the double meaning of \"problems\" — referring to both mathematical problems and personal issues. The LLM \"breaks up\" with the calculator because it finds something (or someone) better suited to comprehend its more complex needs, which is a humorous take on relationships and compatibility. \\n\\nSo, the joke combines ideas from technology, human relationships, and wordplay, resulting in a light-hearted quip about understanding and compatibility.', 'rephrase': 'Sure! Here’s a refined version of the joke:\\n\\nWhy did the large language model break up with its calculator?  \\nBecause it wanted a partner who could truly “compute” its feelings!'}, next=(), config={'configurable': {'thread_id': '123', 'checkpoint_ns': '', 'checkpoint_id': '1f0a7fe2-47c5-667a-8003-1f9b4fd9be66'}}, metadata={'source': 'loop', 'step': 3, 'parents': {}}, created_at='2025-10-13T06:30:42.414536+00:00', parent_config={'configurable': {'thread_id': '123', 'checkpoint_ns': '', 'checkpoint_id': '1f0a7fe2-3551-678c-8002-0f4acd34b56a'}}, tasks=(), interrupts=()),\n",
       " StateSnapshot(values={'topic': 'Large langauge model', 'joke': 'Why did the large language model break up with its calculator?\\n\\nBecause it found someone who could actually \"understand\" its problems!', 'explanation': 'This joke plays on the capabilities and limitations of different types of computational tools. \\n\\n1. **Large Language Model (LLM)**: The LLM represents advanced AI, designed to understand and generate human language. It can interpret context, emotions, and nuances in communication, giving it a deeper understanding of \"problems\" beyond just numerical calculations.\\n\\n2. **Calculator**: A calculator is designed to perform mathematical operations but lacks the capacity for understanding or interpreting more complex problems, especially those that involve language, context, or emotional nuance.\\n\\nThe humor arises from the anthropomorphism of the LLM as having emotions and relationships, which is a playful exaggeration of the way we typically consider human interactions. The punchline (\"understand its problems\") hinges on the double meaning of \"problems\" — referring to both mathematical problems and personal issues. The LLM \"breaks up\" with the calculator because it finds something (or someone) better suited to comprehend its more complex needs, which is a humorous take on relationships and compatibility. \\n\\nSo, the joke combines ideas from technology, human relationships, and wordplay, resulting in a light-hearted quip about understanding and compatibility.'}, next=('rephrase_joke',), config={'configurable': {'thread_id': '123', 'checkpoint_ns': '', 'checkpoint_id': '1f0a7fe2-3551-678c-8002-0f4acd34b56a'}}, metadata={'source': 'loop', 'step': 2, 'parents': {}}, created_at='2025-10-13T06:30:40.479587+00:00', parent_config={'configurable': {'thread_id': '123', 'checkpoint_ns': '', 'checkpoint_id': '1f0a7fdf-7dcb-6b82-8001-f4ee3718c5b0'}}, tasks=(PregelTask(id='90c1dddf-82ad-7319-1956-3c888d1db2d5', name='rephrase_joke', path=('__pregel_pull', 'rephrase_joke'), error=None, interrupts=(), state=None, result={'rephrase': 'Sure! Here’s a refined version of the joke:\\n\\nWhy did the large language model break up with its calculator?  \\nBecause it wanted a partner who could truly “compute” its feelings!'}),), interrupts=()),\n",
       " StateSnapshot(values={'topic': 'Large langauge model', 'joke': 'Why did the large language model break up with its calculator?\\n\\nBecause it found someone who could actually \"understand\" its problems!'}, next=('explain_joke',), config={'configurable': {'thread_id': '123', 'checkpoint_ns': '', 'checkpoint_id': '1f0a7fdf-7dcb-6b82-8001-f4ee3718c5b0'}}, metadata={'source': 'loop', 'step': 1, 'parents': {}}, created_at='2025-10-13T06:29:27.548799+00:00', parent_config={'configurable': {'thread_id': '123', 'checkpoint_ns': '', 'checkpoint_id': '1f0a7fdf-6e0f-68ce-8000-4f2eb26ad2e6'}}, tasks=(PregelTask(id='886dbf92-a388-50f7-0a0a-db9860df7058', name='explain_joke', path=('__pregel_pull', 'explain_joke'), error=None, interrupts=(), state=None, result={'explanation': 'This joke plays on the capabilities and limitations of different types of computational tools. \\n\\n1. **Large Language Model (LLM)**: The LLM represents advanced AI, designed to understand and generate human language. It can interpret context, emotions, and nuances in communication, giving it a deeper understanding of \"problems\" beyond just numerical calculations.\\n\\n2. **Calculator**: A calculator is designed to perform mathematical operations but lacks the capacity for understanding or interpreting more complex problems, especially those that involve language, context, or emotional nuance.\\n\\nThe humor arises from the anthropomorphism of the LLM as having emotions and relationships, which is a playful exaggeration of the way we typically consider human interactions. The punchline (\"understand its problems\") hinges on the double meaning of \"problems\" — referring to both mathematical problems and personal issues. The LLM \"breaks up\" with the calculator because it finds something (or someone) better suited to comprehend its more complex needs, which is a humorous take on relationships and compatibility. \\n\\nSo, the joke combines ideas from technology, human relationships, and wordplay, resulting in a light-hearted quip about understanding and compatibility.'}),), interrupts=()),\n",
       " StateSnapshot(values={'topic': 'Large langauge model'}, next=('generate_joke',), config={'configurable': {'thread_id': '123', 'checkpoint_ns': '', 'checkpoint_id': '1f0a7fdf-6e0f-68ce-8000-4f2eb26ad2e6'}}, metadata={'source': 'loop', 'step': 0, 'parents': {}}, created_at='2025-10-13T06:29:25.898869+00:00', parent_config={'configurable': {'thread_id': '123', 'checkpoint_ns': '', 'checkpoint_id': '1f0a7fdf-6e0b-68be-bfff-568b68ff041c'}}, tasks=(PregelTask(id='f42b0dbd-3710-858c-3c85-f03512938ff1', name='generate_joke', path=('__pregel_pull', 'generate_joke'), error=None, interrupts=(), state=None, result={'joke': 'Why did the large language model break up with its calculator?\\n\\nBecause it found someone who could actually \"understand\" its problems!'}),), interrupts=()),\n",
       " StateSnapshot(values={}, next=('__start__',), config={'configurable': {'thread_id': '123', 'checkpoint_ns': '', 'checkpoint_id': '1f0a7fdf-6e0b-68be-bfff-568b68ff041c'}}, metadata={'source': 'input', 'step': -1, 'parents': {}}, created_at='2025-10-13T06:29:25.897229+00:00', parent_config=None, tasks=(PregelTask(id='6f7644d3-baf5-60aa-4c01-1d38c671732e', name='__start__', path=('__pregel_pull', '__start__'), error=None, interrupts=(), state=None, result={'topic': 'Large langauge model'}),), interrupts=())]"
      ]
     },
     "execution_count": 198,
     "metadata": {},
     "output_type": "execute_result"
    }
   ],
   "source": [
    "list(workflow.get_state_history(config_1))"
   ]
  },
  {
   "cell_type": "markdown",
   "metadata": {},
   "source": []
  }
 ],
 "metadata": {
  "kernelspec": {
   "display_name": "ai_practice",
   "language": "python",
   "name": "python3"
  },
  "language_info": {
   "codemirror_mode": {
    "name": "ipython",
    "version": 3
   },
   "file_extension": ".py",
   "mimetype": "text/x-python",
   "name": "python",
   "nbconvert_exporter": "python",
   "pygments_lexer": "ipython3",
   "version": "3.13.7"
  }
 },
 "nbformat": 4,
 "nbformat_minor": 2
}
