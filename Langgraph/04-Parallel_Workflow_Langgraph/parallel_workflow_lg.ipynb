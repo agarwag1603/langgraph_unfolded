{
 "cells": [
  {
   "cell_type": "code",
   "execution_count": 1,
   "metadata": {},
   "outputs": [
    {
     "name": "stdout",
     "output_type": "stream",
     "text": [
      "{'balls': 36, 'runs': 67, 'fours': 3, 'sixes': 5, 'strike_rate': 186.11111111111111, 'boundary_percentage': 62.68656716417911, 'summary': \"In an impressive display of batting, the player scored 67 runs, showcasing their aggressive style of play. They hit 3 fours and an impressive 5 sixes, contributing significantly to their team's total. With a strike rate of 186.11, the player consistently found ways to score quickly. Their boundary percentage of 62.69 reflects their ability to make impactful hits. Overall, it was a powerful performance that energized the team and spectators alike.\"}\n"
     ]
    }
   ],
   "source": [
    "from typing import TypedDict\n",
    "from langgraph.graph import START,END,StateGraph\n",
    "from langchain_openai import ChatOpenAI\n",
    "from dotenv import load_dotenv\n",
    "from langchain_core.prompts import ChatPromptTemplate\n",
    "from IPython.display import Image, display\n",
    "\n",
    "load_dotenv()\n",
    "\n",
    "gpt_llm= ChatOpenAI(model=\"gpt-4o-mini\")\n",
    "\n",
    "class Cricket(TypedDict):\n",
    "    balls: int\n",
    "    runs: int\n",
    "    fours: int\n",
    "    sixes: int\n",
    "    strike_rate: float\n",
    "    boundary_percentage: float\n",
    "    summary: str\n",
    "\n",
    "\n",
    "def strike_rate_calculator(state: Cricket ) -> Cricket:\n",
    "    balls=state['balls']\n",
    "    runs=state['runs']\n",
    "\n",
    "    strike_rate= (runs/balls)*100\n",
    "    state['strike_rate']=strike_rate\n",
    "\n",
    "    return {\"strike_rate\":strike_rate}\n",
    "\n",
    "def boundary_percentage_calculator(state: Cricket ) -> Cricket:\n",
    "    runs=state['runs']\n",
    "    fours=state['fours']\n",
    "    sixes=state['sixes']\n",
    "\n",
    "    boundary_percentage= (((fours*4)+(sixes*6))/runs)*100\n",
    "    state['boundary_percentage']=boundary_percentage\n",
    "\n",
    "    return {\"boundary_percentage\":boundary_percentage}\n",
    "\n",
    "def summary_generator(state: Cricket ) -> Cricket:\n",
    "    runs=state['runs']\n",
    "    fours=state['fours']\n",
    "    sixes=state['sixes']\n",
    "    strike_rate=state['strike_rate']\n",
    "    boundary_percentage=state['boundary_percentage']\n",
    "    \n",
    "\n",
    "    prompt=f\"\"\"Generate a 5 line summary for the score of the player in a game of cricket.\n",
    "    runs:{runs}\n",
    "    fours:{fours}\n",
    "    sixes:{sixes}\n",
    "    strike_rate:{strike_rate}\n",
    "    boundary_percentage:{boundary_percentage}\n",
    "    \"\"\"\n",
    "\n",
    "    summary=gpt_llm.invoke(prompt).content\n",
    "\n",
    "    state['summary']=summary\n",
    "\n",
    "    return state\n",
    "\n",
    "graph =  StateGraph(Cricket)\n",
    "\n",
    "graph.add_node(\"strike_rate_calculator\",strike_rate_calculator)\n",
    "graph.add_node(\"boundary_percentage_calculator\",boundary_percentage_calculator)\n",
    "graph.add_node(\"summary_generator\",summary_generator)\n",
    "\n",
    "graph.add_edge(START,\"strike_rate_calculator\")\n",
    "graph.add_edge(START,\"boundary_percentage_calculator\")\n",
    "graph.add_edge(\"strike_rate_calculator\",\"summary_generator\")\n",
    "graph.add_edge(\"boundary_percentage_calculator\",\"summary_generator\")\n",
    "graph.add_edge(\"summary_generator\",END)\n",
    "\n",
    "workflow=graph.compile()\n",
    "\n",
    "init_state= {\"balls\":36, \"runs\":67, \"fours\":3, \"sixes\":5}\n",
    "\n",
    "final_state=workflow.invoke(init_state)\n",
    "\n",
    "print(final_state)"
   ]
  },
  {
   "cell_type": "code",
   "execution_count": 2,
   "metadata": {},
   "outputs": [
    {
     "data": {
      "image/png": "[encoded data removed]",
      "text/plain": [
       "<IPython.core.display.Image object>"
      ]
     },
     "metadata": {},
     "output_type": "display_data"
    }
   ],
   "source": [
    "display(Image(workflow.get_graph().draw_mermaid_png()))"
   ]
  }
 ],
 "metadata": {
  "kernelspec": {
   "display_name": "ai_practice",
   "language": "python",
   "name": "python3"
  },
  "language_info": {
   "codemirror_mode": {
    "name": "ipython",
    "version": 3
   },
   "file_extension": ".py",
   "mimetype": "text/x-python",
   "name": "python",
   "nbconvert_exporter": "python",
   "pygments_lexer": "ipython3",
   "version": "3.13.7"
  }
 },
 "nbformat": 4,
 "nbformat_minor": 2
}
