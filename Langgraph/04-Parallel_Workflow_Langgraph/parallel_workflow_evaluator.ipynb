{
 "cells": [
  {
   "cell_type": "code",
   "execution_count": 95,
   "metadata": {},
   "outputs": [
    {
     "data": {
      "text/plain": [
       "True"
      ]
     },
     "execution_count": 95,
     "metadata": {},
     "output_type": "execute_result"
    }
   ],
   "source": [
    "from typing import TypedDict, Annotated\n",
    "from langgraph.graph import START,END,StateGraph\n",
    "from langchain_openai import ChatOpenAI\n",
    "from dotenv import load_dotenv\n",
    "from langchain_core.prompts import ChatPromptTemplate\n",
    "from IPython.display import Image, display\n",
    "from pydantic import BaseModel, Field\n",
    "import operator\n",
    "\n",
    "load_dotenv()"
   ]
  },
  {
   "cell_type": "code",
   "execution_count": 96,
   "metadata": {},
   "outputs": [],
   "source": [
    "class EssayFeedback(BaseModel):\n",
    "    feedback: str = Field(description=\"This field is for essay about a topic\")\n",
    "    score: float = Field(description=\"This is a score field for the essay\", ge=0, lt=10)\n"
   ]
  },
  {
   "cell_type": "code",
   "execution_count": 97,
   "metadata": {},
   "outputs": [],
   "source": [
    "gpt_llm = ChatOpenAI(model=\"gpt-4o-mini\")\n",
    "\n",
    "structured_model=gpt_llm.with_structured_output(EssayFeedback)"
   ]
  },
  {
   "cell_type": "code",
   "execution_count": 98,
   "metadata": {},
   "outputs": [],
   "source": [
    "class Essay(TypedDict):\n",
    "    topic: str\n",
    "    essay: str\n",
    "    language_feedback: str\n",
    "    depth_of_analysis: str\n",
    "    clarity_feedback: str\n",
    "    overall_feedback: str\n",
    "    individual_scores: Annotated[list[int], operator.add]\n",
    "    avg_score: float\n",
    "\n"
   ]
  },
  {
   "cell_type": "code",
   "execution_count": 99,
   "metadata": {},
   "outputs": [],
   "source": [
    "def essay_generator(state: Essay) -> Essay:\n",
    "    topic=state['topic']\n",
    "    prompt= f\"You are an AI assistant who will generate a bad essay on the topic: \\n {topic}\"\n",
    "    essay=gpt_llm.invoke(prompt)\n",
    "    state['essay']=essay\n",
    "    return state"
   ]
  },
  {
   "cell_type": "code",
   "execution_count": 100,
   "metadata": {},
   "outputs": [],
   "source": [
    "def language_feedback(state: Essay) -> Essay:\n",
    "    essay=state['essay']\n",
    "    prompt= f\"Provide a language feedback for the essay and also assign score between (0-10) for: \\n {essay}\"\n",
    "    response=structured_model.invoke(prompt)\n",
    "    return {'language_feedback':response.feedback,'individual_scores':[response.score]}"
   ]
  },
  {
   "cell_type": "code",
   "execution_count": 101,
   "metadata": {},
   "outputs": [],
   "source": [
    "def depth_of_analysis(state: Essay) -> Essay:\n",
    "    essay=state['essay']\n",
    "    prompt= f\"Provide your depth of analysis for the essay and also assign also assign score between (0-10) for: \\n {essay}\"\n",
    "    response=structured_model.invoke(prompt)\n",
    "    return {'depth_of_analysis':response.feedback,'individual_scores':[response.score]}"
   ]
  },
  {
   "cell_type": "code",
   "execution_count": 102,
   "metadata": {},
   "outputs": [],
   "source": [
    "def clarity_feedback(state: Essay) -> Essay:\n",
    "    essay=state['essay']\n",
    "    prompt= f\"Provide your clarity feedbacl for the essay and also assign also assign score between (0-10) for: \\n {essay}\"\n",
    "    response=structured_model.invoke(prompt)\n",
    "    return {'clarity_feedback':response.feedback,'individual_scores':[response.score]}"
   ]
  },
  {
   "cell_type": "code",
   "execution_count": null,
   "metadata": {},
   "outputs": [],
   "source": [
    "def overall_feedback(state: Essay) -> Essay:\n",
    "    prompt =  f\"Based on the following feedback, create summarized feedback \\n language feedback: \\n {state['language_feedback']} \\n depth of analysis: \\n {state['language_feedback']} \\n Clarity Feedback: \\n {state['clarity_feedback']}\"\n",
    "    \n",
    "    overall_feedback=gpt_llm.invoke(prompt)\n",
    "    avg_score=sum(state['individual_scores'])/len(state['individual_scores'])\n",
    "\n",
    "    # state['overall_feedback']=overall_feedback\n",
    "    # state['avg_score']=avg_score\n",
    "\n",
    "    return {'overall_feedback':overall_feedback, 'avg_score':avg_score}\n",
    "    \n"
   ]
  },
  {
   "cell_type": "code",
   "execution_count": 115,
   "metadata": {},
   "outputs": [],
   "source": [
    "graph = StateGraph(Essay)\n",
    "graph.add_node(\"essay_generator\",essay_generator)\n",
    "graph.add_node(\"language_feedback\",language_feedback)\n",
    "graph.add_node(\"depth_of_analysis\",depth_of_analysis)\n",
    "graph.add_node(\"clarity_feedback\",clarity_feedback)\n",
    "graph.add_node(\"overall_feedback\",overall_feedback)\n",
    "\n",
    "graph.add_edge(START,\"essay_generator\")\n",
    "graph.add_edge(\"essay_generator\",\"language_feedback\")\n",
    "graph.add_edge(\"essay_generator\",\"depth_of_analysis\")\n",
    "graph.add_edge(\"essay_generator\",\"clarity_feedback\")\n",
    "graph.add_edge(\"language_feedback\",\"overall_feedback\")\n",
    "graph.add_edge(\"depth_of_analysis\",\"overall_feedback\")\n",
    "graph.add_edge(\"clarity_feedback\",\"overall_feedback\")\n",
    "graph.add_edge(\"overall_feedback\",END)\n",
    "\n",
    "workflow=graph.compile()\n"
   ]
  },
  {
   "cell_type": "code",
   "execution_count": 116,
   "metadata": {},
   "outputs": [
    {
     "data": {
      "image/png": "[encoded data removed]",
      "text/plain": [
       "<IPython.core.display.Image object>"
      ]
     },
     "metadata": {},
     "output_type": "display_data"
    }
   ],
   "source": [
    "display(Image(workflow.get_graph().draw_mermaid_png()))"
   ]
  },
  {
   "cell_type": "code",
   "execution_count": 117,
   "metadata": {},
   "outputs": [
    {
     "data": {
      "text/plain": [
       "{'topic': 'Rise of India in Tech',\n",
       " 'essay': AIMessage(content=\"**The Rise of India in Tech: A Bad Essay**\\n\\nIndia has been rising in the tech industry lately, and it’s really interesting. In fact, many people say it's becoming a tech hub. This is mainly because of the internet, which is like a big network of computers that connects people. Thanks to the internet, more people in India can access information, which is good. \\n\\nThe Indian government has supported this tech rise by making policies, but I’m not sure what these policies are. Maybe they involve giving money, or perhaps they make it easier for startups? Startups are like small businesses that are new and cool. They usually work on apps and websites. One famous example is some app that everyone seems to have but I can’t remember the name of it right now. It’s very popular, though.\\n\\nAnother important point is that many people in India are smart and can code. Coding is when you write things that computers understand. It’s like writing instructions, but for computers! There are many tech schools now where India’s brightest minds learn how to code really well. Some people say these schools are the best in the world. I don’t know if that’s true, but it sounds nice. \\n\\nFurthermore, India has a lot of IT companies. IT stands for Information Technology, so it’s basically businesses that deal with software and hardware and other technical stuff. Companies like Infosys and Wipro are well-known, but there are also many others, though I can’t remember their names right now either. These companies help other businesses with their tech needs, which is very helpful, I guess. \\n\\nIn conclusion, the rise of India in tech is something everyone should pay attention to. The internet and smart people are making it happen, along with some government help. Even though I don’t know all the details, I’m pretty sure that India will keep getting better in tech. So, let’s see what happens next! \\n\\nOverall, it’s just a good story, and I’m happy to write about it even though I might not have included some vital information. But that’s okay!\", additional_kwargs={'refusal': None}, response_metadata={'token_usage': {'completion_tokens': 424, 'prompt_tokens': 28, 'total_tokens': 452, 'completion_tokens_details': {'accepted_prediction_tokens': 0, 'audio_tokens': 0, 'reasoning_tokens': 0, 'rejected_prediction_tokens': 0}, 'prompt_tokens_details': {'audio_tokens': 0, 'cached_tokens': 0}}, 'model_name': 'gpt-4o-mini-2024-07-18', 'system_fingerprint': 'fp_51db84afab', 'id': 'chatcmpl-CPijybdEAKFEyRnYsuyUeL4GIP5rn', 'service_tier': 'default', 'finish_reason': 'stop', 'logprobs': None}, id='run--8e3b588a-b25f-4a4b-a942-1605686e0f4c-0', usage_metadata={'input_tokens': 28, 'output_tokens': 424, 'total_tokens': 452, 'input_token_details': {'audio': 0, 'cache_read': 0}, 'output_token_details': {'audio': 0, 'reasoning': 0}}),\n",
       " 'language_feedback': 'The essay presents an engaging narrative about India’s rise in the tech industry but lacks depth and clarity in several areas. While the enthusiasm is evident, the points raised are often vague or lacking concrete examples. For instance, more specifics about government policies or prominent tech companies could enhance credibility. Additionally, using phrases like \"I don’t know\" or \"I can’t remember\" undermines the essay\\'s authority. There\\'s a noticeable lack of structure; while there are distinct points made, they could be better organized into clear thematic sections. Focusing on fewer ideas and developing them more thoroughly could improve the overall quality. Lastly, grammatical and stylistic improvements are needed, as informal language and sentence structures detract from the professionalism of the writing. More thorough research and clearer expression of ideas would raise the essay\\'s quality significantly.',\n",
       " 'depth_of_analysis': 'This essay presents a very basic overview of the rise of India in the tech sector but lacks depth and specificity. The writer mentions the importance of the internet, government support, and the prevalence of coding education, but fails to provide concrete examples or detailed explanations about these elements. Additionally, the essay lacks critical analysis and does not mention the challenges or the complexities involved in India\\'s tech rise, such as market competition, regulatory hurdles, or socio-economic factors. The use of vague phrases like \"I’m not sure what these policies are\" and \"I can’t remember the name of it right now\" undermines the credibility of the analysis. \\n\\nThe writing style is quite informal and may not resonate well with a sophisticated audience interested in the nuances of technological development. More concrete data, statistics, or case studies would significantly enhance the strength of the argument. A more structured approach with clear sections and logical transitions between points would improve clarity as well.\\n\\nIn summary, while the topic of India\\'s rise in tech is relevant, the essay falls short in terms of depth, critical insight, and coherence. It reads more like a casual conversation than an analysis and needs substantial development to be truly effective.',\n",
       " 'clarity_feedback': 'The essay titled \"The Rise of India in Tech: A Bad Essay\" presents an interesting topic but lacks depth and specificity. Here are some points for improvement:\\n\\n1. **Lack of Specifics**: The essay makes broad claims about India\\'s rise in the tech sector, mentioning the internet, government support, and educational institutions without providing specific examples or data to back these assertions. For instance, it references policies of the Indian government but does not elaborate on what those policies entail. Including specific initiatives or programs would strengthen the argument.\\n\\n2. **Ambiguity**: Phrases like \"some app that everyone seems to have\" and \"many others, though I can’t remember their names right now\" introduce ambiguity. This could be improved by including well-known apps and companies, which would add credibility and clarity to the essay.\\n\\n3. **Inconsistent Tone**: The tone shifts between informal and academic. Phrases like \"I don’t know\" and \"I guess\" make the essay sound less authoritative. Striving for a consistent, confident tone would enhance its professionalism.\\n\\n4. **Organizational Structure**: While the essay has a general structure, it could benefit from clearer transitions between paragraphs and topics. Also, the conclusion feels rushed and lacks a strong summative statement to drive the main message home.\\n\\n5. **Grammatical Errors**: There are a few grammatical issues, such as missing punctuation in some areas and awkward phrasing. For example, \"smart people are making it happen, along with some government help\" could be rephrased for clarity and conciseness.\\n\\nOverall, while the essay touches on a relevant and significant topic, it requires greater depth, clarity, and refinement to effectively convey the importance of India\\'s rise in the tech industry.',\n",
       " 'overall_feedback': AIMessage(content='**Summarized Feedback:**\\n\\nThe essay on India\\'s rise in the tech industry is engaging but lacks depth and clarity. Here are key areas for improvement:\\n\\n1. **Specificity**: The essay contains broad claims without sufficient concrete examples or data. Detailing specific government policies, tech companies, or initiatives would strengthen the argument.\\n\\n2. **Clarity**: Ambiguous phrases diminish credibility. Providing clear references to well-known apps and companies will enhance clarity and authority.\\n\\n3. **Tone Consistency**: The tone fluctuates between informal and academic, with phrases like \"I don’t know\" undermining the essay\\'s authority. Adopting a consistent, confident tone would improve professionalism.\\n\\n4. **Organizational Structure**: The overall structure needs clearer transitions between ideas. A more developed conclusion would help reinforce the main message.\\n\\n5. **Grammar and Style**: The essay requires grammatical corrections and refinement of awkward phrasing to enhance clarity and professionalism.\\n\\nIn summary, with more depth, clarity, and structural refinement, the essay could more effectively highlight the significance of India\\'s tech industry growth.', additional_kwargs={'refusal': None}, response_metadata={'token_usage': {'completion_tokens': 220, 'prompt_tokens': 713, 'total_tokens': 933, 'completion_tokens_details': {'accepted_prediction_tokens': 0, 'audio_tokens': 0, 'reasoning_tokens': 0, 'rejected_prediction_tokens': 0}, 'prompt_tokens_details': {'audio_tokens': 0, 'cached_tokens': 0}}, 'model_name': 'gpt-4o-mini-2024-07-18', 'system_fingerprint': 'fp_560af6e559', 'id': 'chatcmpl-CPikB41njN8uXpRihSnMzg8HR3XPp', 'service_tier': 'default', 'finish_reason': 'stop', 'logprobs': None}, id='run--4e88f0b1-48d2-4091-95a9-2966ce66d39f-0', usage_metadata={'input_tokens': 713, 'output_tokens': 220, 'total_tokens': 933, 'input_token_details': {'audio': 0, 'cache_read': 0}, 'output_token_details': {'audio': 0, 'reasoning': 0}}),\n",
       " 'individual_scores': [4.0, 3.0, 4.0, 4.0, 3.0, 4.0],\n",
       " 'avg_score': 3.6666666666666665}"
      ]
     },
     "execution_count": 117,
     "metadata": {},
     "output_type": "execute_result"
    }
   ],
   "source": [
    "# final_result=\n",
    "workflow.invoke({\"topic\":\"Rise of India in Tech\"})\n",
    "# print(final_result)\n",
    "# print(50*\"=\")\n",
    "# print(final_result['overall_feedback'])\n",
    "# print(50*\"=\")\n",
    "# print(final_result['avg_score'])"
   ]
  }
 ],
 "metadata": {
  "kernelspec": {
   "display_name": "ai_practice",
   "language": "python",
   "name": "python3"
  },
  "language_info": {
   "codemirror_mode": {
    "name": "ipython",
    "version": 3
   },
   "file_extension": ".py",
   "mimetype": "text/x-python",
   "name": "python",
   "nbconvert_exporter": "python",
   "pygments_lexer": "ipython3",
   "version": "3.13.7"
  }
 },
 "nbformat": 4,
 "nbformat_minor": 2
}
