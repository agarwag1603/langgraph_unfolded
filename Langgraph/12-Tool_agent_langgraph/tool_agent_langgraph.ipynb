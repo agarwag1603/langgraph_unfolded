{
 "cells": [
  {
   "cell_type": "code",
   "execution_count": 51,
   "metadata": {},
   "outputs": [
    {
     "data": {
      "text/plain": [
       "True"
      ]
     },
     "execution_count": 51,
     "metadata": {},
     "output_type": "execute_result"
    }
   ],
   "source": [
    "from typing import TypedDict, Annotated\n",
    "from langgraph.graph import START,END,StateGraph\n",
    "from langchain_openai import ChatOpenAI\n",
    "from dotenv import load_dotenv\n",
    "from langgraph.graph.message import add_messages\n",
    "from langchain_core.messages import BaseMessage\n",
    "from IPython.display import Image, display, Markdown\n",
    "from langgraph.prebuilt import ToolNode, tools_condition\n",
    "from langchain_community.tools import DuckDuckGoSearchRun\n",
    "from langchain_core.tools import tool\n",
    "from langchain_community.document_loaders import PyPDFLoader\n",
    "from langchain_openai import OpenAIEmbeddings\n",
    "from langchain_text_splitters import RecursiveCharacterTextSplitter\n",
    "from langchain.tools.retriever import create_retriever_tool\n",
    "from langchain_community.vectorstores import Chroma\n",
    "import os\n",
    "\n",
    "\n",
    "load_dotenv()"
   ]
  },
  {
   "cell_type": "code",
   "execution_count": 26,
   "metadata": {},
   "outputs": [],
   "source": [
    "gpt_llm= ChatOpenAI(model=\"gpt-4o-mini\")"
   ]
  },
  {
   "cell_type": "code",
   "execution_count": 27,
   "metadata": {},
   "outputs": [],
   "source": [
    "class ToolCaller(TypedDict):\n",
    "    messages: Annotated[list[BaseMessage], add_messages]"
   ]
  },
  {
   "cell_type": "code",
   "execution_count": 28,
   "metadata": {},
   "outputs": [],
   "source": [
    "searchtool =  DuckDuckGoSearchRun(region=\"us-en\")"
   ]
  },
  {
   "cell_type": "code",
   "execution_count": 29,
   "metadata": {},
   "outputs": [],
   "source": [
    "# Get the directory where the notebook is located\n",
    "notebook_dir = os.path.dirname(os.path.abspath(\"__file__\"))\n",
    "pdf_path = os.path.join(notebook_dir, \"RentalConditions.pdf\")\n",
    "\n",
    "\n",
    "pdf_loader= PyPDFLoader(pdf_path)\n",
    "pdf_documents=pdf_loader.load()\n",
    "splitter=RecursiveCharacterTextSplitter(chunk_size=500, chunk_overlap=50)\n",
    "pdf_splitted=splitter.split_documents(pdf_documents)\n",
    "\n",
    "embeddings=OpenAIEmbeddings(model=\"text-embedding-3-small\",dimensions=1024)\n",
    "chromadatabase=Chroma.from_documents(pdf_splitted,embeddings)\n",
    "chromdb_retrieved_docs=chromadatabase.as_retriever(search_kwargs={\"k\": 3})\n",
    "retriver_tool=create_retriever_tool(chromdb_retrieved_docs,\"Rental_Car_Retriever\", \"Rental car information to be pulled from this document\")"
   ]
  },
  {
   "cell_type": "code",
   "execution_count": 30,
   "metadata": {},
   "outputs": [],
   "source": [
    "@tool\n",
    "def calculator(first_num: float, second_num: float, operation: str) -> dict:\n",
    "    \"\"\"\n",
    "    Perform a basic arithmetic operations on the two numbers.\n",
    "    Supported operations: add, sub, mul, div\n",
    "    \"\"\"\n",
    "\n",
    "    try: \n",
    "        if operation==\"add\":\n",
    "            result=first_num+second_num\n",
    "        elif operation==\"sub\":\n",
    "            result=first_num-second_num\n",
    "        elif operation==\"mul\":\n",
    "            result=first_num*second_num\n",
    "        elif operation==\"div\":\n",
    "            result=first_num/second_num\n",
    "        else:\n",
    "            return {\"error\":f\"Unsupported operation {operation}\"}\n",
    "        \n",
    "        return {\"first_num\":first_num,\"second_num\":second_num,\"operation\": operation, \"result\":result}\n",
    "    except Exception as e:\n",
    "        return {\"error\":str(e)}\n",
    "        "
   ]
  },
  {
   "cell_type": "code",
   "execution_count": 31,
   "metadata": {},
   "outputs": [],
   "source": [
    "@tool\n",
    "def string_manipulation(string_value: str, task: str, splitter: str) -> dict:\n",
    "    \"\"\"\n",
    "    Your task is to perform string manipulation based on user input.\n",
    "    Task can include - upper, lower, split of strings provided by the user.\n",
    "    splitter can be of type - (/ , .)\n",
    "    \"\"\"\n",
    "\n",
    "    try: \n",
    "        if task==\"upper\":\n",
    "            result=string_value.upper()\n",
    "        elif task==\"lower\":\n",
    "            result=string_value.upper()\n",
    "        elif task==\"split\":\n",
    "            if splitter==\"/\":\n",
    "                result=string_value.split('/') \n",
    "            elif splitter==\",\":\n",
    "                result=string_value.split(',')\n",
    "            elif splitter==\".\":\n",
    "                result=string_value.split('.')\n",
    "            else:\n",
    "                return {\"error\":f\"Unsupported splitter {splitter}\"}\n",
    "                \n",
    "        else:\n",
    "            return {\"error\":f\"Unsupported task {task}\"}\n",
    "        \n",
    "        return {\"string_value\":string_value,\"task\":task,\"splitter\": splitter, \"result\":result}\n",
    "    except Exception as e:\n",
    "        return {\"error\":str(e)}"
   ]
  },
  {
   "cell_type": "code",
   "execution_count": 32,
   "metadata": {},
   "outputs": [],
   "source": [
    "tools = [searchtool,string_manipulation,calculator, retriver_tool]\n",
    "\n",
    "llm_with_tools= gpt_llm.bind_tools(tools)"
   ]
  },
  {
   "cell_type": "code",
   "execution_count": 45,
   "metadata": {},
   "outputs": [],
   "source": [
    "def chat_node(state:ToolCaller)-> ToolCaller:\n",
    "    \"\"\"LLM node that may answer or request a tool call\"\"\"\n",
    "    \n",
    "    prompt=f\"You are an AI assistant who makes different tool calls and provide answers to the users based on user query: {state['messages']}\"\n",
    "\n",
    "    result=llm_with_tools.invoke(prompt)\n",
    "    return {\"messages\":[result]}\n",
    "\n",
    "tool_node= ToolNode(tools)"
   ]
  },
  {
   "cell_type": "code",
   "execution_count": 34,
   "metadata": {},
   "outputs": [
    {
     "data": {
      "text/plain": [
       "<langgraph.graph.state.StateGraph at 0x16224b110>"
      ]
     },
     "execution_count": 34,
     "metadata": {},
     "output_type": "execute_result"
    }
   ],
   "source": [
    "graph=StateGraph(ToolCaller)\n",
    "graph.add_node(\"chat_node\",chat_node)\n",
    "graph.add_node(\"tools\",tool_node)\n",
    "\n",
    "graph.add_edge(START,\"chat_node\")\n",
    "graph.add_conditional_edges(\"chat_node\",tools_condition)\n",
    "graph.add_edge(\"tools\",\"chat_node\")\n",
    "\n"
   ]
  },
  {
   "cell_type": "code",
   "execution_count": 35,
   "metadata": {},
   "outputs": [
    {
     "data": {
      "image/png": "[encoded data removed]",
      "text/plain": [
       "<IPython.core.display.Image object>"
      ]
     },
     "metadata": {},
     "output_type": "display_data"
    }
   ],
   "source": [
    "workflow=graph.compile()\n",
    "\n",
    "display(Image(workflow.get_graph().draw_mermaid_png()))"
   ]
  },
  {
   "cell_type": "code",
   "execution_count": 36,
   "metadata": {},
   "outputs": [
    {
     "data": {
      "text/plain": [
       "{'messages': [HumanMessage(content='What is cricket?', additional_kwargs={}, response_metadata={}, id='aeba1806-d0ee-438c-abdf-628b54380c7b'),\n",
       "  AIMessage(content='Cricket is a bat-and-ball game played between two teams, typically consisting of 11 players each. It is one of the most popular sports in the world, particularly in countries such as India, Australia, England, Pakistan, and South Africa. \\n\\n### Basic Rules and Structure:\\n1. **Objective**: The main objective of cricket is for one team to score runs while the other team tries to restrict the runs and dismiss the players.\\n  \\n2. **Playing Field**: The game is played on a circular or oval-shaped field with a 22-yard long rectangular pitch at the center. \\n\\n3. **Innings**: Each team gets a chance to bat and bowl (or field), and this is referred to as an \"innings.\" The number of innings varies in different formats of the game.\\n\\n4. **Scoring Runs**: Runs are scored in various ways, primarily by hitting the ball and running between the wickets or by hitting boundaries (4 runs if the ball reaches the boundary on the ground, and 6 runs if it crosses the boundary in the air without touching the ground).\\n\\n5. **Wickets and Dismissals**: The batting team aims to protect their wickets while scoring runs. A player can be dismissed (out) in several ways, including being bowled, caught, leg before wicket (LBW), and run out.\\n\\n### Formats of the Game:\\nCricket is played in several formats, the major ones being:\\n- **Test Cricket**: Played over five days with each team batting twice. \\n- **One-Day Internationals (ODIs)**: Each team bats for a set number of overs (usually 50).\\n- **Twenty20 (T20)**: A shorter format where each team bats for 20 overs.\\n\\n### Equipment:\\n- **Bat**: A flat wooden bat used by the batsman to hit the ball.\\n- **Ball**: A hard leather ball with a cork core.\\n- **Wickets**: Consist of three stumps and two bails at each end of the pitch.\\n\\n### Popularity:\\nCricket has a massive following, with events like the ICC Cricket World Cup and T20 World Cup drawing large audiences both in stadiums and through broadcasts around the world. \\n\\nOverall, cricket is not just a sport but a significant cultural phenomenon in many countries, often seen as a way of life for its fans and players.', additional_kwargs={'refusal': None}, response_metadata={'token_usage': {'completion_tokens': 487, 'prompt_tokens': 221, 'total_tokens': 708, 'completion_tokens_details': {'accepted_prediction_tokens': 0, 'audio_tokens': 0, 'reasoning_tokens': 0, 'rejected_prediction_tokens': 0}, 'prompt_tokens_details': {'audio_tokens': 0, 'cached_tokens': 0}}, 'model_name': 'gpt-4o-mini-2024-07-18', 'system_fingerprint': 'fp_560af6e559', 'id': 'chatcmpl-CQohvBnLkzPH0fPTdaNbwfCktDOkv', 'service_tier': 'default', 'finish_reason': 'stop', 'logprobs': None}, id='run--fa652d25-45bf-4620-b833-1ac028f808a4-0', usage_metadata={'input_tokens': 221, 'output_tokens': 487, 'total_tokens': 708, 'input_token_details': {'audio': 0, 'cache_read': 0}, 'output_token_details': {'audio': 0, 'reasoning': 0}})]}"
      ]
     },
     "execution_count": 36,
     "metadata": {},
     "output_type": "execute_result"
    }
   ],
   "source": [
    "workflow.invoke({\"messages\":\"What is cricket?\"})"
   ]
  },
  {
   "cell_type": "code",
   "execution_count": 37,
   "metadata": {},
   "outputs": [
    {
     "data": {
      "text/plain": [
       "{'messages': [HumanMessage(content=\"help me doing the upper case for the text 'hello' \", additional_kwargs={}, response_metadata={}, id='b3159b83-2835-45aa-8ba6-21c9cd4e3a72'),\n",
       "  AIMessage(content='', additional_kwargs={'tool_calls': [{'id': 'call_dXCQniElm3W2Jc7iAJWj59A0', 'function': {'arguments': '{\"string_value\":\"hello\",\"task\":\"upper\",\"splitter\":\"\"}', 'name': 'string_manipulation'}, 'type': 'function'}], 'refusal': None}, response_metadata={'token_usage': {'completion_tokens': 26, 'prompt_tokens': 230, 'total_tokens': 256, 'completion_tokens_details': {'accepted_prediction_tokens': 0, 'audio_tokens': 0, 'reasoning_tokens': 0, 'rejected_prediction_tokens': 0}, 'prompt_tokens_details': {'audio_tokens': 0, 'cached_tokens': 0}}, 'model_name': 'gpt-4o-mini-2024-07-18', 'system_fingerprint': 'fp_560af6e559', 'id': 'chatcmpl-CQoi5Jj1hNlpksjIQb6d3MNYnFaaj', 'service_tier': 'default', 'finish_reason': 'tool_calls', 'logprobs': None}, id='run--04d62b7f-2d76-4272-8f1a-1040f9e44672-0', tool_calls=[{'name': 'string_manipulation', 'args': {'string_value': 'hello', 'task': 'upper', 'splitter': ''}, 'id': 'call_dXCQniElm3W2Jc7iAJWj59A0', 'type': 'tool_call'}], usage_metadata={'input_tokens': 230, 'output_tokens': 26, 'total_tokens': 256, 'input_token_details': {'audio': 0, 'cache_read': 0}, 'output_token_details': {'audio': 0, 'reasoning': 0}}),\n",
       "  ToolMessage(content='{\"string_value\": \"hello\", \"task\": \"upper\", \"splitter\": \"\", \"result\": \"HELLO\"}', name='string_manipulation', id='413537b2-16ea-4ef2-8b7e-f64f0f253607', tool_call_id='call_dXCQniElm3W2Jc7iAJWj59A0'),\n",
       "  AIMessage(content=\"The uppercase version of the text 'hello' is 'HELLO'.\", additional_kwargs={'refusal': None}, response_metadata={'token_usage': {'completion_tokens': 15, 'prompt_tokens': 291, 'total_tokens': 306, 'completion_tokens_details': {'accepted_prediction_tokens': 0, 'audio_tokens': 0, 'reasoning_tokens': 0, 'rejected_prediction_tokens': 0}, 'prompt_tokens_details': {'audio_tokens': 0, 'cached_tokens': 0}}, 'model_name': 'gpt-4o-mini-2024-07-18', 'system_fingerprint': 'fp_560af6e559', 'id': 'chatcmpl-CQoi6QELOhp9CBHW5XgXkszf0Dqp4', 'service_tier': 'default', 'finish_reason': 'stop', 'logprobs': None}, id='run--864f3e24-19d3-434d-9501-f960059c0c5c-0', usage_metadata={'input_tokens': 291, 'output_tokens': 15, 'total_tokens': 306, 'input_token_details': {'audio': 0, 'cache_read': 0}, 'output_token_details': {'audio': 0, 'reasoning': 0}})]}"
      ]
     },
     "execution_count": 37,
     "metadata": {},
     "output_type": "execute_result"
    }
   ],
   "source": [
    "workflow.invoke({\"messages\":\"help me doing the upper case for the text 'hello' \"})"
   ]
  },
  {
   "cell_type": "code",
   "execution_count": 38,
   "metadata": {},
   "outputs": [
    {
     "data": {
      "text/plain": [
       "{'messages': [HumanMessage(content=\"How do I split the text? 'India/Gaurav/Singapore' \", additional_kwargs={}, response_metadata={}, id='6bbd1475-3ef0-4168-8c19-82a441d92875'),\n",
       "  AIMessage(content='', additional_kwargs={'tool_calls': [{'id': 'call_W71FSCiS1LCrDHiHyRAwx4N9', 'function': {'arguments': '{\"string_value\":\"India/Gaurav/Singapore\",\"task\":\"split\",\"splitter\":\"/\"}', 'name': 'string_manipulation'}, 'type': 'function'}], 'refusal': None}, response_metadata={'token_usage': {'completion_tokens': 32, 'prompt_tokens': 234, 'total_tokens': 266, 'completion_tokens_details': {'accepted_prediction_tokens': 0, 'audio_tokens': 0, 'reasoning_tokens': 0, 'rejected_prediction_tokens': 0}, 'prompt_tokens_details': {'audio_tokens': 0, 'cached_tokens': 0}}, 'model_name': 'gpt-4o-mini-2024-07-18', 'system_fingerprint': 'fp_560af6e559', 'id': 'chatcmpl-CQoibioxmgb7GBGe96nXGBjPOLVLi', 'service_tier': 'default', 'finish_reason': 'tool_calls', 'logprobs': None}, id='run--aa42cfe1-7201-4fd2-9efd-af3b80249192-0', tool_calls=[{'name': 'string_manipulation', 'args': {'string_value': 'India/Gaurav/Singapore', 'task': 'split', 'splitter': '/'}, 'id': 'call_W71FSCiS1LCrDHiHyRAwx4N9', 'type': 'tool_call'}], usage_metadata={'input_tokens': 234, 'output_tokens': 32, 'total_tokens': 266, 'input_token_details': {'audio': 0, 'cache_read': 0}, 'output_token_details': {'audio': 0, 'reasoning': 0}}),\n",
       "  ToolMessage(content='{\"string_value\": \"India/Gaurav/Singapore\", \"task\": \"split\", \"splitter\": \"/\", \"result\": [\"India\", \"Gaurav\", \"Singapore\"]}', name='string_manipulation', id='ead0ce45-6f75-485c-b1da-1a30d9a72ca1', tool_call_id='call_W71FSCiS1LCrDHiHyRAwx4N9'),\n",
       "  AIMessage(content='The text \\'India/Gaurav/Singapore\\' can be split into the following parts: **[\"India\", \"Gaurav\", \"Singapore\"]**.', additional_kwargs={'refusal': None}, response_metadata={'token_usage': {'completion_tokens': 34, 'prompt_tokens': 315, 'total_tokens': 349, 'completion_tokens_details': {'accepted_prediction_tokens': 0, 'audio_tokens': 0, 'reasoning_tokens': 0, 'rejected_prediction_tokens': 0}, 'prompt_tokens_details': {'audio_tokens': 0, 'cached_tokens': 0}}, 'model_name': 'gpt-4o-mini-2024-07-18', 'system_fingerprint': 'fp_560af6e559', 'id': 'chatcmpl-CQoida7TikyqyhhgGKmgs9ytF4DlO', 'service_tier': 'default', 'finish_reason': 'stop', 'logprobs': None}, id='run--e897cd8b-6533-400a-bcdd-d22624ee4efd-0', usage_metadata={'input_tokens': 315, 'output_tokens': 34, 'total_tokens': 349, 'input_token_details': {'audio': 0, 'cache_read': 0}, 'output_token_details': {'audio': 0, 'reasoning': 0}})]}"
      ]
     },
     "execution_count": 38,
     "metadata": {},
     "output_type": "execute_result"
    }
   ],
   "source": [
    "workflow.invoke({\"messages\":\"How do I split the text? 'India/Gaurav/Singapore' \"})"
   ]
  },
  {
   "cell_type": "code",
   "execution_count": 39,
   "metadata": {},
   "outputs": [
    {
     "data": {
      "text/plain": [
       "{'messages': [HumanMessage(content='what is the stock price of tesla?', additional_kwargs={}, response_metadata={}, id='9f93ac65-cbf3-4d06-b9ad-bf7ba2f5e00e'),\n",
       "  AIMessage(content='', additional_kwargs={'tool_calls': [{'id': 'call_KWiU4QdA2b87nBrw4t0xinIN', 'function': {'arguments': '{\"query\":\"current stock price of Tesla\"}', 'name': 'duckduckgo_search'}, 'type': 'function'}], 'refusal': None}, response_metadata={'token_usage': {'completion_tokens': 21, 'prompt_tokens': 226, 'total_tokens': 247, 'completion_tokens_details': {'accepted_prediction_tokens': 0, 'audio_tokens': 0, 'reasoning_tokens': 0, 'rejected_prediction_tokens': 0}, 'prompt_tokens_details': {'audio_tokens': 0, 'cached_tokens': 0}}, 'model_name': 'gpt-4o-mini-2024-07-18', 'system_fingerprint': 'fp_560af6e559', 'id': 'chatcmpl-CQoigtwWI6YczxaGZlhWb9Ny2X5Om', 'service_tier': 'default', 'finish_reason': 'tool_calls', 'logprobs': None}, id='run--2a3b1c6a-daaf-4c4b-8842-7ed593940a1f-0', tool_calls=[{'name': 'duckduckgo_search', 'args': {'query': 'current stock price of Tesla'}, 'id': 'call_KWiU4QdA2b87nBrw4t0xinIN', 'type': 'tool_call'}], usage_metadata={'input_tokens': 226, 'output_tokens': 21, 'total_tokens': 247, 'input_token_details': {'audio': 0, 'cache_read': 0}, 'output_token_details': {'audio': 0, 'reasoning': 0}}),\n",
       "  ToolMessage(content='Access Singapore stock markets and global stock markets via CFD. Capital at risk. Trade CFDs with Plus500 on Shares, Indices, Options and more. 24/7 Support 1 minute bar data for Stocks and Futures back to 2007. 1,5,10,15,30&60 min bars. Equities, Futures & FOREX. Global markets. 2 days ago · TSLA | Complete Tesla Inc. stock news by MarketWatch. View real-time stock prices and stock quotes for a full financial overview. Find the latest Tesla , Inc. (TSLA) stock quote , history, news and other vital information to help you with your stock trading and investing. Get the latest Tesla Inc (TSLA) real-time quote, historical performance, charts, and other financial information to help you make more informed trading and investment decisions.', name='duckduckgo_search', id='e2a49c4c-5369-4212-9e96-bc1a8c9d9a11', tool_call_id='call_KWiU4QdA2b87nBrw4t0xinIN'),\n",
       "  AIMessage(content=\"I couldn't retrieve the current stock price for Tesla (TSLA). You can check financial news websites or stock market platforms for real-time updates.\", additional_kwargs={'refusal': None}, response_metadata={'token_usage': {'completion_tokens': 29, 'prompt_tokens': 429, 'total_tokens': 458, 'completion_tokens_details': {'accepted_prediction_tokens': 0, 'audio_tokens': 0, 'reasoning_tokens': 0, 'rejected_prediction_tokens': 0}, 'prompt_tokens_details': {'audio_tokens': 0, 'cached_tokens': 0}}, 'model_name': 'gpt-4o-mini-2024-07-18', 'system_fingerprint': 'fp_560af6e559', 'id': 'chatcmpl-CQoiifu83eLLlsd3oXeJ1fmusE3ro', 'service_tier': 'default', 'finish_reason': 'stop', 'logprobs': None}, id='run--90eb419e-dec0-4076-b152-caa284dbfc23-0', usage_metadata={'input_tokens': 429, 'output_tokens': 29, 'total_tokens': 458, 'input_token_details': {'audio': 0, 'cache_read': 0}, 'output_token_details': {'audio': 0, 'reasoning': 0}})]}"
      ]
     },
     "execution_count": 39,
     "metadata": {},
     "output_type": "execute_result"
    }
   ],
   "source": [
    "workflow.invoke({\"messages\":\"what is the stock price of tesla?\"})"
   ]
  },
  {
   "cell_type": "code",
   "execution_count": null,
   "metadata": {},
   "outputs": [
    {
     "name": "stdout",
     "output_type": "stream",
     "text": [
      "Question: what is the deposit amount for car rental?\n",
      "Answer: The estimated deposit amount for car rental is 500.00 NZD. This security deposit will be blocked on the driver's credit card upon collection of the car.\n",
      "====================================================================================================\n",
      "Question: What is cricket?\n",
      "Answer: Cricket is a bat-and-ball game played between two teams, typically consisting of 11 players each. It is popular in many countries, particularly in England, Australia, India, Pakistan, South Africa, and the Caribbean. Here's a brief overview of the game:\n",
      "\n",
      "### Objective\n",
      "The main objective in cricket is to score runs by hitting the ball and running between a set of wickets while trying to prevent the opposing team from getting them out.\n",
      "\n",
      "### Equipment\n",
      "- **Bat**: A flat, elongated piece of wood used to hit the ball.\n",
      "- **Ball**: A hard, leather ball used in gameplay.\n",
      "- **Wickets**: Each team has a set of three wooden stumps (wickets) at both ends of a rectangular pitch.\n",
      "\n",
      "### Format\n",
      "Cricket can be played in different formats, including:\n",
      "- **Test Cricket**: Played over five days with each team batting twice.\n",
      "- **One-Day Internationals (ODIs)**: Each team bats for a fixed number of overs, usually 50.\n",
      "- **Twenty20 (T20)**: Each team bats for a maximum of 20 overs, making it a shorter and more fast-paced format.\n",
      "\n",
      "### Basic Rules\n",
      "1. **Innings**: Each team has turns to bat and bowl. The batting team tries to score runs, whereas the bowling team aims to dismiss the batsmen.\n",
      "2. **Runs**: Runs can be scored by hitting the ball and running between the wickets or by hitting the ball to the boundary (4 runs if it touches the ground before reaching the boundary, 6 runs if it crosses the boundary in the air).\n",
      "3. **Dismissals**: A batsman can be dismissed in several ways, including being bowled, caught, run out, or leg before wicket (LBW).\n",
      "\n",
      "### Governing Body\n",
      "The International Cricket Council (ICC) is the global governing body for cricket, overseeing international matches and tournaments.\n",
      "\n",
      "Cricket is not just a sport but a significant part of the culture in many countries, often accompanied by fervent fan support and traditions.\n",
      "====================================================================================================\n",
      "Question: help me doing the upper case for the text 'hello' \n",
      "Answer: The upper case of the text 'hello' is 'HELLO'.\n",
      "====================================================================================================\n",
      "Question: How do I split the text? 'India/Gaurav/Singapore' \n",
      "Answer: The text 'India/Gaurav/Singapore' can be split into the following parts: **['India', 'Gaurav', 'Singapore']**.\n",
      "====================================================================================================\n",
      "Question: what is the stock price of tesla?\n",
      "Answer: The current stock price of Tesla Inc (TSLA) is $442.93.\n",
      "====================================================================================================\n",
      "Question: what is 3-2?\n",
      "Answer: The result of 3 - 2 is 1.\n",
      "====================================================================================================\n"
     ]
    }
   ],
   "source": [
    "result=workflow.invoke({\"messages\":\"what is the deposit amount for car rental?\"})\n",
    "print(\"Question:\", result['messages'][0].content)\n",
    "print(\"Answer:\",result['messages'][-1].content)\n",
    "print(50*\"==\")\n",
    "\n",
    "result=workflow.invoke({\"messages\":\"What is cricket?\"})\n",
    "print(\"Question:\", result['messages'][0].content)\n",
    "print(\"Answer:\",result['messages'][-1].content)\n",
    "print(50*\"==\")\n",
    "\n",
    "result=workflow.invoke({\"messages\":\"help me doing the upper case for the text 'hello' \"})\n",
    "print(\"Question:\", result['messages'][0].content)\n",
    "print(\"Answer:\",result['messages'][-1].content)\n",
    "print(50*\"==\")\n",
    "\n",
    "result=workflow.invoke({\"messages\":\"How do I split the text? 'India/Gaurav/Singapore' \"})\n",
    "print(\"Question:\", result['messages'][0].content)\n",
    "print(\"Answer:\",result['messages'][-1].content)\n",
    "print(50*\"==\")\n",
    "\n",
    "result=workflow.invoke({\"messages\":\"what is the stock price of tesla?\"})\n",
    "print(\"Question:\", result['messages'][0].content)\n",
    "print(\"Answer:\",result['messages'][-1].content)\n",
    "print(50*\"==\")\n",
    "\n",
    "result=workflow.invoke({\"messages\":\"what is 3-2?\"})\n",
    "print(\"Question:\", result['messages'][0].content)\n",
    "print(\"Answer:\",result['messages'][-1].content)\n",
    "print(50*\"==\")"
   ]
  },
  {
   "cell_type": "code",
   "execution_count": 52,
   "metadata": {},
   "outputs": [
    {
     "name": "stdout",
     "output_type": "stream",
     "text": [
      "Question: what is quantum physics??\n",
      "Answer: Quantum physics, or quantum mechanics, is a fundamental theory in physics that describes the physical properties of nature at the scale of atoms and subatomic particles. It fundamentally differs from classical physics in several ways:\n",
      "\n",
      "1. **Wave-Particle Duality**: Quantum objects (such as electrons and photons) exhibit both particle-like and wave-like behavior. This means they can behave like discrete particles in some experiments and like waves in others.\n",
      "\n",
      "2. **Quantization**: Energy, momentum, and other quantities are quantized, meaning they can only take on discrete values rather than a continuous range. For example, electrons in an atom can only exist in specific energy levels.\n",
      "\n",
      "3. **Uncertainty Principle**: Formulated by Werner Heisenberg, this principle states that certain pairs of physical properties (like position and momentum) cannot be simultaneously measured with arbitrary precision. The more precisely one property is measured, the less precisely the other can be controlled or known.\n",
      "\n",
      "4. **Superposition**: Quantum systems can exist in multiple states at once until measured. This concept is famously illustrated by Schrödinger's cat thought experiment, where a cat is simultaneously alive and dead until observed.\n",
      "\n",
      "5. **Entanglement**: Quantum entanglement occurs when particles become interconnected in such a way that the state of one particle instantaneously affects the state of another, no matter the distance between them. This phenomenon has been experimentally verified and challenges classical intuitions about locality and information transfer.\n",
      "\n",
      "Quantum physics underlies the behavior of atoms and molecules, leading to the development of applications such as semiconductors, lasers, and quantum computing. It represents a significant departure from classical physics and has profound implications for our understanding of the universe.\n"
     ]
    },
    {
     "data": {
      "text/markdown": [
       "Quantum physics, or quantum mechanics, is a fundamental theory in physics that describes the physical properties of nature at the scale of atoms and subatomic particles. It fundamentally differs from classical physics in several ways:\n",
       "\n",
       "1. **Wave-Particle Duality**: Quantum objects (such as electrons and photons) exhibit both particle-like and wave-like behavior. This means they can behave like discrete particles in some experiments and like waves in others.\n",
       "\n",
       "2. **Quantization**: Energy, momentum, and other quantities are quantized, meaning they can only take on discrete values rather than a continuous range. For example, electrons in an atom can only exist in specific energy levels.\n",
       "\n",
       "3. **Uncertainty Principle**: Formulated by Werner Heisenberg, this principle states that certain pairs of physical properties (like position and momentum) cannot be simultaneously measured with arbitrary precision. The more precisely one property is measured, the less precisely the other can be controlled or known.\n",
       "\n",
       "4. **Superposition**: Quantum systems can exist in multiple states at once until measured. This concept is famously illustrated by Schrödinger's cat thought experiment, where a cat is simultaneously alive and dead until observed.\n",
       "\n",
       "5. **Entanglement**: Quantum entanglement occurs when particles become interconnected in such a way that the state of one particle instantaneously affects the state of another, no matter the distance between them. This phenomenon has been experimentally verified and challenges classical intuitions about locality and information transfer.\n",
       "\n",
       "Quantum physics underlies the behavior of atoms and molecules, leading to the development of applications such as semiconductors, lasers, and quantum computing. It represents a significant departure from classical physics and has profound implications for our understanding of the universe."
      ],
      "text/plain": [
       "<IPython.core.display.Markdown object>"
      ]
     },
     "execution_count": 52,
     "metadata": {},
     "output_type": "execute_result"
    }
   ],
   "source": [
    "result=workflow.invoke({\"messages\":\"what is quantum physics??\"})\n",
    "print(\"Question:\", result['messages'][0].content)\n",
    "print(\"Answer:\",result['messages'][-1].content)\n",
    "Markdown(result['messages'][-1].content)"
   ]
  }
 ],
 "metadata": {
  "kernelspec": {
   "display_name": "ai_practice",
   "language": "python",
   "name": "python3"
  },
  "language_info": {
   "codemirror_mode": {
    "name": "ipython",
    "version": 3
   },
   "file_extension": ".py",
   "mimetype": "text/x-python",
   "name": "python",
   "nbconvert_exporter": "python",
   "pygments_lexer": "ipython3",
   "version": "3.13.7"
  }
 },
 "nbformat": 4,
 "nbformat_minor": 2
}
