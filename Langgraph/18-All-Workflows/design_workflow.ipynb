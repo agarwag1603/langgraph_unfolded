{
 "cells": [
  {
   "cell_type": "code",
   "execution_count": 120,
   "metadata": {},
   "outputs": [
    {
     "data": {
      "text/plain": [
       "True"
      ]
     },
     "execution_count": 120,
     "metadata": {},
     "output_type": "execute_result"
    }
   ],
   "source": [
    "from langchain_openai import ChatOpenAI\n",
    "from dotenv import load_dotenv\n",
    "from langchain_core.output_parsers import StrOutputParser\n",
    "from langgraph.graph.state import StateGraph, START, END\n",
    "from pydantic import BaseModel, Field\n",
    "from typing import TypedDict, Literal\n",
    "from langchain_core.prompts import ChatPromptTemplate\n",
    "from IPython.display import Image, display,Markdown\n",
    "\n",
    "load_dotenv()"
   ]
  },
  {
   "cell_type": "code",
   "execution_count": 121,
   "metadata": {},
   "outputs": [],
   "source": [
    "gpt_llm= ChatOpenAI(model= \"gpt-4o-mini\")"
   ]
  },
  {
   "cell_type": "code",
   "execution_count": 122,
   "metadata": {},
   "outputs": [],
   "source": [
    "class Classifier(BaseModel):\n",
    "    workflow_type: Literal[\"GenAI\",\"Machine Learning\",None] = Field(description=\"This field is a classfier of a question based on Generative AI or machine learning\")\n"
   ]
  },
  {
   "cell_type": "code",
   "execution_count": 123,
   "metadata": {},
   "outputs": [],
   "source": [
    "structured_output = gpt_llm.with_structured_output(Classifier)"
   ]
  },
  {
   "cell_type": "code",
   "execution_count": 124,
   "metadata": {},
   "outputs": [],
   "source": [
    "class State(TypedDict):\n",
    "    topic: str\n",
    "    workflow_type: str\n",
    "    general_output: str\n",
    "    sequential_output: str\n",
    "    sequence_summary_output: str\n",
    "    parallel_blog_output: str\n",
    "    parallel_bullets_output: str\n",
    "    combine_parallel_output: str\n",
    "    "
   ]
  },
  {
   "cell_type": "code",
   "execution_count": 125,
   "metadata": {},
   "outputs": [],
   "source": [
    "def classifier_agent(state:State) -> State:\n",
    "    prompt_template = ChatPromptTemplate.from_messages(\n",
    "        [\n",
    "            (\"system\",\"You are a classifier assistant which classifies the user questions based on GenAI and machine learning.\"),\n",
    "            (\"human\",f\"please help in classifying the question from the user: {state['topic']}\")\n",
    "        ]\n",
    "    )\n",
    "\n",
    "    chain =  prompt_template | structured_output \n",
    "\n",
    "    response = chain.invoke({\"topic\":state['topic']})\n",
    "\n",
    "    return {\"workflow_type\":response.workflow_type}\n",
    "    "
   ]
  },
  {
   "cell_type": "code",
   "execution_count": 126,
   "metadata": {},
   "outputs": [],
   "source": [
    "def classifier_condition(state:State) -> Literal[\"genai_agent\",\"machine_learning_agent\",\"general_responder\"]:\n",
    "    if state[\"workflow_type\"]==\"GenAI\":\n",
    "        return \"genai_agent\"\n",
    "    elif state[\"workflow_type\"]==\"Machine Learning\":\n",
    "        return \"machine_learning_agent\"\n",
    "    else:\n",
    "        return \"general_responder\""
   ]
  },
  {
   "cell_type": "code",
   "execution_count": 127,
   "metadata": {},
   "outputs": [],
   "source": [
    "def genai_agent(state:State)-> State:\n",
    "    prompt_template = ChatPromptTemplate.from_messages(\n",
    "        [\n",
    "            (\"system\",\"You are an LLM which generates 3 paragraph for the topic given by the user.\"),\n",
    "            (\"human\",f\"Please help in generating 3 paragraph for the topic: {state['topic']}\")\n",
    "        ]\n",
    "    )\n",
    "\n",
    "    chain =  prompt_template | gpt_llm | StrOutputParser() \n",
    "\n",
    "    response = chain.invoke({\"topic\":state['topic']})\n",
    "\n",
    "    return {\"sequential_output\":response}"
   ]
  },
  {
   "cell_type": "code",
   "execution_count": 128,
   "metadata": {},
   "outputs": [],
   "source": [
    "def genai_agent_summarizer(state:State)-> State:\n",
    "    prompt_template = ChatPromptTemplate.from_messages(\n",
    "        [\n",
    "            (\"system\",\"You are an LLM generator which helps in summarizing the output.\"),\n",
    "            (\"human\",f\"Please help in generating summary for the output: {state['sequential_output']}\")\n",
    "        ]\n",
    "    )\n",
    "\n",
    "    chain =  prompt_template | gpt_llm | StrOutputParser() \n",
    "\n",
    "    response = chain.invoke({\"sequential_output\":state['sequential_output']})\n",
    "\n",
    "    return {\"sequence_summary_output\":response}"
   ]
  },
  {
   "cell_type": "code",
   "execution_count": 129,
   "metadata": {},
   "outputs": [],
   "source": [
    "def machine_learning_agent(state:State)-> State:\n",
    "\n",
    "    return {\"topic\":state['topic']}"
   ]
  },
  {
   "cell_type": "code",
   "execution_count": 130,
   "metadata": {},
   "outputs": [],
   "source": [
    "def machine_learning_agent_blog(state:State)-> State:\n",
    "    prompt_template = ChatPromptTemplate.from_messages(\n",
    "        [\n",
    "            (\"system\",\"You are an LLM which generates 5 lines blogs for the topic given by the user.\"),\n",
    "            (\"human\",f\"Please help in generating 5 lines blogs for the topic: {state['topic']}\")\n",
    "        ]\n",
    "    )\n",
    "\n",
    "    chain =  prompt_template | gpt_llm | StrOutputParser() \n",
    "\n",
    "    response = chain.invoke({\"topic\":state['topic']})\n",
    "\n",
    "    return {\"parallel_blog_output\":response}"
   ]
  },
  {
   "cell_type": "code",
   "execution_count": 131,
   "metadata": {},
   "outputs": [],
   "source": [
    "def machine_learning_agent_bullets(state:State)-> State:\n",
    "    prompt_template = ChatPromptTemplate.from_messages(\n",
    "        [\n",
    "            (\"system\",\"You are an agent that writes 5 bullet facts about the user topic\"),\n",
    "            (\"human\",f\"Please help in generating 5 bullet facts about the topic: {state['topic']}\")\n",
    "        ]\n",
    "    )\n",
    "\n",
    "    chain =  prompt_template | gpt_llm | StrOutputParser() \n",
    "\n",
    "    response = chain.invoke({\"topic\":state['topic']})\n",
    "\n",
    "    return {\"parallel_bullets_output\":response}"
   ]
  },
  {
   "cell_type": "code",
   "execution_count": 132,
   "metadata": {},
   "outputs": [],
   "source": [
    "def machine_learning_agent_combinator(state:State)-> State:\n",
    "    prompt_template = ChatPromptTemplate.from_messages(\n",
    "        [\n",
    "            (\"system\",\"You are an agent that helps combining both the blogs and bullet points.\"),\n",
    "            (\"human\",f\"Please help in combining blogs: \\n \\n {state[\"parallel_blog_output\"]} and bullet facts: \\n\\n {state[\"parallel_bullets_output\"]}\")\n",
    "        ]\n",
    "    )\n",
    "\n",
    "    chain =  prompt_template | gpt_llm | StrOutputParser()  \n",
    "\n",
    "    response = chain.invoke({\"parallel_blog_output\":state[\"parallel_blog_output\"], \"parallel_bullets_output\":state[\"parallel_bullets_output\"]})\n",
    "\n",
    "    return {\"combine_parallel_output\":response}"
   ]
  },
  {
   "cell_type": "code",
   "execution_count": 133,
   "metadata": {},
   "outputs": [],
   "source": [
    "def general_responder(state:State)-> State:\n",
    "    prompt_template = ChatPromptTemplate.from_messages(\n",
    "        [\n",
    "            (\"system\",\"You are an AI assistant who helps answering user questions.\"),\n",
    "            (\"human\",f\"Please help answering the user question: \\n \\n {state[\"topic\"]}\")\n",
    "        ]\n",
    "    )\n",
    "\n",
    "    chain =  prompt_template | gpt_llm | StrOutputParser()  \n",
    "\n",
    "    response = chain.invoke({\"topic\":state[\"topic\"]})\n",
    "\n",
    "    return {\"general_output\":response}"
   ]
  },
  {
   "cell_type": "code",
   "execution_count": 134,
   "metadata": {},
   "outputs": [],
   "source": [
    "graph=StateGraph(State)\n",
    "\n",
    "graph.add_node(\"classifier_agent\",classifier_agent)\n",
    "graph.add_node(\"genai_agent\",genai_agent)\n",
    "graph.add_node(\"genai_agent_summarizer\",genai_agent_summarizer)\n",
    "graph.add_node(\"machine_learning_agent\",machine_learning_agent)\n",
    "graph.add_node(\"machine_learning_agent_blog\",machine_learning_agent_blog)\n",
    "graph.add_node(\"machine_learning_agent_bullets\",machine_learning_agent_bullets)\n",
    "graph.add_node(\"machine_learning_agent_combinator\",machine_learning_agent_combinator)\n",
    "graph.add_node(\"general_responder\",general_responder)\n",
    "\n",
    "\n",
    "graph.add_edge(START, \"classifier_agent\")\n",
    "graph.add_conditional_edges(\"classifier_agent\",classifier_condition)\n",
    "graph.add_edge(\"genai_agent\", \"genai_agent_summarizer\")\n",
    "graph.add_edge(\"genai_agent_summarizer\", END)\n",
    "graph.add_edge(\"machine_learning_agent\", \"machine_learning_agent_blog\")\n",
    "graph.add_edge(\"machine_learning_agent\", \"machine_learning_agent_bullets\")\n",
    "graph.add_edge(\"machine_learning_agent_bullets\", \"machine_learning_agent_combinator\")\n",
    "graph.add_edge(\"machine_learning_agent_blog\", \"machine_learning_agent_combinator\")\n",
    "graph.add_edge(\"machine_learning_agent_combinator\", END)\n",
    "graph.add_edge(\"general_responder\", END)\n",
    "\n",
    "\n",
    "workflow=graph.compile()"
   ]
  },
  {
   "cell_type": "code",
   "execution_count": 135,
   "metadata": {},
   "outputs": [
    {
     "data": {
      "image/png": "[encoded data removed]",
      "text/plain": [
       "<IPython.core.display.Image object>"
      ]
     },
     "metadata": {},
     "output_type": "display_data"
    }
   ],
   "source": [
    "display(Image(workflow.get_graph().draw_mermaid_png()))"
   ]
  },
  {
   "cell_type": "code",
   "execution_count": 136,
   "metadata": {},
   "outputs": [
    {
     "data": {
      "text/plain": [
       "{'topic': 'what is parallel chain in langgraph?',\n",
       " 'workflow_type': 'GenAI',\n",
       " 'sequential_output': \"In the context of LangGraph, a parallel chain is a structured approach to manage and organize the flow of information and tasks that occur simultaneously within a language processing framework. LangGraph, being a graph-based representation of language structures, leverages the concept of parallel chains to enhance the efficiency of processing complex tasks that require multiple operations to be executed concurrently. This is particularly important in natural language processing (NLP) applications where different components, such as parsing, semantic analysis, and machine translation, can be executed in parallel to improve overall performance and reduce latency.\\n\\nParallel chains in LangGraph function by enabling multiple nodes within the graph to operate independently yet cohesively, allowing for various tasks to progress without waiting for one another to complete. This parallelization not only speeds up the response time of language models but also increases the robustness of the system, as it can handle larger datasets and more intricate parsing requirements simultaneously. By effectively utilizing the graph's structural properties, parallel chains allow for a more dynamic and flexible approach to processing language, accommodating a wide range of applications from conversational agents to complex text analysis.\\n\\nFurthermore, the implementation of parallel chains in LangGraph facilitates a higher degree of modularity and scalability in language processing tasks. Developers can design systems that break down complex language tasks into smaller, manageable sub-tasks that can be executed in parallel. This modular approach not only simplifies the design and troubleshooting of language models but also allows for easier updates and enhancements to individual components without affecting the entire system. Overall, the parallel chain mechanism in LangGraph plays a crucial role in optimizing language processing workflows for better accuracy and efficiency.\",\n",
       " 'sequence_summary_output': 'The parallel chain in LangGraph is a structured method for managing simultaneous information and task flow within a language processing framework. By utilizing a graph-based representation, LangGraph enhances the efficiency of complex operations in natural language processing (NLP), allowing components like parsing and machine translation to function concurrently. This approach accelerates response times and increases system robustness by enabling independent yet cohesive operations among multiple nodes in the graph.\\n\\nParallel chains promote modularity and scalability, allowing developers to break down complex tasks into smaller, manageable sub-tasks that can be executed simultaneously. This modularity simplifies the design and troubleshooting of language models and allows for easier updates to individual components. Overall, the parallel chain mechanism significantly optimizes language processing workflows, leading to improved accuracy and efficiency.'}"
      ]
     },
     "execution_count": 136,
     "metadata": {},
     "output_type": "execute_result"
    }
   ],
   "source": [
    "workflow.invoke({\"topic\":\"what is parallel chain in langgraph?\"})"
   ]
  },
  {
   "cell_type": "code",
   "execution_count": 140,
   "metadata": {},
   "outputs": [
    {
     "data": {
      "text/plain": [
       "{'topic': 'what is sequencing in database?',\n",
       " 'workflow_type': None,\n",
       " 'general_output': 'Sequencing in database contexts typically refers to the process of generating a sequence of unique numbers or values, often used for primary keys in a database table. A sequence can be defined to automatically generate numerical values in a specific order. This is particularly useful for ensuring that each record in a table has a unique identifier.\\n\\nHere are some key points about sequencing in databases:\\n\\n1. **Unique Identifier**: Sequences ensure that each entry in a table can be uniquely identified, which is crucial for maintaining data integrity.\\n\\n2. **Automatic Generation**: Sequences can be automatically incremented, meaning that each time a new record is added, a new unique value is generated without the need for manual input.\\n\\n3. **Customization**: Many database management systems (DBMS) allow customization of sequences, such as setting the starting value, increment size, and whether they should cycle when reaching a maximum value.\\n\\n4. **Use Cases**: Sequences are commonly used in scenarios where multiple users or applications need to insert records concurrently, and you want to avoid conflicts or gaps in identifying values.\\n\\n5. **Implementation**: Different databases have their own implementations for sequences. For example, in PostgreSQL, you can create a sequence using `CREATE SEQUENCE`, while in Oracle, sequences are also a built-in feature.\\n\\nOverall, sequencing is a fundamental concept used to manage unique identifiers in relational databases effectively.'}"
      ]
     },
     "execution_count": 140,
     "metadata": {},
     "output_type": "execute_result"
    }
   ],
   "source": [
    "workflow.invoke({\"topic\":\"what is sequencing in database?\"})"
   ]
  },
  {
   "cell_type": "code",
   "execution_count": 138,
   "metadata": {},
   "outputs": [],
   "source": [
    "result=workflow.invoke({\"topic\":\"what is overfitting?\"})"
   ]
  },
  {
   "cell_type": "code",
   "execution_count": 139,
   "metadata": {},
   "outputs": [
    {
     "data": {
      "text/markdown": [
       "**Understanding Overfitting in Machine Learning**\n",
       "\n",
       "Overfitting is a prevalent challenge in the realm of machine learning, where a model learns not only the essential underlying patterns in the training data but also the noise within it. This leads to excessive complexity, resulting in a model that performs exceptionally well on the training set but poorly on unseen data. Consequently, the model struggles to generalize effectively, which can severely hinder its predictive capability.\n",
       "\n",
       "**Key Characteristics of Overfitting**:\n",
       "\n",
       "- **Definition**: Overfitting occurs when a model captures noise in the training data, leading to its failure when exposed to new data points.\n",
       "  \n",
       "- **Symptoms**: A significant symptom of overfitting is a pronounced disparity between training and validation performance. For instance, a model might demonstrate a very low error rate on the training data while exhibiting a considerably higher error rate on the test data.\n",
       "\n",
       "- **Complex Models**: The likelihood of overfitting increases with more complex models, particularly those having a large number of parameters compared to the number of observations. Such models can inadvertently craft highly specific rules that cater directly to the training data.\n",
       "\n",
       "**Strategies to Mitigate Overfitting**:\n",
       "\n",
       "To combat overfitting, several strategies can be employed:\n",
       "\n",
       "- **Prevention Techniques**: Techniques such as cross-validation, regularization (including L1 and L2), pruning, and incorporating dropout layers in neural networks are effective methods for reducing the risk of overfitting. Additionally, simplifying the model can enhance its ability to generalize.\n",
       "\n",
       "- **Evaluation Metrics**: Monitoring specific evaluation metrics, including validation loss, confusion matrix, and F1 score, can provide valuable insights into model performance. This vigilance helps identify when overfitting is occurring, allowing for timely interventions.\n",
       "\n",
       "In conclusion, striking a balance between model complexity and generalization is vital for developing robust predictive models. By understanding the signs of overfitting and implementing appropriate strategies, data scientists can create models that perform well on both seen and unseen data."
      ],
      "text/plain": [
       "<IPython.core.display.Markdown object>"
      ]
     },
     "execution_count": 139,
     "metadata": {},
     "output_type": "execute_result"
    }
   ],
   "source": [
    "Markdown(result[\"combine_parallel_output\"])"
   ]
  }
 ],
 "metadata": {
  "kernelspec": {
   "display_name": "ai_practice",
   "language": "python",
   "name": "python3"
  },
  "language_info": {
   "codemirror_mode": {
    "name": "ipython",
    "version": 3
   },
   "file_extension": ".py",
   "mimetype": "text/x-python",
   "name": "python",
   "nbconvert_exporter": "python",
   "pygments_lexer": "ipython3",
   "version": "3.13.7"
  }
 },
 "nbformat": 4,
 "nbformat_minor": 2
}
