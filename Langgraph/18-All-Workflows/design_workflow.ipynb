{
 "cells": [
  {
   "cell_type": "code",
   "execution_count": 88,
   "metadata": {},
   "outputs": [
    {
     "data": {
      "text/plain": [
       "True"
      ]
     },
     "execution_count": 88,
     "metadata": {},
     "output_type": "execute_result"
    }
   ],
   "source": [
    "from langchain_openai import ChatOpenAI\n",
    "from dotenv import load_dotenv\n",
    "from langchain_core.output_parsers import StrOutputParser\n",
    "from langgraph.graph.state import StateGraph, START, END\n",
    "from pydantic import BaseModel, Field\n",
    "from typing import TypedDict, Literal\n",
    "from langchain_core.prompts import ChatPromptTemplate\n",
    "from IPython.display import Image, display,Markdown\n",
    "\n",
    "load_dotenv()"
   ]
  },
  {
   "cell_type": "code",
   "execution_count": 89,
   "metadata": {},
   "outputs": [],
   "source": [
    "gpt_llm= ChatOpenAI(model= \"gpt-4o-mini\")"
   ]
  },
  {
   "cell_type": "code",
   "execution_count": 90,
   "metadata": {},
   "outputs": [],
   "source": [
    "class Classifier(BaseModel):\n",
    "    workflow_type: Literal[\"Sequence\",\"Parallel\"] = Field(description=\"This field is a classfier of a question based on sequential chain or parallel chain\")\n"
   ]
  },
  {
   "cell_type": "code",
   "execution_count": 91,
   "metadata": {},
   "outputs": [],
   "source": [
    "structured_output = gpt_llm.with_structured_output(Classifier)"
   ]
  },
  {
   "cell_type": "code",
   "execution_count": 113,
   "metadata": {},
   "outputs": [],
   "source": [
    "class State(TypedDict):\n",
    "    topic: str\n",
    "    workflow_type: str\n",
    "    sequential_output: str\n",
    "    sequence_summary_output: str\n",
    "    parallel_blog_output: str\n",
    "    parallel_bullets_output: str\n",
    "    combine_parallel_output: str\n",
    "    "
   ]
  },
  {
   "cell_type": "code",
   "execution_count": 93,
   "metadata": {},
   "outputs": [],
   "source": [
    "def classifier_agent(state:State) -> State:\n",
    "    prompt_template = ChatPromptTemplate.from_messages(\n",
    "        [\n",
    "            (\"system\",\"You are a classifier assistant which classifies the user questions based on parallel or sequence flow.\"),\n",
    "            (\"human\",f\"please help in classifying the question from the user: {state['topic']}\")\n",
    "        ]\n",
    "    )\n",
    "\n",
    "    chain =  prompt_template | structured_output \n",
    "\n",
    "    response = chain.invoke({\"topic\":state['topic']})\n",
    "\n",
    "    return {\"workflow_type\":response.workflow_type}\n",
    "    "
   ]
  },
  {
   "cell_type": "code",
   "execution_count": 94,
   "metadata": {},
   "outputs": [],
   "source": [
    "def classifier_condition(state:State) -> Literal[\"sequential_agent\",\"parallel_agent\"]:\n",
    "    if state[\"workflow_type\"]==\"Sequence\":\n",
    "        return \"sequential_agent\"\n",
    "    else:\n",
    "        return \"parallel_agent\""
   ]
  },
  {
   "cell_type": "code",
   "execution_count": null,
   "metadata": {},
   "outputs": [],
   "source": [
    "def sequential_agent(state:State)-> State:\n",
    "    prompt_template = ChatPromptTemplate.from_messages(\n",
    "        [\n",
    "            (\"system\",\"You are an LLM which generates 3 paragraph for the topic given by the user.\"),\n",
    "            (\"human\",f\"Please help in generating 3 paragraph for the topic: {state['topic']}\")\n",
    "        ]\n",
    "    )\n",
    "\n",
    "    chain =  prompt_template | gpt_llm | StrOutputParser() \n",
    "\n",
    "    response = chain.invoke({\"topic\":state['topic']})\n",
    "\n",
    "    return {\"sequential_output\":response}"
   ]
  },
  {
   "cell_type": "code",
   "execution_count": 96,
   "metadata": {},
   "outputs": [],
   "source": [
    "def sequential_agent_summarizer(state:State)-> State:\n",
    "    prompt_template = ChatPromptTemplate.from_messages(\n",
    "        [\n",
    "            (\"system\",\"You are an LLM generator which helps in summarizing the output.\"),\n",
    "            (\"human\",f\"Please help in generating 3 paragraph for the output: {state['output']}\")\n",
    "        ]\n",
    "    )\n",
    "\n",
    "    chain =  prompt_template | gpt_llm | StrOutputParser() \n",
    "\n",
    "    response = chain.invoke({\"output\":state['output']})\n",
    "\n",
    "    return {\"sequence_summary_output\":response}"
   ]
  },
  {
   "cell_type": "code",
   "execution_count": 97,
   "metadata": {},
   "outputs": [],
   "source": [
    "def parallel_agent(state:State)-> State:\n",
    "\n",
    "    return {\"topic\":state['topic']}"
   ]
  },
  {
   "cell_type": "code",
   "execution_count": 98,
   "metadata": {},
   "outputs": [],
   "source": [
    "def parallel_agent_blog(state:State)-> State:\n",
    "    prompt_template = ChatPromptTemplate.from_messages(\n",
    "        [\n",
    "            (\"system\",\"You are an LLM which generates 5 lines blogs for the topic given by the user.\"),\n",
    "            (\"human\",f\"Please help in generating 5 lines blogs for the topic: {state['topic']}\")\n",
    "        ]\n",
    "    )\n",
    "\n",
    "    chain =  prompt_template | gpt_llm | StrOutputParser() \n",
    "\n",
    "    response = chain.invoke({\"topic\":state['topic']})\n",
    "\n",
    "    return {\"parallel_blog_output\":response}"
   ]
  },
  {
   "cell_type": "code",
   "execution_count": 99,
   "metadata": {},
   "outputs": [],
   "source": [
    "def parallel_agent_bullets(state:State)-> State:\n",
    "    prompt_template = ChatPromptTemplate.from_messages(\n",
    "        [\n",
    "            (\"system\",\"You are an agent that writes 5 bullet facts about the user topic\"),\n",
    "            (\"human\",f\"Please help in generating 5 bullet facts about the topic: {state['topic']}\")\n",
    "        ]\n",
    "    )\n",
    "\n",
    "    chain =  prompt_template | gpt_llm | StrOutputParser() \n",
    "\n",
    "    response = chain.invoke({\"topic\":state['topic']})\n",
    "\n",
    "    return {\"parallel_bullets_output\":response}"
   ]
  },
  {
   "cell_type": "code",
   "execution_count": 100,
   "metadata": {},
   "outputs": [],
   "source": [
    "def parallel_agent_combinator(state:State)-> State:\n",
    "    prompt_template = ChatPromptTemplate.from_messages(\n",
    "        [\n",
    "            (\"system\",\"You are an agent that helps combining both the blogs and bullet points.\"),\n",
    "            (\"human\",f\"Please help in combining blogs: \\n \\n {state[\"parallel_blog_output\"]} and bullet facts: \\n\\n {state[\"parallel_bullets_output\"]}\")\n",
    "        ]\n",
    "    )\n",
    "\n",
    "    chain =  prompt_template | gpt_llm | StrOutputParser()  \n",
    "\n",
    "    response = chain.invoke({\"parallel_blog_output\":state[\"parallel_blog_output\"], \"parallel_bullets_output\":state[\"parallel_bullets_output\"]})\n",
    "\n",
    "    return {\"combine_parallel_output\":response}"
   ]
  },
  {
   "cell_type": "code",
   "execution_count": 101,
   "metadata": {},
   "outputs": [],
   "source": [
    "graph=StateGraph(State)\n",
    "\n",
    "graph.add_node(\"classifier_agent\",classifier_agent)\n",
    "graph.add_node(\"sequential_agent\",sequential_agent)\n",
    "graph.add_node(\"sequential_agent_summarizer\",sequential_agent_summarizer)\n",
    "graph.add_node(\"parallel_agent\",parallel_agent)\n",
    "graph.add_node(\"parallel_agent_blog\",parallel_agent_blog)\n",
    "graph.add_node(\"parallel_agent_bullets\",parallel_agent_bullets)\n",
    "graph.add_node(\"parallel_agent_combinator\",parallel_agent_combinator)\n",
    "\n",
    "\n",
    "graph.add_edge(START, \"classifier_agent\")\n",
    "graph.add_conditional_edges(\"classifier_agent\",classifier_condition)\n",
    "graph.add_edge(\"sequential_agent\", \"sequential_agent_summarizer\")\n",
    "graph.add_edge(\"sequential_agent_summarizer\", END)\n",
    "graph.add_edge(\"parallel_agent\", \"parallel_agent_blog\")\n",
    "graph.add_edge(\"parallel_agent\", \"parallel_agent_bullets\")\n",
    "graph.add_edge(\"parallel_agent_bullets\", \"parallel_agent_combinator\")\n",
    "graph.add_edge(\"parallel_agent_blog\", \"parallel_agent_combinator\")\n",
    "graph.add_edge(\"parallel_agent_combinator\", END)\n",
    "\n",
    "\n",
    "workflow=graph.compile()"
   ]
  },
  {
   "cell_type": "code",
   "execution_count": 102,
   "metadata": {},
   "outputs": [
    {
     "data": {
      "image/png": "[encoded data removed]",
      "text/plain": [
       "<IPython.core.display.Image object>"
      ]
     },
     "metadata": {},
     "output_type": "display_data"
    }
   ],
   "source": [
    "display(Image(workflow.get_graph().draw_mermaid_png()))"
   ]
  },
  {
   "cell_type": "code",
   "execution_count": 105,
   "metadata": {},
   "outputs": [],
   "source": [
    "result=workflow.invoke({\"topic\":\"what is parallel chain in langgraph?\"})"
   ]
  },
  {
   "cell_type": "code",
   "execution_count": 108,
   "metadata": {},
   "outputs": [
    {
     "data": {
      "text/markdown": [
       "Parallel chains in LangGraph represent a sophisticated structure allowing multiple processes to operate simultaneously, enhancing efficiency in language modeling. By enabling various branches to process data concurrently, it fosters improved understanding and generation of complex linguistic patterns. This framework can significantly reduce the time needed for training and inference, offering a robust solution for handling large datasets. Additionally, parallel chains facilitate the exploration of diverse contextual meanings, enriching the model's capability to generate nuanced text. In summary, they are pivotal for advancing the performance of language processing tasks within the LangGraph architecture."
      ],
      "text/plain": [
       "<IPython.core.display.Markdown object>"
      ]
     },
     "execution_count": 108,
     "metadata": {},
     "output_type": "execute_result"
    }
   ],
   "source": [
    "Markdown(result[\"parallel_blog_output\"])"
   ]
  },
  {
   "cell_type": "code",
   "execution_count": 109,
   "metadata": {},
   "outputs": [
    {
     "data": {
      "text/markdown": [
       "Here are 5 bullet facts about parallel chains in LangGraph:\n",
       "\n",
       "1. **Concept Explanation**: A parallel chain in LangGraph refers to a structure where multiple processing paths run concurrently, allowing for simultaneous handling of tasks or information streams within a language processing framework.\n",
       "\n",
       "2. **Efficiency**: By utilizing parallel chains, LangGraph can enhance efficiency in language tasks, as it allows different algorithms or models to operate in tandem, reducing the overall time required for complex tasks like translation or sentiment analysis.\n",
       "\n",
       "3. **Scalability**: Parallel chains support scalability in natural language processing by enabling the framework to handle larger datasets or more complex models without a corresponding linear increase in processing time or resources.\n",
       "\n",
       "4. **Modularity**: LangGraph's use of parallel chains promotes a modular architecture, where various components or layers can be developed, tested, and optimized independently, leading to more robust and flexible language processing solutions.\n",
       "\n",
       "5. **Implementation**: In practice, implementing parallel chains in LangGraph can involve using techniques such as multi-threading or asynchronous processing to ensure that different strands of language processing can efficiently share resources and data without bottlenecks."
      ],
      "text/plain": [
       "<IPython.core.display.Markdown object>"
      ]
     },
     "execution_count": 109,
     "metadata": {},
     "output_type": "execute_result"
    }
   ],
   "source": [
    "Markdown(result[\"parallel_bullets_output\"])"
   ]
  },
  {
   "cell_type": "code",
   "execution_count": 107,
   "metadata": {},
   "outputs": [
    {
     "data": {
      "text/markdown": [
       "Certainly! Here's a combined version of the information from the blog and the bullet points on parallel chains in LangGraph:\n",
       "\n",
       "---\n",
       "\n",
       "**Parallel Chains in LangGraph**\n",
       "\n",
       "Parallel chains in LangGraph represent a sophisticated structure that enhances the efficiency and scalability of language modeling by allowing multiple processes to operate simultaneously. This innovative architecture consists of various processing paths that run concurrently, enabling the simultaneous handling of tasks or information streams within the language processing framework.\n",
       "\n",
       "### Key Features:\n",
       "\n",
       "1. **Concept Explanation**: In LangGraph, a parallel chain refers to a structure enabling multiple processing paths to function concurrently. This design facilitates the simultaneous management of tasks, leading to an enriched understanding and generation of complex linguistic patterns.\n",
       "\n",
       "2. **Efficiency**: Utilizing parallel chains significantly enhances efficiency in language processing tasks. By allowing different algorithms or models to operate in tandem, it reduces the overall time required for complex operations such as translation or sentiment analysis.\n",
       "\n",
       "3. **Scalability**: The presence of parallel chains supports scalability in natural language processing. This allows LangGraph to handle larger datasets and more complex models without a corresponding linear increase in processing time or resources, making it suitable for extensive applications.\n",
       "\n",
       "4. **Modularity**: LangGraph’s parallel chains promote a modular architecture. This modularity enables various components or layers to be developed, tested, and optimized independently, resulting in a more robust and flexible language processing solution.\n",
       "\n",
       "5. **Implementation**: In practice, implementing parallel chains in LangGraph may involve techniques such as multi-threading or asynchronous processing. These techniques ensure that different strands of language processing can efficiently share resources and data without experiencing bottlenecks.\n",
       "\n",
       "### Conclusion\n",
       "\n",
       "In summary, parallel chains are pivotal for advancing the performance of language processing tasks within the LangGraph architecture. They facilitate the exploration of diverse contextual meanings, enriching the model's ability to generate nuanced text while significantly reducing the time necessary for training and inference on large datasets.\n",
       "\n",
       "--- \n",
       "\n",
       "This combined text offers a comprehensive overview while integrating the detailed insights from the original blog and bullet points."
      ],
      "text/plain": [
       "<IPython.core.display.Markdown object>"
      ]
     },
     "execution_count": 107,
     "metadata": {},
     "output_type": "execute_result"
    }
   ],
   "source": [
    "Markdown(result[\"combine_parallel_output\"])"
   ]
  },
  {
   "cell_type": "code",
   "execution_count": 110,
   "metadata": {},
   "outputs": [
    {
     "data": {
      "text/plain": [
       "{'topic': 'what is parallel chain in langgraph?',\n",
       " 'parallel_blog_output': \"Parallel chains in LangGraph represent a sophisticated structure allowing multiple processes to operate simultaneously, enhancing efficiency in language modeling. By enabling various branches to process data concurrently, it fosters improved understanding and generation of complex linguistic patterns. This framework can significantly reduce the time needed for training and inference, offering a robust solution for handling large datasets. Additionally, parallel chains facilitate the exploration of diverse contextual meanings, enriching the model's capability to generate nuanced text. In summary, they are pivotal for advancing the performance of language processing tasks within the LangGraph architecture.\",\n",
       " 'parallel_bullets_output': \"Here are 5 bullet facts about parallel chains in LangGraph:\\n\\n1. **Concept Explanation**: A parallel chain in LangGraph refers to a structure where multiple processing paths run concurrently, allowing for simultaneous handling of tasks or information streams within a language processing framework.\\n\\n2. **Efficiency**: By utilizing parallel chains, LangGraph can enhance efficiency in language tasks, as it allows different algorithms or models to operate in tandem, reducing the overall time required for complex tasks like translation or sentiment analysis.\\n\\n3. **Scalability**: Parallel chains support scalability in natural language processing by enabling the framework to handle larger datasets or more complex models without a corresponding linear increase in processing time or resources.\\n\\n4. **Modularity**: LangGraph's use of parallel chains promotes a modular architecture, where various components or layers can be developed, tested, and optimized independently, leading to more robust and flexible language processing solutions.\\n\\n5. **Implementation**: In practice, implementing parallel chains in LangGraph can involve using techniques such as multi-threading or asynchronous processing to ensure that different strands of language processing can efficiently share resources and data without bottlenecks.\",\n",
       " 'combine_parallel_output': \"Certainly! Here's a combined version of the information from the blog and the bullet points on parallel chains in LangGraph:\\n\\n---\\n\\n**Parallel Chains in LangGraph**\\n\\nParallel chains in LangGraph represent a sophisticated structure that enhances the efficiency and scalability of language modeling by allowing multiple processes to operate simultaneously. This innovative architecture consists of various processing paths that run concurrently, enabling the simultaneous handling of tasks or information streams within the language processing framework.\\n\\n### Key Features:\\n\\n1. **Concept Explanation**: In LangGraph, a parallel chain refers to a structure enabling multiple processing paths to function concurrently. This design facilitates the simultaneous management of tasks, leading to an enriched understanding and generation of complex linguistic patterns.\\n\\n2. **Efficiency**: Utilizing parallel chains significantly enhances efficiency in language processing tasks. By allowing different algorithms or models to operate in tandem, it reduces the overall time required for complex operations such as translation or sentiment analysis.\\n\\n3. **Scalability**: The presence of parallel chains supports scalability in natural language processing. This allows LangGraph to handle larger datasets and more complex models without a corresponding linear increase in processing time or resources, making it suitable for extensive applications.\\n\\n4. **Modularity**: LangGraph’s parallel chains promote a modular architecture. This modularity enables various components or layers to be developed, tested, and optimized independently, resulting in a more robust and flexible language processing solution.\\n\\n5. **Implementation**: In practice, implementing parallel chains in LangGraph may involve techniques such as multi-threading or asynchronous processing. These techniques ensure that different strands of language processing can efficiently share resources and data without experiencing bottlenecks.\\n\\n### Conclusion\\n\\nIn summary, parallel chains are pivotal for advancing the performance of language processing tasks within the LangGraph architecture. They facilitate the exploration of diverse contextual meanings, enriching the model's ability to generate nuanced text while significantly reducing the time necessary for training and inference on large datasets.\\n\\n--- \\n\\nThis combined text offers a comprehensive overview while integrating the detailed insights from the original blog and bullet points.\",\n",
       " 'workflow_type': 'Parallel'}"
      ]
     },
     "execution_count": 110,
     "metadata": {},
     "output_type": "execute_result"
    }
   ],
   "source": [
    "result"
   ]
  },
  {
   "cell_type": "code",
   "execution_count": 111,
   "metadata": {},
   "outputs": [],
   "source": [
    "result=workflow.invoke({\"topic\":\"what is sequencing in database?\"})"
   ]
  },
  {
   "cell_type": "code",
   "execution_count": 114,
   "metadata": {},
   "outputs": [
    {
     "data": {
      "text/markdown": [
       "Sequencing in a database refers to the process of defining a specific order for data entries within a table. This can relate to the arrangement of records based on one or more attributes or fields, often to facilitate efficient data retrieval, enhance readability, or maintain data integrity. For example, sequencing can enable a database to sort customer records by their names, transaction dates, or any other relevant identifier, making it easier for users to locate specific entries or analyze trends over time. By implementing sequencing, databases can effectively manage large volumes of data while ensuring that it remains accessible and organized.\n",
       "\n",
       "In relational databases, sequencing is often implemented through unique constraints like primary keys, which enforce a particular order for records. Additionally, databases can use auto-incrementing fields to create a sequence of unique numeric identifiers for each record, ensuring that each entry can be uniquely identified and referenced. This is particularly valuable in scenarios where new records are frequently added and maintaining a consistent order is essential for application functionality. Moreover, database management systems often provide various indexing techniques that enhance query performance by utilizing the established sequences of data.\n",
       "\n",
       "Sequencing is also crucial in scenarios where transactional integrity is paramount. In environments employing multiple concurrent users or processes interacting with the database, maintaining a defined sequence of operations can prevent data inconsistencies and ensure data integrity. For example, in a banking application, the sequence of transactions must be strictly adhered to, as later operations may depend on the results of previous ones. Overall, effective sequencing practices play a fundamental role in optimizing database performance, ensuring data consistency, and facilitating accurate data analysis."
      ],
      "text/plain": [
       "<IPython.core.display.Markdown object>"
      ]
     },
     "execution_count": 114,
     "metadata": {},
     "output_type": "execute_result"
    }
   ],
   "source": [
    "Markdown(result[\"output\"])"
   ]
  },
  {
   "cell_type": "code",
   "execution_count": 115,
   "metadata": {},
   "outputs": [
    {
     "data": {
      "text/markdown": [
       "Sequencing in a database is a method used to establish a specific order for data entries within a table. This process can involve organizing records based on various attributes or fields to improve data retrieval efficiency, enhance readability, and maintain data integrity. For instance, sequencing allows for sorting customer records by names, transaction dates, or other identifiers, which aids users in easily locating specific entries and analyzing trends over time. As a result, databases that implement sequencing can effectively manage large volumes of data while ensuring its accessibility and organization.\n",
       "\n",
       "In relational databases, the implementation of sequencing is often achieved through unique constraints such as primary keys, which provide a systematic order for records. Auto-incrementing fields create unique numeric identifiers for each record, allowing for distinct references and support in scenarios where new records are frequently added. This is vital for maintaining consistency in order, especially in applications where the functionality relies on an ordered sequence. Furthermore, database management systems often utilize various indexing techniques that leverage established sequences to optimize query performance.\n",
       "\n",
       "Sequencing is also essential in maintaining transactional integrity, particularly in environments with multiple concurrent users interacting with the database. Adhering to a defined sequence of operations can help prevent data inconsistencies and assure data integrity. For example, in a banking application, it is critical to follow the correct sequence of transactions since subsequent operations may rely on the outcomes of previous ones. Effective sequencing practices thus play a key role in optimizing database performance, ensuring data consistency, and facilitating accurate data analysis, making it a foundational aspect of database management."
      ],
      "text/plain": [
       "<IPython.core.display.Markdown object>"
      ]
     },
     "execution_count": 115,
     "metadata": {},
     "output_type": "execute_result"
    }
   ],
   "source": [
    "Markdown(result[\"sequence_summary_output\"])"
   ]
  },
  {
   "cell_type": "code",
   "execution_count": 116,
   "metadata": {},
   "outputs": [
    {
     "data": {
      "text/plain": [
       "{'topic': 'what is sequencing in database?',\n",
       " 'output': 'Sequencing in a database refers to the process of defining a specific order for data entries within a table. This can relate to the arrangement of records based on one or more attributes or fields, often to facilitate efficient data retrieval, enhance readability, or maintain data integrity. For example, sequencing can enable a database to sort customer records by their names, transaction dates, or any other relevant identifier, making it easier for users to locate specific entries or analyze trends over time. By implementing sequencing, databases can effectively manage large volumes of data while ensuring that it remains accessible and organized.\\n\\nIn relational databases, sequencing is often implemented through unique constraints like primary keys, which enforce a particular order for records. Additionally, databases can use auto-incrementing fields to create a sequence of unique numeric identifiers for each record, ensuring that each entry can be uniquely identified and referenced. This is particularly valuable in scenarios where new records are frequently added and maintaining a consistent order is essential for application functionality. Moreover, database management systems often provide various indexing techniques that enhance query performance by utilizing the established sequences of data.\\n\\nSequencing is also crucial in scenarios where transactional integrity is paramount. In environments employing multiple concurrent users or processes interacting with the database, maintaining a defined sequence of operations can prevent data inconsistencies and ensure data integrity. For example, in a banking application, the sequence of transactions must be strictly adhered to, as later operations may depend on the results of previous ones. Overall, effective sequencing practices play a fundamental role in optimizing database performance, ensuring data consistency, and facilitating accurate data analysis.',\n",
       " 'sequence_summary_output': 'Sequencing in a database is a method used to establish a specific order for data entries within a table. This process can involve organizing records based on various attributes or fields to improve data retrieval efficiency, enhance readability, and maintain data integrity. For instance, sequencing allows for sorting customer records by names, transaction dates, or other identifiers, which aids users in easily locating specific entries and analyzing trends over time. As a result, databases that implement sequencing can effectively manage large volumes of data while ensuring its accessibility and organization.\\n\\nIn relational databases, the implementation of sequencing is often achieved through unique constraints such as primary keys, which provide a systematic order for records. Auto-incrementing fields create unique numeric identifiers for each record, allowing for distinct references and support in scenarios where new records are frequently added. This is vital for maintaining consistency in order, especially in applications where the functionality relies on an ordered sequence. Furthermore, database management systems often utilize various indexing techniques that leverage established sequences to optimize query performance.\\n\\nSequencing is also essential in maintaining transactional integrity, particularly in environments with multiple concurrent users interacting with the database. Adhering to a defined sequence of operations can help prevent data inconsistencies and assure data integrity. For example, in a banking application, it is critical to follow the correct sequence of transactions since subsequent operations may rely on the outcomes of previous ones. Effective sequencing practices thus play a key role in optimizing database performance, ensuring data consistency, and facilitating accurate data analysis, making it a foundational aspect of database management.',\n",
       " 'workflow_type': 'Sequence'}"
      ]
     },
     "execution_count": 116,
     "metadata": {},
     "output_type": "execute_result"
    }
   ],
   "source": [
    "result"
   ]
  }
 ],
 "metadata": {
  "kernelspec": {
   "display_name": "ai_practice",
   "language": "python",
   "name": "python3"
  },
  "language_info": {
   "codemirror_mode": {
    "name": "ipython",
    "version": 3
   },
   "file_extension": ".py",
   "mimetype": "text/x-python",
   "name": "python",
   "nbconvert_exporter": "python",
   "pygments_lexer": "ipython3",
   "version": "3.13.7"
  }
 },
 "nbformat": 4,
 "nbformat_minor": 2
}
